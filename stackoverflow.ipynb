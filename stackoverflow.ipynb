{
  "nbformat": 4,
  "nbformat_minor": 0,
  "metadata": {
    "colab": {
      "name": "stackoverflow.ipynb",
      "provenance": [],
      "authorship_tag": "ABX9TyM7ecsFhNzClXnV5wOXNfGE",
      "include_colab_link": true
    },
    "kernelspec": {
      "name": "python3",
      "display_name": "Python 3"
    },
    "language_info": {
      "name": "python"
    }
  },
  "cells": [
    {
      "cell_type": "markdown",
      "metadata": {
        "id": "view-in-github",
        "colab_type": "text"
      },
      "source": [
        "<a href=\"https://colab.research.google.com/github/maitreyee-github/AI-Learning/blob/main/stackoverflow.ipynb\" target=\"_parent\"><img src=\"https://colab.research.google.com/assets/colab-badge.svg\" alt=\"Open In Colab\"/></a>"
      ]
    },
    {
      "cell_type": "markdown",
      "source": [
        "**case1:**"
      ],
      "metadata": {
        "id": "c26T5VSX19fz"
      }
    },
    {
      "cell_type": "code",
      "source": [
        "from pandas._libs import index\n",
        "import pandas as pd\n",
        "import numpy as np\n",
        "dfx= pd.DataFrame({\"x\": np.array([4,5,6], dtype=\"int32\")})\n",
        "P=dfx.iloc[:, dfx.columns.get_loc(\"x\")] = 0\n",
        "P1=dfx.iloc[:, dfx.columns.get_loc(\"x\")]\n",
        "print(P1)\n",
        "print(P)\n",
        "print(dfx[\"x\"].dtype)\n",
        "\n",
        "dfy= pd.DataFrame({\"y\": np.array([4,5,6], dtype=\"int32\")})\n",
        "Q=dfy.iloc[0:len(dfy.index), dfy.columns.get_loc(\"y\")] = 0\n",
        "print(Q)\n",
        "Q1=dfy.iloc[0:len(dfy.index), dfy.columns.get_loc(\"y\")]\n",
        "print(Q1)\n",
        "print(dfy[\"y\"].dtype)\n",
        "print(len(dfx.index))\n",
        "print(len(dfy.index))\n",
        "\n"
      ],
      "metadata": {
        "colab": {
          "base_uri": "https://localhost:8080/"
        },
        "id": "CbWHOQ-q2APJ",
        "outputId": "734a0fb1-366d-4c01-e7c1-3e7436f06977"
      },
      "execution_count": 13,
      "outputs": [
        {
          "output_type": "stream",
          "name": "stdout",
          "text": [
            "0    0\n",
            "1    0\n",
            "2    0\n",
            "Name: x, dtype: int64\n",
            "0\n",
            "int64\n",
            "0\n",
            "0    0\n",
            "1    0\n",
            "2    0\n",
            "Name: y, dtype: int32\n",
            "int32\n",
            "3\n",
            "3\n"
          ]
        }
      ]
    }
  ]
}