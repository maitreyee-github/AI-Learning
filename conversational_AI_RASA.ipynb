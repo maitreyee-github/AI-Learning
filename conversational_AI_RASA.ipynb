{
 "cells": [
  {
   "cell_type": "markdown",
   "metadata": {
    "id": "K6Ak0WepyUns"
   },
   "source": [
    "**Chatbot Problem Statement :** \n",
    "\n",
    "AI / ML based Chatbot technology to be used in order to streamline work email , find files, answer user problems and scrape through URLs. Results is Automated speak or typed replies that answers user needs. Flow : Identify Problem of user using AI >> Analyze Problem using Machine learning /NLP models >> Solution /Results as replies (Text/speak) ."
   ]
  },
  {
   "cell_type": "markdown",
   "metadata": {
    "id": "wNnwbSgpycEU"
   },
   "source": [
    " \n",
    "![Picture1.jpg](data:image/jpeg;base64,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)\n",
    "\n",
    "Basic Architecture "
   ]
  },
  {
   "cell_type": "markdown",
   "metadata": {
    "id": "d1X-HT3Ay0G9"
   },
   "source": [
    "Ideology: Rasa + Python( cloud based jupyter notebook colab) = Chatbot\n",
    "\n",
    "Rasa- Rasa is a tool to build custom AI chatbots using Python and natural language understanding (NLU). link : https://rasa.com/\n",
    "\n",
    "Google Colab-Colab allows anybody to write and execute arbitrary python code through the browser, and is especially well suited to machine learning, data analysis and education.link: https://colab.research.google.com/?utm_source=scs-index#scrollTo=1S58V4NLil1c"
   ]
  },
  {
   "cell_type": "code",
   "execution_count": 1,
   "metadata": {
    "colab": {
     "base_uri": "https://localhost:8080/",
     "height": 1000
    },
    "id": "ifYhX7hVyW4W",
    "outputId": "2930de9c-1a72-440e-f80d-be8a56b40a7a"
   },
   "outputs": [
    {
     "name": "stdout",
     "output_type": "stream",
     "text": [
      "Collecting rasa==1.10.3\n",
      "  Downloading rasa-1.10.3-py3-none-any.whl (510 kB)\n",
      "\u001b[K     |████████████████████████████████| 510 kB 5.5 MB/s \n",
      "\u001b[?25hCollecting jsonschema<3.3,>=3.2\n",
      "  Downloading jsonschema-3.2.0-py2.py3-none-any.whl (56 kB)\n",
      "\u001b[K     |████████████████████████████████| 56 kB 3.1 MB/s \n",
      "\u001b[?25hCollecting redis<4.0,>=3.4\n",
      "  Downloading redis-3.5.3-py2.py3-none-any.whl (72 kB)\n",
      "\u001b[K     |████████████████████████████████| 72 kB 366 kB/s \n",
      "\u001b[?25hRequirement already satisfied: setuptools>=41.0.0 in /usr/local/lib/python3.7/dist-packages (from rasa==1.10.3) (57.4.0)\n",
      "Collecting attrs<19.4,>=19.3\n",
      "  Downloading attrs-19.3.0-py2.py3-none-any.whl (39 kB)\n",
      "Requirement already satisfied: oauth2client==4.1.3 in /usr/local/lib/python3.7/dist-packages (from rasa==1.10.3) (4.1.3)\n",
      "Collecting tensorflow-probability<0.10,>=0.7\n",
      "  Downloading tensorflow_probability-0.9.0-py2.py3-none-any.whl (3.2 MB)\n",
      "\u001b[K     |████████████████████████████████| 3.2 MB 34.1 MB/s \n",
      "\u001b[?25hCollecting multidict<5.0,>=4.6\n",
      "  Downloading multidict-4.7.6-cp37-cp37m-manylinux1_x86_64.whl (149 kB)\n",
      "\u001b[K     |████████████████████████████████| 149 kB 43.8 MB/s \n",
      "\u001b[?25hCollecting colorhash<1.1.0,>=1.0.2\n",
      "  Downloading colorhash-1.0.4-py3-none-any.whl (5.5 kB)\n",
      "Collecting pytz<2020.0,>=2019.1\n",
      "  Downloading pytz-2019.3-py2.py3-none-any.whl (509 kB)\n",
      "\u001b[K     |████████████████████████████████| 509 kB 44.9 MB/s \n",
      "\u001b[?25hCollecting coloredlogs<11.0,>=10.0\n",
      "  Downloading coloredlogs-10.0-py2.py3-none-any.whl (47 kB)\n",
      "\u001b[K     |████████████████████████████████| 47 kB 4.9 MB/s \n",
      "\u001b[?25hCollecting tensorflow-addons<0.8.0,>=0.7.1\n",
      "  Downloading tensorflow_addons-0.7.1-cp37-cp37m-manylinux2010_x86_64.whl (990 kB)\n",
      "\u001b[K     |████████████████████████████████| 990 kB 52.3 MB/s \n",
      "\u001b[?25hCollecting fbmessenger<6.1.0,>=6.0.0\n",
      "  Downloading fbmessenger-6.0.0-py2.py3-none-any.whl (11 kB)\n",
      "Requirement already satisfied: scipy<2.0.0,>=1.4.1 in /usr/local/lib/python3.7/dist-packages (from rasa==1.10.3) (1.4.1)\n",
      "Collecting networkx<2.5.0,>=2.4.0\n",
      "  Downloading networkx-2.4-py3-none-any.whl (1.6 MB)\n",
      "\u001b[K     |████████████████████████████████| 1.6 MB 39.1 MB/s \n",
      "\u001b[?25hCollecting psycopg2-binary<2.9.0,>=2.8.2\n",
      "  Downloading psycopg2_binary-2.8.6-cp37-cp37m-manylinux1_x86_64.whl (3.0 MB)\n",
      "\u001b[K     |████████████████████████████████| 3.0 MB 50.9 MB/s \n",
      "\u001b[?25hCollecting rocketchat_API<1.4.0,>=0.6.31\n",
      "  Downloading rocketchat_API-1.3.1-py3-none-any.whl (9.6 kB)\n",
      "Collecting boto3<2.0,>=1.12\n",
      "  Downloading boto3-1.21.19-py3-none-any.whl (132 kB)\n",
      "\u001b[K     |████████████████████████████████| 132 kB 50.7 MB/s \n",
      "\u001b[?25hCollecting colorclass<2.3,>=2.2\n",
      "  Downloading colorclass-2.2.2-py2.py3-none-any.whl (18 kB)\n",
      "Collecting python-socketio<4.6,>=4.4\n",
      "  Downloading python_socketio-4.5.1-py2.py3-none-any.whl (51 kB)\n",
      "\u001b[K     |████████████████████████████████| 51 kB 300 kB/s \n",
      "\u001b[?25hCollecting sanic-cors<0.11.0,>=0.10.0b1\n",
      "  Downloading Sanic_Cors-0.10.0.post3-py2.py3-none-any.whl (17 kB)\n",
      "Collecting terminaltables<3.2.0,>=3.1.0\n",
      "  Downloading terminaltables-3.1.10-py2.py3-none-any.whl (15 kB)\n",
      "Collecting scikit-learn<0.23,>=0.22\n",
      "  Downloading scikit_learn-0.22.2.post1-cp37-cp37m-manylinux1_x86_64.whl (7.1 MB)\n",
      "\u001b[K     |████████████████████████████████| 7.1 MB 41.5 MB/s \n",
      "\u001b[?25hCollecting aiohttp<3.7,>=3.6\n",
      "  Downloading aiohttp-3.6.3-cp37-cp37m-manylinux1_x86_64.whl (1.2 MB)\n",
      "\u001b[K     |████████████████████████████████| 1.2 MB 41.3 MB/s \n",
      "\u001b[?25hCollecting tensorflow-estimator==2.1.0\n",
      "  Downloading tensorflow_estimator-2.1.0-py2.py3-none-any.whl (448 kB)\n",
      "\u001b[K     |████████████████████████████████| 448 kB 49.4 MB/s \n",
      "\u001b[?25hCollecting kafka-python<2.0,>=1.4\n",
      "  Downloading kafka_python-1.4.7-py2.py3-none-any.whl (266 kB)\n",
      "\u001b[K     |████████████████████████████████| 266 kB 69.8 MB/s \n",
      "\u001b[?25hRequirement already satisfied: numpy<2.0,>=1.16 in /usr/local/lib/python3.7/dist-packages (from rasa==1.10.3) (1.21.5)\n",
      "Collecting sanic<20.0.0,>=19.12.2\n",
      "  Downloading sanic-19.12.5-py3-none-any.whl (73 kB)\n",
      "\u001b[K     |████████████████████████████████| 73 kB 1.8 MB/s \n",
      "\u001b[?25hCollecting pydot<1.5,>=1.4\n",
      "  Downloading pydot-1.4.2-py2.py3-none-any.whl (21 kB)\n",
      "Collecting packaging<21.0,>=20.0\n",
      "  Downloading packaging-20.9-py2.py3-none-any.whl (40 kB)\n",
      "\u001b[K     |████████████████████████████████| 40 kB 6.4 MB/s \n",
      "\u001b[?25hCollecting sklearn-crfsuite<0.4,>=0.3\n",
      "  Downloading sklearn_crfsuite-0.3.6-py2.py3-none-any.whl (12 kB)\n",
      "Requirement already satisfied: python-dateutil<2.9,>=2.8 in /usr/local/lib/python3.7/dist-packages (from rasa==1.10.3) (2.8.2)\n",
      "Collecting prompt-toolkit<3.0,>=2.0\n",
      "  Downloading prompt_toolkit-2.0.10-py3-none-any.whl (340 kB)\n",
      "\u001b[K     |████████████████████████████████| 340 kB 65.2 MB/s \n",
      "\u001b[?25hCollecting mattermostwrapper<2.3,>=2.2\n",
      "  Downloading mattermostwrapper-2.2.tar.gz (2.5 kB)\n",
      "Collecting rasa-sdk<2.0.0,>=1.10.0\n",
      "  Downloading rasa_sdk-1.10.3-py3-none-any.whl (39 kB)\n",
      "Collecting sanic-jwt<1.5.0,>=1.3.2\n",
      "  Downloading sanic-jwt-1.4.1.tar.gz (19 kB)\n",
      "Collecting absl-py<0.10,>=0.9\n",
      "  Downloading absl-py-0.9.0.tar.gz (104 kB)\n",
      "\u001b[K     |████████████████████████████████| 104 kB 56.7 MB/s \n",
      "\u001b[?25hCollecting pykwalify<1.8.0,>=1.7.0\n",
      "  Downloading pykwalify-1.7.0-py2.py3-none-any.whl (40 kB)\n",
      "\u001b[K     |████████████████████████████████| 40 kB 5.1 MB/s \n",
      "\u001b[?25hCollecting tensorflow<2.2,>=2.1\n",
      "  Downloading tensorflow-2.1.4-cp37-cp37m-manylinux2010_x86_64.whl (422.0 MB)\n",
      "\u001b[K     |████████████████████████████████| 422.0 MB 30 kB/s \n",
      "\u001b[?25hRequirement already satisfied: cloudpickle<1.4,>=1.2 in /usr/local/lib/python3.7/dist-packages (from rasa==1.10.3) (1.3.0)\n",
      "Collecting tqdm<4.46,>=4.31\n",
      "  Downloading tqdm-4.45.0-py2.py3-none-any.whl (60 kB)\n",
      "\u001b[K     |████████████████████████████████| 60 kB 7.7 MB/s \n",
      "\u001b[?25hCollecting python-telegram-bot<13.0,>=11.1\n",
      "  Downloading python_telegram_bot-12.8-py2.py3-none-any.whl (375 kB)\n",
      "\u001b[K     |████████████████████████████████| 375 kB 58.1 MB/s \n",
      "\u001b[?25hCollecting ruamel.yaml<0.17,>=0.16\n",
      "  Downloading ruamel.yaml-0.16.13-py2.py3-none-any.whl (111 kB)\n",
      "\u001b[K     |████████████████████████████████| 111 kB 48.8 MB/s \n",
      "\u001b[?25hCollecting tensorflow_hub<0.9,>=0.7\n",
      "  Downloading tensorflow_hub-0.8.0-py2.py3-none-any.whl (101 kB)\n",
      "\u001b[K     |████████████████████████████████| 101 kB 12.6 MB/s \n",
      "\u001b[?25hCollecting pika<1.2.0,>=1.1.0\n",
      "  Downloading pika-1.1.0-py2.py3-none-any.whl (148 kB)\n",
      "\u001b[K     |████████████████████████████████| 148 kB 58.4 MB/s \n",
      "\u001b[?25hCollecting PyJWT<1.8,>=1.7\n",
      "  Downloading PyJWT-1.7.1-py2.py3-none-any.whl (18 kB)\n",
      "Requirement already satisfied: requests<3.0,>=2.23 in /usr/local/lib/python3.7/dist-packages (from rasa==1.10.3) (2.23.0)\n",
      "Collecting twilio<6.27,>=6.26\n",
      "  Downloading twilio-6.26.3-py2.py3-none-any.whl (979 kB)\n",
      "\u001b[K     |████████████████████████████████| 979 kB 45.0 MB/s \n",
      "\u001b[?25hCollecting ujson<3.0,>=1.35\n",
      "  Downloading ujson-2.0.3-cp37-cp37m-manylinux1_x86_64.whl (174 kB)\n",
      "\u001b[K     |████████████████████████████████| 174 kB 70.9 MB/s \n",
      "\u001b[?25hCollecting slackclient<3.0.0,>=2.0.0\n",
      "  Downloading slackclient-2.9.3-py2.py3-none-any.whl (96 kB)\n",
      "\u001b[K     |████████████████████████████████| 96 kB 7.0 MB/s \n",
      "\u001b[?25hCollecting webexteamssdk<1.4.0,>=1.1.1\n",
      "  Downloading webexteamssdk-1.3.tar.gz (56 kB)\n",
      "\u001b[K     |████████████████████████████████| 56 kB 5.6 MB/s \n",
      "\u001b[?25hCollecting jsonpickle<1.5,>=1.3\n",
      "  Downloading jsonpickle-1.4.2-py2.py3-none-any.whl (36 kB)\n",
      "Collecting apscheduler<3.7,>=3.6\n",
      "  Downloading APScheduler-3.6.3-py2.py3-none-any.whl (58 kB)\n",
      "\u001b[K     |████████████████████████████████| 58 kB 5.9 MB/s \n",
      "\u001b[?25hCollecting gevent<1.6,>=1.4\n",
      "  Downloading gevent-1.5.0-cp37-cp37m-manylinux2010_x86_64.whl (5.1 MB)\n",
      "\u001b[K     |████████████████████████████████| 5.1 MB 43.1 MB/s \n",
      "\u001b[?25hCollecting SQLAlchemy<1.4.0,>=1.3.3\n",
      "  Downloading SQLAlchemy-1.3.24-cp37-cp37m-manylinux2010_x86_64.whl (1.3 MB)\n",
      "\u001b[K     |████████████████████████████████| 1.3 MB 57.4 MB/s \n",
      "\u001b[?25hCollecting pymongo[srv,tls]<3.9.0,>=3.8.0\n",
      "  Downloading pymongo-3.8.0-cp37-cp37m-manylinux1_x86_64.whl (417 kB)\n",
      "\u001b[K     |████████████████████████████████| 417 kB 50.1 MB/s \n",
      "\u001b[?25hCollecting questionary<1.6.0,>=1.5.1\n",
      "  Downloading questionary-1.5.2-py3-none-any.whl (26 kB)\n",
      "Collecting async_generator<1.11,>=1.10\n",
      "  Downloading async_generator-1.10-py3-none-any.whl (18 kB)\n",
      "Collecting python-engineio<3.13,>=3.11\n",
      "  Downloading python_engineio-3.12.1-py2.py3-none-any.whl (49 kB)\n",
      "\u001b[K     |████████████████████████████████| 49 kB 6.5 MB/s \n",
      "\u001b[?25hRequirement already satisfied: matplotlib<3.3,>=3.1 in /usr/local/lib/python3.7/dist-packages (from rasa==1.10.3) (3.2.2)\n",
      "Requirement already satisfied: pyasn1>=0.1.7 in /usr/local/lib/python3.7/dist-packages (from oauth2client==4.1.3->rasa==1.10.3) (0.4.8)\n",
      "Requirement already satisfied: six>=1.6.1 in /usr/local/lib/python3.7/dist-packages (from oauth2client==4.1.3->rasa==1.10.3) (1.15.0)\n",
      "Requirement already satisfied: rsa>=3.1.4 in /usr/local/lib/python3.7/dist-packages (from oauth2client==4.1.3->rasa==1.10.3) (4.8)\n",
      "Requirement already satisfied: pyasn1-modules>=0.0.5 in /usr/local/lib/python3.7/dist-packages (from oauth2client==4.1.3->rasa==1.10.3) (0.2.8)\n",
      "Requirement already satisfied: httplib2>=0.9.1 in /usr/local/lib/python3.7/dist-packages (from oauth2client==4.1.3->rasa==1.10.3) (0.17.4)\n",
      "Collecting yarl<1.6.0,>=1.0\n",
      "  Downloading yarl-1.5.1-cp37-cp37m-manylinux1_x86_64.whl (258 kB)\n",
      "\u001b[K     |████████████████████████████████| 258 kB 68.5 MB/s \n",
      "\u001b[?25hCollecting async-timeout<4.0,>=3.0\n",
      "  Downloading async_timeout-3.0.1-py3-none-any.whl (8.2 kB)\n",
      "Requirement already satisfied: chardet<4.0,>=2.0 in /usr/local/lib/python3.7/dist-packages (from aiohttp<3.7,>=3.6->rasa==1.10.3) (3.0.4)\n",
      "Requirement already satisfied: tzlocal>=1.2 in /usr/local/lib/python3.7/dist-packages (from apscheduler<3.7,>=3.6->rasa==1.10.3) (1.5.1)\n",
      "Collecting s3transfer<0.6.0,>=0.5.0\n",
      "  Downloading s3transfer-0.5.2-py3-none-any.whl (79 kB)\n",
      "\u001b[K     |████████████████████████████████| 79 kB 8.3 MB/s \n",
      "\u001b[?25hCollecting jmespath<1.0.0,>=0.7.1\n",
      "  Downloading jmespath-0.10.0-py2.py3-none-any.whl (24 kB)\n",
      "Collecting botocore<1.25.0,>=1.24.19\n",
      "  Downloading botocore-1.24.19-py3-none-any.whl (8.6 MB)\n",
      "\u001b[K     |████████████████████████████████| 8.6 MB 54.1 MB/s \n",
      "\u001b[?25hCollecting urllib3<1.27,>=1.25.4\n",
      "  Downloading urllib3-1.26.8-py2.py3-none-any.whl (138 kB)\n",
      "\u001b[K     |████████████████████████████████| 138 kB 60.5 MB/s \n",
      "\u001b[?25hCollecting humanfriendly>=4.7\n",
      "  Downloading humanfriendly-10.0-py2.py3-none-any.whl (86 kB)\n",
      "\u001b[K     |████████████████████████████████| 86 kB 6.9 MB/s \n",
      "\u001b[?25hRequirement already satisfied: greenlet>=0.4.14 in /usr/local/lib/python3.7/dist-packages (from gevent<1.6,>=1.4->rasa==1.10.3) (1.1.2)\n",
      "Requirement already satisfied: importlib-metadata in /usr/local/lib/python3.7/dist-packages (from jsonpickle<1.5,>=1.3->rasa==1.10.3) (4.11.2)\n",
      "Requirement already satisfied: pyrsistent>=0.14.0 in /usr/local/lib/python3.7/dist-packages (from jsonschema<3.3,>=3.2->rasa==1.10.3) (0.18.1)\n",
      "Requirement already satisfied: pyparsing!=2.0.4,!=2.1.2,!=2.1.6,>=2.0.1 in /usr/local/lib/python3.7/dist-packages (from matplotlib<3.3,>=3.1->rasa==1.10.3) (3.0.7)\n",
      "Requirement already satisfied: kiwisolver>=1.0.1 in /usr/local/lib/python3.7/dist-packages (from matplotlib<3.3,>=3.1->rasa==1.10.3) (1.3.2)\n",
      "Requirement already satisfied: cycler>=0.10 in /usr/local/lib/python3.7/dist-packages (from matplotlib<3.3,>=3.1->rasa==1.10.3) (0.11.0)\n",
      "Requirement already satisfied: decorator>=4.3.0 in /usr/local/lib/python3.7/dist-packages (from networkx<2.5.0,>=2.4.0->rasa==1.10.3) (4.4.2)\n",
      "Requirement already satisfied: wcwidth in /usr/local/lib/python3.7/dist-packages (from prompt-toolkit<3.0,>=2.0->rasa==1.10.3) (0.2.5)\n",
      "Requirement already satisfied: PyYAML>=3.11 in /usr/local/lib/python3.7/dist-packages (from pykwalify<1.8.0,>=1.7.0->rasa==1.10.3) (3.13)\n",
      "Requirement already satisfied: docopt>=0.6.2 in /usr/local/lib/python3.7/dist-packages (from pykwalify<1.8.0,>=1.7.0->rasa==1.10.3) (0.6.2)\n",
      "Collecting dnspython<2.0.0,>=1.13.0\n",
      "  Downloading dnspython-1.16.0-py2.py3-none-any.whl (188 kB)\n",
      "\u001b[K     |████████████████████████████████| 188 kB 60.2 MB/s \n",
      "\u001b[?25hRequirement already satisfied: tornado>=5.1 in /usr/local/lib/python3.7/dist-packages (from python-telegram-bot<13.0,>=11.1->rasa==1.10.3) (5.1.1)\n",
      "Collecting cryptography\n",
      "  Downloading cryptography-36.0.1-cp36-abi3-manylinux_2_24_x86_64.whl (3.6 MB)\n",
      "\u001b[K     |████████████████████████████████| 3.6 MB 36.9 MB/s \n",
      "\u001b[?25hRequirement already satisfied: certifi in /usr/local/lib/python3.7/dist-packages (from python-telegram-bot<13.0,>=11.1->rasa==1.10.3) (2021.10.8)\n",
      "Collecting urllib3<1.27,>=1.25.4\n",
      "  Downloading urllib3-1.25.11-py2.py3-none-any.whl (127 kB)\n",
      "\u001b[K     |████████████████████████████████| 127 kB 58.1 MB/s \n",
      "\u001b[?25hRequirement already satisfied: idna<3,>=2.5 in /usr/local/lib/python3.7/dist-packages (from requests<3.0,>=2.23->rasa==1.10.3) (2.10)\n",
      "Collecting ruamel.yaml.clib>=0.1.2\n",
      "  Downloading ruamel.yaml.clib-0.2.6-cp37-cp37m-manylinux1_x86_64.whl (546 kB)\n",
      "\u001b[K     |████████████████████████████████| 546 kB 73.2 MB/s \n",
      "\u001b[?25hCollecting uvloop<0.15.0,>=0.5.3\n",
      "  Downloading uvloop-0.14.0-cp37-cp37m-manylinux2010_x86_64.whl (3.8 MB)\n",
      "\u001b[K     |████████████████████████████████| 3.8 MB 49.6 MB/s \n",
      "\u001b[?25hCollecting sanic<20.0.0,>=19.12.2\n",
      "  Downloading sanic-19.12.4-py3-none-any.whl (73 kB)\n",
      "\u001b[K     |████████████████████████████████| 73 kB 1.4 MB/s \n",
      "\u001b[?25hCollecting uvloop>=0.5.3\n",
      "  Downloading uvloop-0.16.0-cp37-cp37m-manylinux_2_12_x86_64.manylinux2010_x86_64.whl (3.8 MB)\n",
      "\u001b[K     |████████████████████████████████| 3.8 MB 35.7 MB/s \n",
      "\u001b[?25hCollecting sanic<20.0.0,>=19.12.2\n",
      "  Downloading sanic-19.12.3-py3-none-any.whl (72 kB)\n",
      "\u001b[K     |████████████████████████████████| 72 kB 1.3 MB/s \n",
      "\u001b[?25h  Downloading sanic-19.12.2-py3-none-any.whl (72 kB)\n",
      "\u001b[K     |████████████████████████████████| 72 kB 938 kB/s \n",
      "\u001b[?25hCollecting websockets<9.0,>=7.0\n",
      "  Downloading websockets-8.1-cp37-cp37m-manylinux2010_x86_64.whl (79 kB)\n",
      "\u001b[K     |████████████████████████████████| 79 kB 8.7 MB/s \n",
      "\u001b[?25hCollecting aiofiles>=0.3.0\n",
      "  Downloading aiofiles-0.8.0-py3-none-any.whl (13 kB)\n",
      "Collecting httpx==0.9.3\n",
      "  Downloading httpx-0.9.3-py2.py3-none-any.whl (64 kB)\n",
      "\u001b[K     |████████████████████████████████| 64 kB 3.6 MB/s \n",
      "\u001b[?25hCollecting httptools>=0.0.10\n",
      "  Downloading httptools-0.4.0-cp37-cp37m-manylinux_2_5_x86_64.manylinux1_x86_64.manylinux_2_12_x86_64.manylinux2010_x86_64.whl (406 kB)\n",
      "\u001b[K     |████████████████████████████████| 406 kB 58.9 MB/s \n",
      "\u001b[?25hCollecting h2==3.*\n",
      "  Downloading h2-3.2.0-py2.py3-none-any.whl (65 kB)\n",
      "\u001b[K     |████████████████████████████████| 65 kB 3.7 MB/s \n",
      "\u001b[?25hCollecting h11==0.8.*\n",
      "  Downloading h11-0.8.1-py2.py3-none-any.whl (55 kB)\n",
      "\u001b[K     |████████████████████████████████| 55 kB 4.0 MB/s \n",
      "\u001b[?25hCollecting hstspreload\n",
      "  Downloading hstspreload-2021.12.1-py3-none-any.whl (1.3 MB)\n",
      "\u001b[K     |████████████████████████████████| 1.3 MB 64.2 MB/s \n",
      "\u001b[?25hCollecting rfc3986<2,>=1.3\n",
      "  Downloading rfc3986-1.5.0-py2.py3-none-any.whl (31 kB)\n",
      "Collecting sniffio==1.*\n",
      "  Downloading sniffio-1.2.0-py3-none-any.whl (10 kB)\n",
      "Collecting hpack<4,>=3.0\n",
      "  Downloading hpack-3.0.0-py2.py3-none-any.whl (38 kB)\n",
      "Collecting hyperframe<6,>=5.2.0\n",
      "  Downloading hyperframe-5.2.0-py2.py3-none-any.whl (12 kB)\n",
      "Collecting sanic-plugins-framework>=0.9.0\n",
      "  Downloading Sanic_Plugins_Framework-0.9.5-py2.py3-none-any.whl (23 kB)\n",
      "Requirement already satisfied: joblib>=0.11 in /usr/local/lib/python3.7/dist-packages (from scikit-learn<0.23,>=0.22->rasa==1.10.3) (1.1.0)\n",
      "Requirement already satisfied: tabulate in /usr/local/lib/python3.7/dist-packages (from sklearn-crfsuite<0.4,>=0.3->rasa==1.10.3) (0.8.9)\n",
      "Collecting python-crfsuite>=0.8.3\n",
      "  Downloading python_crfsuite-0.9.7-cp37-cp37m-manylinux1_x86_64.whl (743 kB)\n",
      "\u001b[K     |████████████████████████████████| 743 kB 47.6 MB/s \n",
      "\u001b[?25hCollecting h5py<=2.10.0\n",
      "  Downloading h5py-2.10.0-cp37-cp37m-manylinux1_x86_64.whl (2.9 MB)\n",
      "\u001b[K     |████████████████████████████████| 2.9 MB 30.0 MB/s \n",
      "\u001b[?25hRequirement already satisfied: protobuf>=3.8.0 in /usr/local/lib/python3.7/dist-packages (from tensorflow<2.2,>=2.1->rasa==1.10.3) (3.17.3)\n",
      "Collecting tensorboard<2.2.0,>=2.1.0\n",
      "  Downloading tensorboard-2.1.1-py3-none-any.whl (3.8 MB)\n",
      "\u001b[K     |████████████████████████████████| 3.8 MB 40.9 MB/s \n",
      "\u001b[?25hCollecting numpy<2.0,>=1.16\n",
      "  Downloading numpy-1.18.5-cp37-cp37m-manylinux1_x86_64.whl (20.1 MB)\n",
      "\u001b[K     |████████████████████████████████| 20.1 MB 1.2 MB/s \n",
      "\u001b[?25hRequirement already satisfied: opt-einsum>=2.3.2 in /usr/local/lib/python3.7/dist-packages (from tensorflow<2.2,>=2.1->rasa==1.10.3) (3.3.0)\n",
      "Requirement already satisfied: termcolor>=1.1.0 in /usr/local/lib/python3.7/dist-packages (from tensorflow<2.2,>=2.1->rasa==1.10.3) (1.1.0)\n",
      "Requirement already satisfied: grpcio>=1.8.6 in /usr/local/lib/python3.7/dist-packages (from tensorflow<2.2,>=2.1->rasa==1.10.3) (1.44.0)\n",
      "Requirement already satisfied: wheel>=0.26 in /usr/local/lib/python3.7/dist-packages (from tensorflow<2.2,>=2.1->rasa==1.10.3) (0.37.1)\n",
      "Collecting keras-preprocessing==1.1.0\n",
      "  Downloading Keras_Preprocessing-1.1.0-py2.py3-none-any.whl (41 kB)\n",
      "\u001b[K     |████████████████████████████████| 41 kB 801 kB/s \n",
      "\u001b[?25hCollecting keras-applications>=1.0.8\n",
      "  Downloading Keras_Applications-1.0.8-py3-none-any.whl (50 kB)\n",
      "\u001b[K     |████████████████████████████████| 50 kB 7.4 MB/s \n",
      "\u001b[?25hCollecting gast==0.2.2\n",
      "  Downloading gast-0.2.2.tar.gz (10 kB)\n",
      "Requirement already satisfied: google-pasta>=0.1.6 in /usr/local/lib/python3.7/dist-packages (from tensorflow<2.2,>=2.1->rasa==1.10.3) (0.2.0)\n",
      "Requirement already satisfied: wrapt>=1.11.1 in /usr/local/lib/python3.7/dist-packages (from tensorflow<2.2,>=2.1->rasa==1.10.3) (1.13.3)\n",
      "Requirement already satisfied: astor>=0.6.0 in /usr/local/lib/python3.7/dist-packages (from tensorflow<2.2,>=2.1->rasa==1.10.3) (0.8.1)\n",
      "Requirement already satisfied: markdown>=2.6.8 in /usr/local/lib/python3.7/dist-packages (from tensorboard<2.2.0,>=2.1.0->tensorflow<2.2,>=2.1->rasa==1.10.3) (3.3.6)\n",
      "Requirement already satisfied: google-auth<2,>=1.6.3 in /usr/local/lib/python3.7/dist-packages (from tensorboard<2.2.0,>=2.1.0->tensorflow<2.2,>=2.1->rasa==1.10.3) (1.35.0)\n",
      "Requirement already satisfied: google-auth-oauthlib<0.5,>=0.4.1 in /usr/local/lib/python3.7/dist-packages (from tensorboard<2.2.0,>=2.1.0->tensorflow<2.2,>=2.1->rasa==1.10.3) (0.4.6)\n",
      "Requirement already satisfied: werkzeug>=0.11.15 in /usr/local/lib/python3.7/dist-packages (from tensorboard<2.2.0,>=2.1.0->tensorflow<2.2,>=2.1->rasa==1.10.3) (1.0.1)\n",
      "Requirement already satisfied: cachetools<5.0,>=2.0.0 in /usr/local/lib/python3.7/dist-packages (from google-auth<2,>=1.6.3->tensorboard<2.2.0,>=2.1.0->tensorflow<2.2,>=2.1->rasa==1.10.3) (4.2.4)\n",
      "Requirement already satisfied: requests-oauthlib>=0.7.0 in /usr/local/lib/python3.7/dist-packages (from google-auth-oauthlib<0.5,>=0.4.1->tensorboard<2.2.0,>=2.1.0->tensorflow<2.2,>=2.1->rasa==1.10.3) (1.3.1)\n",
      "Requirement already satisfied: zipp>=0.5 in /usr/local/lib/python3.7/dist-packages (from importlib-metadata->jsonpickle<1.5,>=1.3->rasa==1.10.3) (3.7.0)\n",
      "Requirement already satisfied: typing-extensions>=3.6.4 in /usr/local/lib/python3.7/dist-packages (from importlib-metadata->jsonpickle<1.5,>=1.3->rasa==1.10.3) (3.10.0.2)\n",
      "Requirement already satisfied: oauthlib>=3.0.0 in /usr/local/lib/python3.7/dist-packages (from requests-oauthlib>=0.7.0->google-auth-oauthlib<0.5,>=0.4.1->tensorboard<2.2.0,>=2.1.0->tensorflow<2.2,>=2.1->rasa==1.10.3) (3.2.0)\n",
      "Requirement already satisfied: pysocks in /usr/local/lib/python3.7/dist-packages (from twilio<6.27,>=6.26->rasa==1.10.3) (1.7.1)\n",
      "Requirement already satisfied: future in /usr/local/lib/python3.7/dist-packages (from webexteamssdk<1.4.0,>=1.1.1->rasa==1.10.3) (0.16.0)\n",
      "Collecting requests-toolbelt\n",
      "  Downloading requests_toolbelt-0.9.1-py2.py3-none-any.whl (54 kB)\n",
      "\u001b[K     |████████████████████████████████| 54 kB 2.9 MB/s \n",
      "\u001b[?25hRequirement already satisfied: cffi>=1.12 in /usr/local/lib/python3.7/dist-packages (from cryptography->python-telegram-bot<13.0,>=11.1->rasa==1.10.3) (1.15.0)\n",
      "Requirement already satisfied: pycparser in /usr/local/lib/python3.7/dist-packages (from cffi>=1.12->cryptography->python-telegram-bot<13.0,>=11.1->rasa==1.10.3) (2.21)\n",
      "Building wheels for collected packages: absl-py, mattermostwrapper, sanic-jwt, gast, webexteamssdk\n",
      "  Building wheel for absl-py (setup.py) ... \u001b[?25l\u001b[?25hdone\n",
      "  Created wheel for absl-py: filename=absl_py-0.9.0-py3-none-any.whl size=121939 sha256=4b3eb59d7bd8b429a2e488e47cdcf3e46faee018b8e538c5b0f01320fe99cd92\n",
      "  Stored in directory: /root/.cache/pip/wheels/cc/af/1a/498a24d0730ef484019e007bb9e8cef3ac00311a672c049a3e\n",
      "  Building wheel for mattermostwrapper (setup.py) ... \u001b[?25l\u001b[?25hdone\n",
      "  Created wheel for mattermostwrapper: filename=mattermostwrapper-2.2-py3-none-any.whl size=2465 sha256=cb163ed3d6a951c3f3a283ebb57b325ec9ccdaf4f323465ad02f1a6a5ce7db78\n",
      "  Stored in directory: /root/.cache/pip/wheels/b9/70/77/6c3f3c9a6f096f765d0767b21e73598d66c3b79cb7b09b62ad\n",
      "  Building wheel for sanic-jwt (setup.py) ... \u001b[?25l\u001b[?25hdone\n",
      "  Created wheel for sanic-jwt: filename=sanic_jwt-1.4.1-py3-none-any.whl size=21613 sha256=7e64e71cfccafb3cc5a77f1dfb3d53c72307acab48bb2f3f06ef66440d5bf220\n",
      "  Stored in directory: /root/.cache/pip/wheels/26/df/b1/f72efce63fe6e26b2bae666e1cae88c68c38d718dafb9183b0\n",
      "  Building wheel for gast (setup.py) ... \u001b[?25l\u001b[?25hdone\n",
      "  Created wheel for gast: filename=gast-0.2.2-py3-none-any.whl size=7554 sha256=ab545317d4a40c6c2c30a74a4d13daef6a5aa31f851a93c8f5d05af2618baa5c\n",
      "  Stored in directory: /root/.cache/pip/wheels/21/7f/02/420f32a803f7d0967b48dd823da3f558c5166991bfd204eef3\n",
      "  Building wheel for webexteamssdk (setup.py) ... \u001b[?25l\u001b[?25hdone\n",
      "  Created wheel for webexteamssdk: filename=webexteamssdk-1.3-py3-none-any.whl size=99579 sha256=fa87c882ec1ae51af27a9d86802f3f39c9ed080a1961c9163f39354454bfdaeb\n",
      "  Stored in directory: /root/.cache/pip/wheels/08/88/4d/7fe6eec20e0658e8ad6edd9969d27114280780d7f4ef42e436\n",
      "Successfully built absl-py mattermostwrapper sanic-jwt gast webexteamssdk\n",
      "Installing collected packages: urllib3, hyperframe, hpack, sniffio, rfc3986, hstspreload, h2, h11, websockets, uvloop, ujson, numpy, multidict, httpx, httptools, aiofiles, sanic, jmespath, h5py, absl-py, yarl, tensorflow-estimator, tensorboard, sanic-plugins-framework, pytz, keras-preprocessing, keras-applications, humanfriendly, gast, botocore, attrs, async-timeout, tqdm, tensorflow, sanic-cors, s3transfer, ruamel.yaml.clib, requests-toolbelt, python-engineio, python-crfsuite, pymongo, PyJWT, prompt-toolkit, dnspython, cryptography, coloredlogs, aiohttp, webexteamssdk, twilio, terminaltables, tensorflow-probability, tensorflow-hub, tensorflow-addons, SQLAlchemy, slackclient, sklearn-crfsuite, scikit-learn, sanic-jwt, ruamel.yaml, rocketchat-API, redis, rasa-sdk, questionary, python-telegram-bot, python-socketio, pykwalify, pydot, psycopg2-binary, pika, packaging, networkx, mattermostwrapper, kafka-python, jsonschema, jsonpickle, gevent, fbmessenger, colorhash, colorclass, boto3, async-generator, apscheduler, rasa\n",
      "  Attempting uninstall: urllib3\n",
      "    Found existing installation: urllib3 1.24.3\n",
      "    Uninstalling urllib3-1.24.3:\n",
      "      Successfully uninstalled urllib3-1.24.3\n",
      "  Attempting uninstall: numpy\n",
      "    Found existing installation: numpy 1.21.5\n",
      "    Uninstalling numpy-1.21.5:\n",
      "      Successfully uninstalled numpy-1.21.5\n",
      "  Attempting uninstall: h5py\n",
      "    Found existing installation: h5py 3.1.0\n",
      "    Uninstalling h5py-3.1.0:\n",
      "      Successfully uninstalled h5py-3.1.0\n",
      "  Attempting uninstall: absl-py\n",
      "    Found existing installation: absl-py 1.0.0\n",
      "    Uninstalling absl-py-1.0.0:\n",
      "      Successfully uninstalled absl-py-1.0.0\n",
      "  Attempting uninstall: tensorflow-estimator\n",
      "    Found existing installation: tensorflow-estimator 2.8.0\n",
      "    Uninstalling tensorflow-estimator-2.8.0:\n",
      "      Successfully uninstalled tensorflow-estimator-2.8.0\n",
      "  Attempting uninstall: tensorboard\n",
      "    Found existing installation: tensorboard 2.8.0\n",
      "    Uninstalling tensorboard-2.8.0:\n",
      "      Successfully uninstalled tensorboard-2.8.0\n",
      "  Attempting uninstall: pytz\n",
      "    Found existing installation: pytz 2018.9\n",
      "    Uninstalling pytz-2018.9:\n",
      "      Successfully uninstalled pytz-2018.9\n",
      "  Attempting uninstall: keras-preprocessing\n",
      "    Found existing installation: Keras-Preprocessing 1.1.2\n",
      "    Uninstalling Keras-Preprocessing-1.1.2:\n",
      "      Successfully uninstalled Keras-Preprocessing-1.1.2\n",
      "  Attempting uninstall: gast\n",
      "    Found existing installation: gast 0.5.3\n",
      "    Uninstalling gast-0.5.3:\n",
      "      Successfully uninstalled gast-0.5.3\n",
      "  Attempting uninstall: attrs\n",
      "    Found existing installation: attrs 21.4.0\n",
      "    Uninstalling attrs-21.4.0:\n",
      "      Successfully uninstalled attrs-21.4.0\n",
      "  Attempting uninstall: tqdm\n",
      "    Found existing installation: tqdm 4.63.0\n",
      "    Uninstalling tqdm-4.63.0:\n",
      "      Successfully uninstalled tqdm-4.63.0\n",
      "  Attempting uninstall: tensorflow\n",
      "    Found existing installation: tensorflow 2.8.0\n",
      "    Uninstalling tensorflow-2.8.0:\n",
      "      Successfully uninstalled tensorflow-2.8.0\n",
      "  Attempting uninstall: pymongo\n",
      "    Found existing installation: pymongo 4.0.2\n",
      "    Uninstalling pymongo-4.0.2:\n",
      "      Successfully uninstalled pymongo-4.0.2\n",
      "  Attempting uninstall: prompt-toolkit\n",
      "    Found existing installation: prompt-toolkit 1.0.18\n",
      "    Uninstalling prompt-toolkit-1.0.18:\n",
      "      Successfully uninstalled prompt-toolkit-1.0.18\n",
      "  Attempting uninstall: tensorflow-probability\n",
      "    Found existing installation: tensorflow-probability 0.16.0\n",
      "    Uninstalling tensorflow-probability-0.16.0:\n",
      "      Successfully uninstalled tensorflow-probability-0.16.0\n",
      "  Attempting uninstall: tensorflow-hub\n",
      "    Found existing installation: tensorflow-hub 0.12.0\n",
      "    Uninstalling tensorflow-hub-0.12.0:\n",
      "      Successfully uninstalled tensorflow-hub-0.12.0\n",
      "  Attempting uninstall: SQLAlchemy\n",
      "    Found existing installation: SQLAlchemy 1.4.32\n",
      "    Uninstalling SQLAlchemy-1.4.32:\n",
      "      Successfully uninstalled SQLAlchemy-1.4.32\n",
      "  Attempting uninstall: scikit-learn\n",
      "    Found existing installation: scikit-learn 1.0.2\n",
      "    Uninstalling scikit-learn-1.0.2:\n",
      "      Successfully uninstalled scikit-learn-1.0.2\n",
      "  Attempting uninstall: pydot\n",
      "    Found existing installation: pydot 1.3.0\n",
      "    Uninstalling pydot-1.3.0:\n",
      "      Successfully uninstalled pydot-1.3.0\n",
      "  Attempting uninstall: packaging\n",
      "    Found existing installation: packaging 21.3\n",
      "    Uninstalling packaging-21.3:\n",
      "      Successfully uninstalled packaging-21.3\n",
      "  Attempting uninstall: networkx\n",
      "    Found existing installation: networkx 2.6.3\n",
      "    Uninstalling networkx-2.6.3:\n",
      "      Successfully uninstalled networkx-2.6.3\n",
      "  Attempting uninstall: jsonschema\n",
      "    Found existing installation: jsonschema 4.3.3\n",
      "    Uninstalling jsonschema-4.3.3:\n",
      "      Successfully uninstalled jsonschema-4.3.3\n",
      "\u001b[31mERROR: pip's dependency resolver does not currently take into account all the packages that are installed. This behaviour is the source of the following dependency conflicts.\n",
      "yellowbrick 1.4 requires scikit-learn>=1.0.0, but you have scikit-learn 0.22.2.post1 which is incompatible.\n",
      "tables 3.7.0 requires numpy>=1.19.0, but you have numpy 1.18.5 which is incompatible.\n",
      "panel 0.12.1 requires tqdm>=4.48.0, but you have tqdm 4.45.0 which is incompatible.\n",
      "nbclient 0.5.12 requires jupyter-client>=6.1.5, but you have jupyter-client 5.3.5 which is incompatible.\n",
      "jupyter-console 5.2.0 requires prompt-toolkit<2.0.0,>=1.0.0, but you have prompt-toolkit 2.0.10 which is incompatible.\n",
      "jaxlib 0.3.0+cuda11.cudnn805 requires numpy>=1.19, but you have numpy 1.18.5 which is incompatible.\n",
      "jax 0.3.1 requires numpy>=1.19, but you have numpy 1.18.5 which is incompatible.\n",
      "ipython 5.5.0 requires prompt-toolkit<2.0.0,>=1.0.4, but you have prompt-toolkit 2.0.10 which is incompatible.\n",
      "imbalanced-learn 0.8.1 requires scikit-learn>=0.24, but you have scikit-learn 0.22.2.post1 which is incompatible.\n",
      "datascience 0.10.6 requires folium==0.2.1, but you have folium 0.8.3 which is incompatible.\n",
      "albumentations 0.1.12 requires imgaug<0.2.7,>=0.2.5, but you have imgaug 0.2.9 which is incompatible.\u001b[0m\n",
      "Successfully installed PyJWT-1.7.1 SQLAlchemy-1.3.24 absl-py-0.9.0 aiofiles-0.8.0 aiohttp-3.6.3 apscheduler-3.6.3 async-generator-1.10 async-timeout-3.0.1 attrs-19.3.0 boto3-1.21.19 botocore-1.24.19 colorclass-2.2.2 coloredlogs-10.0 colorhash-1.0.4 cryptography-36.0.1 dnspython-1.16.0 fbmessenger-6.0.0 gast-0.2.2 gevent-1.5.0 h11-0.8.1 h2-3.2.0 h5py-2.10.0 hpack-3.0.0 hstspreload-2021.12.1 httptools-0.4.0 httpx-0.9.3 humanfriendly-10.0 hyperframe-5.2.0 jmespath-0.10.0 jsonpickle-1.4.2 jsonschema-3.2.0 kafka-python-1.4.7 keras-applications-1.0.8 keras-preprocessing-1.1.0 mattermostwrapper-2.2 multidict-4.7.6 networkx-2.4 numpy-1.18.5 packaging-20.9 pika-1.1.0 prompt-toolkit-2.0.10 psycopg2-binary-2.8.6 pydot-1.4.2 pykwalify-1.7.0 pymongo-3.8.0 python-crfsuite-0.9.7 python-engineio-3.12.1 python-socketio-4.5.1 python-telegram-bot-12.8 pytz-2019.3 questionary-1.5.2 rasa-1.10.3 rasa-sdk-1.10.3 redis-3.5.3 requests-toolbelt-0.9.1 rfc3986-1.5.0 rocketchat-API-1.3.1 ruamel.yaml-0.16.13 ruamel.yaml.clib-0.2.6 s3transfer-0.5.2 sanic-19.12.2 sanic-cors-0.10.0.post3 sanic-jwt-1.4.1 sanic-plugins-framework-0.9.5 scikit-learn-0.22.2.post1 sklearn-crfsuite-0.3.6 slackclient-2.9.3 sniffio-1.2.0 tensorboard-2.1.1 tensorflow-2.1.4 tensorflow-addons-0.7.1 tensorflow-estimator-2.1.0 tensorflow-hub-0.8.0 tensorflow-probability-0.9.0 terminaltables-3.1.10 tqdm-4.45.0 twilio-6.26.3 ujson-2.0.3 urllib3-1.25.11 uvloop-0.16.0 webexteamssdk-1.3 websockets-8.1 yarl-1.5.1\n"
     ]
    },
    {
     "data": {
      "application/vnd.colab-display-data+json": {
       "pip_warning": {
        "packages": [
         "numpy",
         "prompt_toolkit"
        ]
       }
      }
     },
     "metadata": {},
     "output_type": "display_data"
    }
   ],
   "source": [
    "#installing Rasa \n",
    "!pip install rasa==1.10.3"
   ]
  },
  {
   "cell_type": "code",
   "execution_count": 2,
   "metadata": {
    "colab": {
     "base_uri": "https://localhost:8080/"
    },
    "id": "_7izSfLiy5eO",
    "outputId": "e1f07ba4-a4ea-4f0e-8e97-7f7275e0a130"
   },
   "outputs": [
    {
     "name": "stdout",
     "output_type": "stream",
     "text": [
      "Collecting tables==3.6.1\n",
      "  Downloading tables-3.6.1-cp37-cp37m-manylinux1_x86_64.whl (4.3 MB)\n",
      "\u001b[K     |████████████████████████████████| 4.3 MB 7.4 MB/s \n",
      "\u001b[?25hRequirement already satisfied: numpy>=1.9.3 in /usr/local/lib/python3.7/dist-packages (from tables==3.6.1) (1.18.5)\n",
      "Requirement already satisfied: numexpr>=2.6.2 in /usr/local/lib/python3.7/dist-packages (from tables==3.6.1) (2.8.1)\n",
      "Requirement already satisfied: packaging in /usr/local/lib/python3.7/dist-packages (from numexpr>=2.6.2->tables==3.6.1) (20.9)\n",
      "Requirement already satisfied: pyparsing>=2.0.2 in /usr/local/lib/python3.7/dist-packages (from packaging->numexpr>=2.6.2->tables==3.6.1) (3.0.7)\n",
      "Installing collected packages: tables\n",
      "  Attempting uninstall: tables\n",
      "    Found existing installation: tables 3.7.0\n",
      "    Uninstalling tables-3.7.0:\n",
      "      Successfully uninstalled tables-3.7.0\n",
      "Successfully installed tables-3.6.1\n"
     ]
    }
   ],
   "source": [
    "#upgrade table from 3.7.0 to 3.6.1\n",
    "!pip install -U tables==3.6.1"
   ]
  },
  {
   "cell_type": "code",
   "execution_count": 3,
   "metadata": {
    "colab": {
     "base_uri": "https://localhost:8080/",
     "height": 641
    },
    "id": "u3Q2ZeLwzh8Q",
    "outputId": "7d90a629-1bce-4c43-e883-b20551a963ca"
   },
   "outputs": [
    {
     "name": "stdout",
     "output_type": "stream",
     "text": [
      "Requirement already satisfied: ipython in /usr/local/lib/python3.7/dist-packages (5.5.0)\n",
      "Collecting ipython\n",
      "  Downloading ipython-7.32.0-py3-none-any.whl (793 kB)\n",
      "\u001b[K     |████████████████████████████████| 793 kB 6.8 MB/s \n",
      "\u001b[?25hRequirement already satisfied: matplotlib-inline in /usr/local/lib/python3.7/dist-packages (from ipython) (0.1.3)\n",
      "Requirement already satisfied: traitlets>=4.2 in /usr/local/lib/python3.7/dist-packages (from ipython) (5.1.1)\n",
      "Requirement already satisfied: setuptools>=18.5 in /usr/local/lib/python3.7/dist-packages (from ipython) (57.4.0)\n",
      "Requirement already satisfied: pygments in /usr/local/lib/python3.7/dist-packages (from ipython) (2.6.1)\n",
      "Requirement already satisfied: pexpect>4.3 in /usr/local/lib/python3.7/dist-packages (from ipython) (4.8.0)\n",
      "Requirement already satisfied: backcall in /usr/local/lib/python3.7/dist-packages (from ipython) (0.2.0)\n",
      "Requirement already satisfied: prompt-toolkit!=3.0.0,!=3.0.1,<3.1.0,>=2.0.0 in /usr/local/lib/python3.7/dist-packages (from ipython) (2.0.10)\n",
      "Requirement already satisfied: decorator in /usr/local/lib/python3.7/dist-packages (from ipython) (4.4.2)\n",
      "Requirement already satisfied: jedi>=0.16 in /usr/local/lib/python3.7/dist-packages (from ipython) (0.18.1)\n",
      "Requirement already satisfied: pickleshare in /usr/local/lib/python3.7/dist-packages (from ipython) (0.7.5)\n",
      "Requirement already satisfied: parso<0.9.0,>=0.8.0 in /usr/local/lib/python3.7/dist-packages (from jedi>=0.16->ipython) (0.8.3)\n",
      "Requirement already satisfied: ptyprocess>=0.5 in /usr/local/lib/python3.7/dist-packages (from pexpect>4.3->ipython) (0.7.0)\n",
      "Requirement already satisfied: wcwidth in /usr/local/lib/python3.7/dist-packages (from prompt-toolkit!=3.0.0,!=3.0.1,<3.1.0,>=2.0.0->ipython) (0.2.5)\n",
      "Requirement already satisfied: six>=1.9.0 in /usr/local/lib/python3.7/dist-packages (from prompt-toolkit!=3.0.0,!=3.0.1,<3.1.0,>=2.0.0->ipython) (1.15.0)\n",
      "Installing collected packages: ipython\n",
      "  Attempting uninstall: ipython\n",
      "    Found existing installation: ipython 5.5.0\n",
      "    Uninstalling ipython-5.5.0:\n",
      "      Successfully uninstalled ipython-5.5.0\n",
      "\u001b[31mERROR: pip's dependency resolver does not currently take into account all the packages that are installed. This behaviour is the source of the following dependency conflicts.\n",
      "jupyter-console 5.2.0 requires prompt-toolkit<2.0.0,>=1.0.0, but you have prompt-toolkit 2.0.10 which is incompatible.\n",
      "google-colab 1.0.0 requires ipython~=5.5.0, but you have ipython 7.32.0 which is incompatible.\u001b[0m\n",
      "Successfully installed ipython-7.32.0\n"
     ]
    },
    {
     "data": {
      "application/vnd.colab-display-data+json": {
       "pip_warning": {
        "packages": [
         "IPython"
        ]
       }
      }
     },
     "metadata": {},
     "output_type": "display_data"
    }
   ],
   "source": [
    "#upgrade ipython to avoid crashing colab session, while doing restart the runtime.\n",
    "!pip install -U ipython"
   ]
  },
  {
   "cell_type": "code",
   "execution_count": 1,
   "metadata": {
    "colab": {
     "base_uri": "https://localhost:8080/"
    },
    "id": "tYmBe0hIzl2g",
    "outputId": "8d5c2976-6cc5-4c54-e3d4-6f3411f00058"
   },
   "outputs": [
    {
     "name": "stdout",
     "output_type": "stream",
     "text": [
      "Collecting en_core_web_sm==2.2.5\n",
      "  Downloading https://github.com/explosion/spacy-models/releases/download/en_core_web_sm-2.2.5/en_core_web_sm-2.2.5.tar.gz (12.0 MB)\n",
      "\u001b[K     |████████████████████████████████| 12.0 MB 7.3 MB/s \n",
      "\u001b[?25hRequirement already satisfied: spacy>=2.2.2 in /usr/local/lib/python3.7/dist-packages (from en_core_web_sm==2.2.5) (2.2.4)\n",
      "Requirement already satisfied: cymem<2.1.0,>=2.0.2 in /usr/local/lib/python3.7/dist-packages (from spacy>=2.2.2->en_core_web_sm==2.2.5) (2.0.6)\n",
      "Requirement already satisfied: blis<0.5.0,>=0.4.0 in /usr/local/lib/python3.7/dist-packages (from spacy>=2.2.2->en_core_web_sm==2.2.5) (0.4.1)\n",
      "Requirement already satisfied: numpy>=1.15.0 in /usr/local/lib/python3.7/dist-packages (from spacy>=2.2.2->en_core_web_sm==2.2.5) (1.18.5)\n",
      "Requirement already satisfied: requests<3.0.0,>=2.13.0 in /usr/local/lib/python3.7/dist-packages (from spacy>=2.2.2->en_core_web_sm==2.2.5) (2.23.0)\n",
      "Requirement already satisfied: thinc==7.4.0 in /usr/local/lib/python3.7/dist-packages (from spacy>=2.2.2->en_core_web_sm==2.2.5) (7.4.0)\n",
      "Requirement already satisfied: murmurhash<1.1.0,>=0.28.0 in /usr/local/lib/python3.7/dist-packages (from spacy>=2.2.2->en_core_web_sm==2.2.5) (1.0.6)\n",
      "Requirement already satisfied: catalogue<1.1.0,>=0.0.7 in /usr/local/lib/python3.7/dist-packages (from spacy>=2.2.2->en_core_web_sm==2.2.5) (1.0.0)\n",
      "Requirement already satisfied: setuptools in /usr/local/lib/python3.7/dist-packages (from spacy>=2.2.2->en_core_web_sm==2.2.5) (57.4.0)\n",
      "Requirement already satisfied: plac<1.2.0,>=0.9.6 in /usr/local/lib/python3.7/dist-packages (from spacy>=2.2.2->en_core_web_sm==2.2.5) (1.1.3)\n",
      "Requirement already satisfied: wasabi<1.1.0,>=0.4.0 in /usr/local/lib/python3.7/dist-packages (from spacy>=2.2.2->en_core_web_sm==2.2.5) (0.9.0)\n",
      "Requirement already satisfied: tqdm<5.0.0,>=4.38.0 in /usr/local/lib/python3.7/dist-packages (from spacy>=2.2.2->en_core_web_sm==2.2.5) (4.45.0)\n",
      "Requirement already satisfied: preshed<3.1.0,>=3.0.2 in /usr/local/lib/python3.7/dist-packages (from spacy>=2.2.2->en_core_web_sm==2.2.5) (3.0.6)\n",
      "Requirement already satisfied: srsly<1.1.0,>=1.0.2 in /usr/local/lib/python3.7/dist-packages (from spacy>=2.2.2->en_core_web_sm==2.2.5) (1.0.5)\n",
      "Requirement already satisfied: importlib-metadata>=0.20 in /usr/local/lib/python3.7/dist-packages (from catalogue<1.1.0,>=0.0.7->spacy>=2.2.2->en_core_web_sm==2.2.5) (4.11.2)\n",
      "Requirement already satisfied: zipp>=0.5 in /usr/local/lib/python3.7/dist-packages (from importlib-metadata>=0.20->catalogue<1.1.0,>=0.0.7->spacy>=2.2.2->en_core_web_sm==2.2.5) (3.7.0)\n",
      "Requirement already satisfied: typing-extensions>=3.6.4 in /usr/local/lib/python3.7/dist-packages (from importlib-metadata>=0.20->catalogue<1.1.0,>=0.0.7->spacy>=2.2.2->en_core_web_sm==2.2.5) (3.10.0.2)\n",
      "Requirement already satisfied: urllib3!=1.25.0,!=1.25.1,<1.26,>=1.21.1 in /usr/local/lib/python3.7/dist-packages (from requests<3.0.0,>=2.13.0->spacy>=2.2.2->en_core_web_sm==2.2.5) (1.25.11)\n",
      "Requirement already satisfied: chardet<4,>=3.0.2 in /usr/local/lib/python3.7/dist-packages (from requests<3.0.0,>=2.13.0->spacy>=2.2.2->en_core_web_sm==2.2.5) (3.0.4)\n",
      "Requirement already satisfied: certifi>=2017.4.17 in /usr/local/lib/python3.7/dist-packages (from requests<3.0.0,>=2.13.0->spacy>=2.2.2->en_core_web_sm==2.2.5) (2021.10.8)\n",
      "Requirement already satisfied: idna<3,>=2.5 in /usr/local/lib/python3.7/dist-packages (from requests<3.0.0,>=2.13.0->spacy>=2.2.2->en_core_web_sm==2.2.5) (2.10)\n",
      "\u001b[38;5;2m✔ Download and installation successful\u001b[0m\n",
      "You can now load the model via spacy.load('en_core_web_sm')\n",
      "\u001b[38;5;2m✔ Linking successful\u001b[0m\n",
      "/usr/local/lib/python3.7/dist-packages/en_core_web_sm -->\n",
      "/usr/local/lib/python3.7/dist-packages/spacy/data/en\n",
      "You can now load the model via spacy.load('en')\n"
     ]
    }
   ],
   "source": [
    "#install spacy package(NLP library used by rasa to understand user input) for rasa\n",
    "!python -m spacy download en"
   ]
  },
  {
   "cell_type": "code",
   "execution_count": 2,
   "metadata": {
    "colab": {
     "base_uri": "https://localhost:8080/"
    },
    "id": "ETFgrKoAzzyY",
    "outputId": "ee853e3f-9070-4496-c918-e1232329265e"
   },
   "outputs": [
    {
     "name": "stdout",
     "output_type": "stream",
     "text": [
      "Collecting nest_asyncio==1.3.3\n",
      "  Downloading nest_asyncio-1.3.3-py3-none-any.whl (4.7 kB)\n",
      "Installing collected packages: nest-asyncio\n",
      "  Attempting uninstall: nest-asyncio\n",
      "    Found existing installation: nest-asyncio 1.5.4\n",
      "    Uninstalling nest-asyncio-1.5.4:\n",
      "      Successfully uninstalled nest-asyncio-1.5.4\n",
      "\u001b[31mERROR: pip's dependency resolver does not currently take into account all the packages that are installed. This behaviour is the source of the following dependency conflicts.\n",
      "nbclient 0.5.12 requires jupyter-client>=6.1.5, but you have jupyter-client 5.3.5 which is incompatible.\u001b[0m\n",
      "Successfully installed nest-asyncio-1.3.3\n"
     ]
    }
   ],
   "source": [
    "#install nest_asyncio package(Jupyter notebook run on even loop , so to run rasa on Jupyter notebook in Asynchronous mode) \n",
    "!pip install nest_asyncio==1.3.3"
   ]
  },
  {
   "cell_type": "code",
   "execution_count": 3,
   "metadata": {
    "colab": {
     "base_uri": "https://localhost:8080/"
    },
    "id": "SYSG_W6oz8pE",
    "outputId": "30f19e57-3634-4ba8-eeb3-9c7e14556368"
   },
   "outputs": [
    {
     "name": "stdout",
     "output_type": "stream",
     "text": [
      "Event loop ready.\n"
     ]
    }
   ],
   "source": [
    "#importing all packages and apply nest_asyncio to notebook\n",
    "import os\n",
    "import rasa\n",
    "import nest_asyncio\n",
    "\n",
    "nest_asyncio.apply()\n",
    "print(\"Event loop ready.\")"
   ]
  },
  {
   "cell_type": "code",
   "execution_count": 4,
   "metadata": {
    "id": "YC8LdLPR0AiC"
   },
   "outputs": [],
   "source": [
    "#Creating initial project\n",
    "from rasa.cli.scaffold import create_initial_project"
   ]
  },
  {
   "cell_type": "code",
   "execution_count": 5,
   "metadata": {
    "id": "nuo9f7Ka0GtH"
   },
   "outputs": [],
   "source": [
    "#creating working director and store intial project\n",
    "project = \"test-project\"\n",
    "create_initial_project(project)"
   ]
  },
  {
   "cell_type": "code",
   "execution_count": 6,
   "metadata": {
    "colab": {
     "base_uri": "https://localhost:8080/"
    },
    "id": "8oCdQo-G0JTu",
    "outputId": "70f56b1f-391b-4b5b-a3c0-2f31c195c192"
   },
   "outputs": [
    {
     "name": "stdout",
     "output_type": "stream",
     "text": [
      "['__pycache__', '__init__.py', 'endpoints.yml', 'data', 'actions.py', 'config.yml', 'credentials.yml', 'domain.yml', 'tests']\n"
     ]
    }
   ],
   "source": [
    "# move into project directory and show files\n",
    "os.chdir(project)\n",
    "print(os.listdir(\".\"))"
   ]
  },
  {
   "cell_type": "code",
   "execution_count": 7,
   "metadata": {
    "colab": {
     "base_uri": "https://localhost:8080/"
    },
    "id": "zxd7INb90MNA",
    "outputId": "edd6e6a2-6070-427b-d7a7-5f93595755fc"
   },
   "outputs": [
    {
     "name": "stdout",
     "output_type": "stream",
     "text": [
      "config.yml data/ domain.yml models/\n"
     ]
    }
   ],
   "source": [
    "#train rasa by creating few variables \n",
    "config = \"config.yml\"\n",
    "training_files = \"data/\"\n",
    "domain = \"domain.yml\"\n",
    "output = \"models/\"\n",
    "print(config, training_files, domain, output)"
   ]
  },
  {
   "cell_type": "code",
   "execution_count": 8,
   "metadata": {
    "colab": {
     "base_uri": "https://localhost:8080/"
    },
    "id": "mHSpoZWR0Q78",
    "outputId": "2b0a001c-5a32-40f8-cf41-854bf06958b5"
   },
   "outputs": [
    {
     "name": "stdout",
     "output_type": "stream",
     "text": [
      "\u001b[94mTraining Core model...\u001b[0m\n"
     ]
    },
    {
     "name": "stderr",
     "output_type": "stream",
     "text": [
      "Processed Story Blocks: 100%|██████████| 5/5 [00:00<00:00, 380.07it/s, # trackers=1]\n",
      "Processed Story Blocks: 100%|██████████| 5/5 [00:00<00:00, 387.56it/s, # trackers=5]\n",
      "Processed Story Blocks: 100%|██████████| 5/5 [00:00<00:00, 133.65it/s, # trackers=20]\n",
      "Processed Story Blocks: 100%|██████████| 5/5 [00:00<00:00, 121.55it/s, # trackers=24]\n",
      "Processed trackers: 100%|██████████| 5/5 [00:00<00:00, 112.40it/s, # actions=16]\n",
      "Processed actions: 16it [00:00, 674.33it/s, # examples=16]\n",
      "Processed trackers: 100%|██████████| 231/231 [00:04<00:00, 49.36it/s, # actions=126]\n",
      "Epochs: 100%|██████████| 100/100 [00:14<00:00,  7.05it/s, t_loss=0.088, loss=0.015, acc=1.000]\n"
     ]
    },
    {
     "name": "stdout",
     "output_type": "stream",
     "text": [
      "\u001b[94mCore model training completed.\u001b[0m\n",
      "\u001b[94mTraining NLU model...\u001b[0m\n"
     ]
    },
    {
     "name": "stderr",
     "output_type": "stream",
     "text": [
      "\u001b[93m/usr/local/lib/python3.7/dist-packages/rasa/utils/common.py:363: UserWarning: You specified 'DIET' to train entities, but no entities are present in the training data. Skip training of entities.\n",
      "Epochs: 100%|██████████| 100/100 [00:15<00:00,  6.26it/s, t_loss=1.541, i_loss=0.157, i_acc=1.000]\n"
     ]
    },
    {
     "name": "stdout",
     "output_type": "stream",
     "text": [
      "\u001b[94mNLU model training completed.\u001b[0m\n",
      "\u001b[92mYour Rasa model is trained and saved at '/content/test-project/models/20220315-090417.tar.gz'.\u001b[0m\n",
      "models/20220315-090417.tar.gz\n"
     ]
    }
   ],
   "source": [
    "#Model Traning\n",
    "#Another variable to call model \n",
    "#note run this cell for min 3 times as there is some bug in rasa if error\n",
    "model_path = rasa.train(domain, config, [training_files], output)\n",
    "print(model_path)"
   ]
  },
  {
   "cell_type": "code",
   "execution_count": 9,
   "metadata": {
    "colab": {
     "base_uri": "https://localhost:8080/"
    },
    "id": "cxSY4-Gm0USR",
    "outputId": "47f83d89-d8ed-44dd-d14d-7ace426be47d"
   },
   "outputs": [
    {
     "name": "stdout",
     "output_type": "stream",
     "text": [
      "Your bot is ready to talk! Type your messages here or send '/stop'.\n",
      "Hi\n",
      "\u001b[92mHey! How are you?\u001b[0m\n",
      "I am good\n",
      "\u001b[92mGreat, carry on!\u001b[0m\n",
      "ok\n",
      "\u001b[92mBye\u001b[0m\n",
      "/stop\n"
     ]
    }
   ],
   "source": [
    "#Chat with model \n",
    "from rasa.jupyter import chat\n",
    "endpoints = 'endpoints.yml'\n",
    "chat(model_path, endpoints)"
   ]
  },
  {
   "cell_type": "code",
   "execution_count": null,
   "metadata": {
    "id": "ZlG-pkG90m9h"
   },
   "outputs": [],
   "source": []
  }
 ],
 "metadata": {
  "colab": {
   "name": "chatbot_trail1.ipynb",
   "provenance": []
  },
  "kernelspec": {
   "display_name": "Python 3",
   "language": "python",
   "name": "python3"
  },
  "language_info": {
   "codemirror_mode": {
    "name": "ipython",
    "version": 3
   },
   "file_extension": ".py",
   "mimetype": "text/x-python",
   "name": "python",
   "nbconvert_exporter": "python",
   "pygments_lexer": "ipython3",
   "version": "3.8.8"
  }
 },
 "nbformat": 4,
 "nbformat_minor": 1
}
