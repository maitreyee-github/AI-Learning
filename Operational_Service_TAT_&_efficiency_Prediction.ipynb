{
  "nbformat": 4,
  "nbformat_minor": 0,
  "metadata": {
    "colab": {
      "name": "Operational Service TAT & efficiency Prediction.ipynb",
      "provenance": [],
      "collapsed_sections": [],
      "authorship_tag": "ABX9TyMRuuGS3pRghlOvZEGvWi//",
      "include_colab_link": true
    },
    "kernelspec": {
      "name": "python3",
      "display_name": "Python 3"
    },
    "language_info": {
      "name": "python"
    }
  },
  "cells": [
    {
      "cell_type": "markdown",
      "metadata": {
        "id": "view-in-github",
        "colab_type": "text"
      },
      "source": [
        "<a href=\"https://colab.research.google.com/github/maitreyee-github/AI-Learning/blob/main/Operational_Service_TAT_%26_efficiency_Prediction.ipynb\" target=\"_parent\"><img src=\"https://colab.research.google.com/assets/colab-badge.svg\" alt=\"Open In Colab\"/></a>"
      ]
    },
    {
      "cell_type": "markdown",
      "source": [
        "# **Scecenario**\n",
        "In an operational service system of Record ( such os SNOW , BMC etc), in a specific operational queue, tickets get raised. \n",
        "Each ticket has specific priority assigned by requester based on business impact (Critical - P1 , High = P2 , Medium = P3 , Low = P4) \n",
        "Each priority has specific SLA defined. \n",
        "Throughout the lifecycle of an incident/ticket , tickets  go through different stages  ( Not necessarily mandatory stage)  (New , In-Queue, Assigned, In-Progress , On-Hold, Resolved, Closed. \n",
        "Each ticket is raised by a Business user/Data Steward.\n",
        "Support proces is contracted to a third party vendor"
      ],
      "metadata": {
        "id": "ZI5PhQUVwk_q"
      }
    },
    {
      "cell_type": "markdown",
      "source": [
        "# ***Problem Statement***\n",
        "Vendor is too complacent with the incident closure timelines , but SLA is hardly met , consistency of closure timeline is very low . This is causing Operational Quality to go for a toss"
      ],
      "metadata": {
        "id": "75pHr5M5ypSb"
      }
    },
    {
      "cell_type": "markdown",
      "source": [
        "# **Goal to achieve & purpose**\n",
        "\n",
        "Identify effieciency of TAT  & its process defect ( Lean Six Sigma Framework)\n",
        "Predict the efficiency based on influencing factors\n",
        "Investigate which factor is most inflencing\n",
        "Propose a solution\n",
        "Prescribe based on pre & post  solution improvement.\n",
        "\n"
      ],
      "metadata": {
        "id": "Fs8x07myzUjn"
      }
    },
    {
      "cell_type": "markdown",
      "source": [
        "# ***Background on datset***"
      ],
      "metadata": {
        "id": "o1I9D5wI1arA"
      }
    }
  ]
}