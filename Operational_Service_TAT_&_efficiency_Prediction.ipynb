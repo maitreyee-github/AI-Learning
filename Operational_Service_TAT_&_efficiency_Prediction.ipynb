{
  "nbformat": 4,
  "nbformat_minor": 0,
  "metadata": {
    "colab": {
      "name": "Operational Service TAT & efficiency Prediction.ipynb",
      "provenance": [],
      "collapsed_sections": [],
      "authorship_tag": "ABX9TyOc73QZIgMlC+yN5OrZZkgq",
      "include_colab_link": true
    },
    "kernelspec": {
      "name": "python3",
      "display_name": "Python 3"
    },
    "language_info": {
      "name": "python"
    }
  },
  "cells": [
    {
      "cell_type": "markdown",
      "metadata": {
        "id": "view-in-github",
        "colab_type": "text"
      },
      "source": [
        "<a href=\"https://colab.research.google.com/github/maitreyee-github/AI-Learning/blob/main/Operational_Service_TAT_%26_efficiency_Prediction.ipynb\" target=\"_parent\"><img src=\"https://colab.research.google.com/assets/colab-badge.svg\" alt=\"Open In Colab\"/></a>"
      ]
    },
    {
      "cell_type": "markdown",
      "source": [
        "# **Scenario**\n",
        "In an operational service system of Record ( such os SNOW , BMC etc), in a specific operational queue, tickets get raised. \n",
        "Each ticket has specific priority assigned by requester based on business impact (Critical - P1 , High = P2 , Medium = P3 , Low = P4) \n",
        "Each priority has specific SLA defined. \n",
        "Throughout the lifecycle of an incident/ticket , tickets  go through different stages  ( Not necessarily mandatory stage)  (New , In-Queue, Assigned, In-Progress , On-Hold, Resolved, Closed. \n",
        "Each ticket is raised by a Business user/Data Steward.\n",
        "Support proces is contracted to a third party vendor"
      ],
      "metadata": {
        "id": "ZI5PhQUVwk_q"
      }
    },
    {
      "cell_type": "markdown",
      "source": [
        "# ***Problem Statement***\n",
        "Vendor is too complacent with the incident closure timelines , but SLA is hardly met , consistency of closure timeline is very low . This is causing Operational Quality to go for a toss"
      ],
      "metadata": {
        "id": "75pHr5M5ypSb"
      }
    },
    {
      "cell_type": "markdown",
      "source": [
        "# **Goal to achieve & purpose**\n",
        "\n",
        "Identify effieciency of TAT  & its process defect ( Lean Six Sigma Framework)\n",
        "Predict the efficiency based on influencing factors\n",
        "Investigate which factor is most inflencing\n",
        "Propose a solution\n",
        "Prescribe based on pre & post  solution improvement.\n",
        "\n"
      ],
      "metadata": {
        "id": "Fs8x07myzUjn"
      }
    },
    {
      "cell_type": "markdown",
      "source": [
        "# ***Background on datset***\n",
        "sample data set would be provided to try out the sample code.\n",
        "But Dataset included below columns \n",
        "\n",
        "System generated values per incident ( over days) : \\\n",
        "1. Incident# : Individual Incident# ( String) \\\n",
        "2. Requester# :  Person who raised request (string) \\\n",
        "3. Assignment Group : SNOW Queue, \\\n",
        "4. Assignee : Vendor employee working on the ticket, \\\n",
        "5. Priority : ( Critical/P1 - High/P2, Medium, P2, Low - P1), \\\n",
        "6. State : (New , In-Queue, Assigned, In-Progress, On-Hold, Resolved , Cancelled, Closed \\\n",
        "\n",
        "Layer 1 :Per incident  Derived Values: ( over days)\\\n",
        "\n",
        "1. Total age : how long the ticket has been active ( in different states) \\\n",
        "2. New age : How long the ticket has been in \"New\" State \\\n",
        "3. In Queue age : Hpw long the ticket is in \"In Queue\" state \\\n",
        "4. Assigned Age : How long the ticket is in Assigned state \\\n",
        "5. In Progress age : How log the ticket is in In Progress state \\\n",
        "6. on_hold age : How long the ticket is in on_hold state \\\n",
        "7. Resolution age : How long the ticket took to get resolved \\\n",
        "8. Closure age : How long the ticket tooto get closed \\\n",
        "9. Reassignment age : How long a ticket kep lying in wait before getting re-routed to right team. \\\n",
        "\n",
        "Layer 2  : Further derived values: ( over days) \\\n",
        "1. Response age :  New age + In Queue Age. \\ \n",
        "2. Active age = In Progress age \\ \n",
        "3. Inactive age : New age + In Queue age + Assigned age + on_hold age + Reassignment age \\\n",
        "\n",
        "imposed Values a benchmark : \\\n",
        "1. Response SLA = Critical = 1 day High = 7 days , Medium = 10 Days . Low = 15 Days \\\n",
        "2. Resolution SLA = critical = 4 hours High = 1 Day Medium = 1 Day , Low = 1 Day \\\n",
        "3. Resolution SLA met : 0 or 1 ( NO = -1 , YES = 1, NA= 0)  \\\n",
        "4. Response SLA met :  0 or 1 ( NO = -1 , YES = 1 NA = 0) \\\n",
        "\n",
        "\n",
        " \n",
        "\n"
      ],
      "metadata": {
        "id": "o1I9D5wI1arA"
      }
    },
    {
      "cell_type": "markdown",
      "source": [
        "# **Algorithms applied to derive the dataset ( after massaging SNOW data)**"
      ],
      "metadata": {
        "id": "xpLIroK-uFlM"
      }
    },
    {
      "cell_type": "markdown",
      "source": [
        "# **TAT Preduction**\n",
        "TAT = tot\n",
        "\n",
        "\n"
      ],
      "metadata": {
        "id": "SOyY2ePaujXW"
      }
    },
    {
      "cell_type": "markdown",
      "source": [
        "# **SLA compliance% prediction**\n",
        "\n",
        "Filter the detailed incident dataset  by latest Monitoring Run date  \\\n",
        "Now you have latest value for every column per incident \\\n",
        "\n",
        "Summary of ageing data & SLA ( summarized by Monitoring run date)  \\\n",
        "This calculates every day SLA compliance % across all incidents (I can see trends of compliance % Drop or rise over days \\\n",
        "Layer 3 :  Further \n",
        " 1. Response SLA compliance% :  ( For a Monitoring Date, how many tickets have count(>0 Response SLA met) / count(Total incidets) as of that day \n",
        " 2. Resolution SLA compliance% :  (For a monitoring Date, how many tickets have count ( >0 Resolution SLA met/ count( Total incidents) as of that day\n"
      ],
      "metadata": {
        "id": "yKqaMY2duoJf"
      }
    }
  ]
}