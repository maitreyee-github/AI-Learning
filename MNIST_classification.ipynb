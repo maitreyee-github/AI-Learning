{
 "cells": [
  {
   "cell_type": "markdown",
   "id": "5eff4f15",
   "metadata": {
    "colab_type": "text",
    "id": "view-in-github"
   },
   "source": [
    "<a href=\"https://colab.research.google.com/github/maitreyee-github/AI-Learning/blob/main/MNIST_classification.ipynb\" target=\"_parent\"><img src=\"https://colab.research.google.com/assets/colab-badge.svg\" alt=\"Open In Colab\"/></a>"
   ]
  },
  {
   "cell_type": "markdown",
   "id": "72c78291",
   "metadata": {
    "id": "72c78291"
   },
   "source": [
    "# Problem Statement"
   ]
  },
  {
   "cell_type": "code",
   "execution_count": 3,
   "id": "ae6f6509",
   "metadata": {
    "id": "ae6f6509",
    "outputId": "e9e63893-ae10-494b-b072-16d07addb7c3"
   },
   "outputs": [
    {
     "data": {
      "text/plain": [
       "dict_keys(['data', 'target', 'frame', 'categories', 'feature_names', 'target_names', 'DESCR', 'details', 'url'])"
      ]
     },
     "execution_count": 3,
     "metadata": {},
     "output_type": "execute_result"
    }
   ],
   "source": [
    "import numpy as np\n",
    "import builtins\n",
    "#builtins.dict_keys\n",
    "from _collections_abc import dict_keys\n",
    "#dict_keys = dict_keys[]\n",
    "#instanceof(d.keys(), collections.KeysView)\n",
    "#isinstance(d.keys(), collections.abc.KeysView)\n",
    "\n",
    "\n",
    "from sklearn.datasets import fetch_openml\n",
    "mnist = fetch_openml('mnist_784', version=1)\n",
    "mnist.keys()\n",
    "#dict_keys(['data','target','feature_names','DESCR','details','categories','url'])\n"
   ]
  },
  {
   "cell_type": "code",
   "execution_count": 4,
   "id": "9ab64db8",
   "metadata": {
    "id": "9ab64db8"
   },
   "outputs": [
    {
     "name": "stdout",
     "output_type": "stream",
     "text": [
      "dict_keys(['data', 'target', 'frame', 'categories', 'feature_names', 'target_names', 'DESCR', 'details', 'url'])\n",
      "(70000, 784)\n",
      "5\n"
     ]
    }
   ],
   "source": [
    "#X, y = mnist[\"data\"], mnist[\"target\"]\n",
    "#print(dict_keys[0][0])\n",
    "#X.shape\n",
    "from sklearn.datasets import fetch_openml\n",
    "\n",
    "# Load the MNIST dataset\n",
    "mnist = fetch_openml('mnist_784', version=1, as_frame=False)\n",
    "\n",
    "# Extract data and target\n",
    "X, y = mnist[\"data\"], mnist[\"target\"]\n",
    "\n",
    "# Inspect the keys of the dataset\n",
    "print(mnist.keys())  # This shows available keys\n",
    "\n",
    "# Access and print specific information if needed\n",
    "print(X.shape)  # Prints the shape of the feature matrix\n",
    "print(y[0])     # Example of accessing the first target value"
   ]
  },
  {
   "cell_type": "code",
   "execution_count": 5,
   "id": "cb16c443",
   "metadata": {
    "id": "cb16c443"
   },
   "outputs": [
    {
     "data": {
      "text/plain": [
       "(70000,)"
      ]
     },
     "execution_count": 5,
     "metadata": {},
     "output_type": "execute_result"
    }
   ],
   "source": [
    "y.shape"
   ]
  },
  {
   "cell_type": "code",
   "execution_count": 6,
   "id": "2eab1bf2",
   "metadata": {
    "id": "2eab1bf2"
   },
   "outputs": [
    {
     "data": {
      "image/png": "[encoded data removed]",
      "text/plain": [
       "<Figure size 640x480 with 1 Axes>"
      ]
     },
     "metadata": {},
     "output_type": "display_data"
    }
   ],
   "source": [
    "import pandas as pd\n",
    "import numpy as np\n",
    "import matplotlib as mpl\n",
    "import matplotlib.pyplot as plt\n",
    "\n",
    "# Assume X is already loaded and properly structured (e.g., from MNIST dataset)\n",
    "# Ensure X is a NumPy array\n",
    "some_digit = X[0]  # Access the first digit\n",
    "some_digit_image = some_digit.reshape(28, 28)  # Reshape to 28x28\n",
    "\n",
    "# Plot the digit image\n",
    "plt.imshow(some_digit_image, cmap=mpl.cm.binary)\n",
    "plt.axis(\"off\")  # Turn off axis for better visualization\n",
    "\n",
    "# Save the figure (define your own save location)\n",
    "plt.savefig(\"some_digit_plot.png\", format=\"png\", dpi=300)\n",
    "\n",
    "# Display the image\n",
    "plt.show()"
   ]
  },
  {
   "cell_type": "code",
   "execution_count": 7,
   "id": "3a706984",
   "metadata": {
    "id": "3a706984"
   },
   "outputs": [
    {
     "data": {
      "text/plain": [
       "'5'"
      ]
     },
     "execution_count": 7,
     "metadata": {},
     "output_type": "execute_result"
    }
   ],
   "source": [
    "y[0]"
   ]
  },
  {
   "cell_type": "code",
   "execution_count": 8,
   "id": "1cd1ac6c",
   "metadata": {
    "id": "1cd1ac6c"
   },
   "outputs": [],
   "source": [
    "y = y.astype(np.uint8)"
   ]
  },
  {
   "cell_type": "markdown",
   "id": "8f823f9f-5614-4fb7-a0ba-2c6026c6cc2f",
   "metadata": {
    "id": "99343a8d"
   },
   "source": [
    "Let's create a Test & Train set . Total dataset contains 70,000 images, of which I am splitting first 60,000 images as training set & remaining 10,000 images as test set. "
   ]
  },
  {
   "cell_type": "code",
   "execution_count": 10,
   "id": "caa752de-373c-4f07-9207-83096b7c35db",
   "metadata": {},
   "outputs": [],
   "source": [
    "X_train, X_test, y_train, y_test = X[:60000], X[60000:], y[:60000], y[60000:]"
   ]
  },
  {
   "cell_type": "markdown",
   "id": "97908f4a-7187-4029-a618-1b39e358136d",
   "metadata": {},
   "source": [
    "Training Binary classifier : "
   ]
  },
  {
   "cell_type": "code",
   "execution_count": 12,
   "id": "4fe69190-11a2-4b8e-a329-9fe1bda745d7",
   "metadata": {},
   "outputs": [],
   "source": [
    "y_train_5 = (y_train == 5) # true for all 5(s) & false otherwise\n",
    "y_test_5 = (y_test == 5 )"
   ]
  },
  {
   "cell_type": "markdown",
   "id": "a5540ab0-5388-444f-ac50-fb028ba1af4c",
   "metadata": {},
   "source": [
    "Let's pick a classifier SGD ( Stochastic Gradient Desscent)"
   ]
  },
  {
   "cell_type": "code",
   "execution_count": 24,
   "id": "06bc7949-8d05-4e59-aad1-4dd23e41bac8",
   "metadata": {},
   "outputs": [
    {
     "data": {
      "text/plain": [
       "array([ True])"
      ]
     },
     "execution_count": 24,
     "metadata": {},
     "output_type": "execute_result"
    }
   ],
   "source": [
    "from sklearn.linear_model import SGDClassifier\n",
    "\n",
    "sgd_clf = SGDClassifier(random_state=42)\n",
    "sgd_clf.fit(X_train, y_train_5)\n",
    "\n",
    "sgd_clf.predict([some_digit])"
   ]
  },
  {
   "cell_type": "markdown",
   "id": "564996f4-a40d-4c05-9a7f-bbc5d4777065",
   "metadata": {},
   "source": [
    "Performance Measures"
   ]
  },
  {
   "cell_type": "markdown",
   "id": "36850bf3-7d53-4852-abe2-ed9bc76bf66a",
   "metadata": {},
   "source": [
    "Measuring accuracy using cross validation"
   ]
  },
  {
   "cell_type": "markdown",
   "id": "5c747ed6-5ced-468d-b882-a6b03611e44a",
   "metadata": {},
   "source": [
    "Implmenting Cross validation "
   ]
  },
  {
   "cell_type": "code",
   "execution_count": 36,
   "id": "ed736f84-0d39-4da0-9a8c-30deb34d357c",
   "metadata": {},
   "outputs": [
    {
     "name": "stdout",
     "output_type": "stream",
     "text": [
      "0.9669\n",
      "0.91625\n",
      "0.96785\n"
     ]
    }
   ],
   "source": [
    "from sklearn.model_selection import StratifiedKFold\n",
    "from sklearn.base import clone\n",
    "\n",
    "# Initialize StratifiedKFold\n",
    "skfolds = StratifiedKFold(n_splits=3, shuffle=True, random_state=42)\n",
    "\n",
    "# Iterate through the folds\n",
    "for train_index, test_index in skfolds.split(X_train, y_train_5):\n",
    "    # Clone the classifier\n",
    "    clone_clf = clone(sgd_clf)\n",
    "    \n",
    "    # Split the data into training and testing folds\n",
    "    X_train_folds = X_train[train_index]\n",
    "    y_train_folds = y_train_5[train_index]\n",
    "    X_test_fold = X_train[test_index]\n",
    "    y_test_fold = y_train_5[test_index]\n",
    "    \n",
    "    # Fit the model and make predictions\n",
    "    clone_clf.fit(X_train_folds, y_train_folds)\n",
    "    y_pred = clone_clf.predict(X_test_fold)\n",
    "    \n",
    "    # Compute accuracy\n",
    "    n_correct = sum(y_pred == y_test_fold)\n",
    "    print(n_correct / len(y_pred))"
   ]
  },
  {
   "cell_type": "markdown",
   "id": "d7787215-37a6-4039-aca2-0a025e929b15",
   "metadata": {},
   "source": [
    "Let's use the cross_val_score() function to evaluate SGDClassifier model."
   ]
  },
  {
   "cell_type": "code",
   "execution_count": 40,
   "id": "f9be6f24-77d9-4f20-8374-7403f27148f5",
   "metadata": {},
   "outputs": [
    {
     "data": {
      "text/plain": [
       "array([0.95035, 0.96035, 0.9604 ])"
      ]
     },
     "execution_count": 40,
     "metadata": {},
     "output_type": "execute_result"
    }
   ],
   "source": [
    "from sklearn.model_selection import cross_val_score\n",
    "cross_val_score(sgd_clf, X_train, y_train_5, cv=3, scoring = \"accuracy\")"
   ]
  },
  {
   "cell_type": "code",
   "execution_count": null,
   "id": "9bf9d3ff-27a3-41c9-9067-dd0ab726dbde",
   "metadata": {},
   "outputs": [],
   "source": []
  }
 ],
 "metadata": {
  "colab": {
   "include_colab_link": true,
   "provenance": []
  },
  "kernelspec": {
   "display_name": "Python 3 (ipykernel)",
   "language": "python",
   "name": "python3"
  },
  "language_info": {
   "codemirror_mode": {
    "name": "ipython",
    "version": 3
   },
   "file_extension": ".py",
   "mimetype": "text/x-python",
   "name": "python",
   "nbconvert_exporter": "python",
   "pygments_lexer": "ipython3",
   "version": "3.12.7"
  }
 },
 "nbformat": 4,
 "nbformat_minor": 5
}
