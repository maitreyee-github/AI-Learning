{
 "cells": [
  {
   "cell_type": "markdown",
   "id": "f8d02145",
   "metadata": {
    "id": "f8d02145"
   },
   "source": [
    "# problem statement"
   ]
  },
  {
   "cell_type": "markdown",
   "id": "dd4e4898",
   "metadata": {
    "id": "dd4e4898"
   },
   "source": []
  },
  {
   "cell_type": "markdown",
   "id": "a4493944",
   "metadata": {
    "id": "a4493944"
   },
   "source": [
    "# Dataset acquisition"
   ]
  },
  {
   "cell_type": "markdown",
   "id": "a974b008",
   "metadata": {
    "id": "a974b008"
   },
   "source": []
  },
  {
   "cell_type": "markdown",
   "id": "3041453c",
   "metadata": {
    "id": "3041453c"
   },
   "source": [
    "# Approach to solution"
   ]
  },
  {
   "cell_type": "markdown",
   "id": "446be328",
   "metadata": {
    "id": "446be328"
   },
   "source": []
  },
  {
   "cell_type": "code",
   "execution_count": 1,
   "id": "7df06ff6",
   "metadata": {
    "id": "7df06ff6"
   },
   "outputs": [],
   "source": [
    "import os\n",
    "import tarfile\n",
    "import urllib\n",
    "import pandas as pd \n",
    "import numpy as np\n",
    "import pathlib"
   ]
  },
  {
   "cell_type": "code",
   "execution_count": 2,
   "id": "c86e0a93",
   "metadata": {},
   "outputs": [],
   "source": [
    "data_path=\"housing.csv\"\n",
    "df=pd.read_csv(data_path)"
   ]
  },
  {
   "cell_type": "code",
   "execution_count": 3,
   "id": "2d030131",
   "metadata": {
    "colab": {
     "base_uri": "https://localhost:8080/",
     "height": 328
    },
    "id": "2d030131",
    "outputId": "3dbc18f0-a2f3-4777-db7f-ec228c455151"
   },
   "outputs": [
    {
     "data": {
      "text/html": [
       "<div>\n",
       "<style scoped>\n",
       "    .dataframe tbody tr th:only-of-type {\n",
       "        vertical-align: middle;\n",
       "    }\n",
       "\n",
       "    .dataframe tbody tr th {\n",
       "        vertical-align: top;\n",
       "    }\n",
       "\n",
       "    .dataframe thead th {\n",
       "        text-align: right;\n",
       "    }\n",
       "</style>\n",
       "<table border=\"1\" class=\"dataframe\">\n",
       "  <thead>\n",
       "    <tr style=\"text-align: right;\">\n",
       "      <th></th>\n",
       "      <th>longitude</th>\n",
       "      <th>latitude</th>\n",
       "      <th>housing_median_age</th>\n",
       "      <th>total_rooms</th>\n",
       "      <th>total_bedrooms</th>\n",
       "      <th>population</th>\n",
       "      <th>households</th>\n",
       "      <th>median_income</th>\n",
       "      <th>median_house_value</th>\n",
       "      <th>ocean_proximity</th>\n",
       "    </tr>\n",
       "  </thead>\n",
       "  <tbody>\n",
       "    <tr>\n",
       "      <th>0</th>\n",
       "      <td>-122.23</td>\n",
       "      <td>37.88</td>\n",
       "      <td>41.0</td>\n",
       "      <td>880.0</td>\n",
       "      <td>129.0</td>\n",
       "      <td>322.0</td>\n",
       "      <td>126.0</td>\n",
       "      <td>8.3252</td>\n",
       "      <td>452600.0</td>\n",
       "      <td>NEAR BAY</td>\n",
       "    </tr>\n",
       "    <tr>\n",
       "      <th>1</th>\n",
       "      <td>-122.22</td>\n",
       "      <td>37.86</td>\n",
       "      <td>21.0</td>\n",
       "      <td>7099.0</td>\n",
       "      <td>1106.0</td>\n",
       "      <td>2401.0</td>\n",
       "      <td>1138.0</td>\n",
       "      <td>8.3014</td>\n",
       "      <td>358500.0</td>\n",
       "      <td>NEAR BAY</td>\n",
       "    </tr>\n",
       "    <tr>\n",
       "      <th>2</th>\n",
       "      <td>-122.24</td>\n",
       "      <td>37.85</td>\n",
       "      <td>52.0</td>\n",
       "      <td>1467.0</td>\n",
       "      <td>190.0</td>\n",
       "      <td>496.0</td>\n",
       "      <td>177.0</td>\n",
       "      <td>7.2574</td>\n",
       "      <td>352100.0</td>\n",
       "      <td>NEAR BAY</td>\n",
       "    </tr>\n",
       "    <tr>\n",
       "      <th>3</th>\n",
       "      <td>-122.25</td>\n",
       "      <td>37.85</td>\n",
       "      <td>52.0</td>\n",
       "      <td>1274.0</td>\n",
       "      <td>235.0</td>\n",
       "      <td>558.0</td>\n",
       "      <td>219.0</td>\n",
       "      <td>5.6431</td>\n",
       "      <td>341300.0</td>\n",
       "      <td>NEAR BAY</td>\n",
       "    </tr>\n",
       "    <tr>\n",
       "      <th>4</th>\n",
       "      <td>-122.25</td>\n",
       "      <td>37.85</td>\n",
       "      <td>52.0</td>\n",
       "      <td>1627.0</td>\n",
       "      <td>280.0</td>\n",
       "      <td>565.0</td>\n",
       "      <td>259.0</td>\n",
       "      <td>3.8462</td>\n",
       "      <td>342200.0</td>\n",
       "      <td>NEAR BAY</td>\n",
       "    </tr>\n",
       "    <tr>\n",
       "      <th>5</th>\n",
       "      <td>-122.25</td>\n",
       "      <td>37.85</td>\n",
       "      <td>52.0</td>\n",
       "      <td>919.0</td>\n",
       "      <td>213.0</td>\n",
       "      <td>413.0</td>\n",
       "      <td>193.0</td>\n",
       "      <td>4.0368</td>\n",
       "      <td>269700.0</td>\n",
       "      <td>NEAR BAY</td>\n",
       "    </tr>\n",
       "    <tr>\n",
       "      <th>6</th>\n",
       "      <td>-122.25</td>\n",
       "      <td>37.84</td>\n",
       "      <td>52.0</td>\n",
       "      <td>2535.0</td>\n",
       "      <td>489.0</td>\n",
       "      <td>1094.0</td>\n",
       "      <td>514.0</td>\n",
       "      <td>3.6591</td>\n",
       "      <td>299200.0</td>\n",
       "      <td>NEAR BAY</td>\n",
       "    </tr>\n",
       "    <tr>\n",
       "      <th>7</th>\n",
       "      <td>-122.25</td>\n",
       "      <td>37.84</td>\n",
       "      <td>52.0</td>\n",
       "      <td>3104.0</td>\n",
       "      <td>687.0</td>\n",
       "      <td>1157.0</td>\n",
       "      <td>647.0</td>\n",
       "      <td>3.1200</td>\n",
       "      <td>241400.0</td>\n",
       "      <td>NEAR BAY</td>\n",
       "    </tr>\n",
       "    <tr>\n",
       "      <th>8</th>\n",
       "      <td>-122.26</td>\n",
       "      <td>37.84</td>\n",
       "      <td>42.0</td>\n",
       "      <td>2555.0</td>\n",
       "      <td>665.0</td>\n",
       "      <td>1206.0</td>\n",
       "      <td>595.0</td>\n",
       "      <td>2.0804</td>\n",
       "      <td>226700.0</td>\n",
       "      <td>NEAR BAY</td>\n",
       "    </tr>\n",
       "    <tr>\n",
       "      <th>9</th>\n",
       "      <td>-122.25</td>\n",
       "      <td>37.84</td>\n",
       "      <td>52.0</td>\n",
       "      <td>3549.0</td>\n",
       "      <td>707.0</td>\n",
       "      <td>1551.0</td>\n",
       "      <td>714.0</td>\n",
       "      <td>3.6912</td>\n",
       "      <td>261100.0</td>\n",
       "      <td>NEAR BAY</td>\n",
       "    </tr>\n",
       "    <tr>\n",
       "      <th>10</th>\n",
       "      <td>-122.26</td>\n",
       "      <td>37.85</td>\n",
       "      <td>52.0</td>\n",
       "      <td>2202.0</td>\n",
       "      <td>434.0</td>\n",
       "      <td>910.0</td>\n",
       "      <td>402.0</td>\n",
       "      <td>3.2031</td>\n",
       "      <td>281500.0</td>\n",
       "      <td>NEAR BAY</td>\n",
       "    </tr>\n",
       "    <tr>\n",
       "      <th>11</th>\n",
       "      <td>-122.26</td>\n",
       "      <td>37.85</td>\n",
       "      <td>52.0</td>\n",
       "      <td>3503.0</td>\n",
       "      <td>752.0</td>\n",
       "      <td>1504.0</td>\n",
       "      <td>734.0</td>\n",
       "      <td>3.2705</td>\n",
       "      <td>241800.0</td>\n",
       "      <td>NEAR BAY</td>\n",
       "    </tr>\n",
       "    <tr>\n",
       "      <th>12</th>\n",
       "      <td>-122.26</td>\n",
       "      <td>37.85</td>\n",
       "      <td>52.0</td>\n",
       "      <td>2491.0</td>\n",
       "      <td>474.0</td>\n",
       "      <td>1098.0</td>\n",
       "      <td>468.0</td>\n",
       "      <td>3.0750</td>\n",
       "      <td>213500.0</td>\n",
       "      <td>NEAR BAY</td>\n",
       "    </tr>\n",
       "    <tr>\n",
       "      <th>13</th>\n",
       "      <td>-122.26</td>\n",
       "      <td>37.84</td>\n",
       "      <td>52.0</td>\n",
       "      <td>696.0</td>\n",
       "      <td>191.0</td>\n",
       "      <td>345.0</td>\n",
       "      <td>174.0</td>\n",
       "      <td>2.6736</td>\n",
       "      <td>191300.0</td>\n",
       "      <td>NEAR BAY</td>\n",
       "    </tr>\n",
       "    <tr>\n",
       "      <th>14</th>\n",
       "      <td>-122.26</td>\n",
       "      <td>37.85</td>\n",
       "      <td>52.0</td>\n",
       "      <td>2643.0</td>\n",
       "      <td>626.0</td>\n",
       "      <td>1212.0</td>\n",
       "      <td>620.0</td>\n",
       "      <td>1.9167</td>\n",
       "      <td>159200.0</td>\n",
       "      <td>NEAR BAY</td>\n",
       "    </tr>\n",
       "    <tr>\n",
       "      <th>15</th>\n",
       "      <td>-122.26</td>\n",
       "      <td>37.85</td>\n",
       "      <td>50.0</td>\n",
       "      <td>1120.0</td>\n",
       "      <td>283.0</td>\n",
       "      <td>697.0</td>\n",
       "      <td>264.0</td>\n",
       "      <td>2.1250</td>\n",
       "      <td>140000.0</td>\n",
       "      <td>NEAR BAY</td>\n",
       "    </tr>\n",
       "    <tr>\n",
       "      <th>16</th>\n",
       "      <td>-122.27</td>\n",
       "      <td>37.85</td>\n",
       "      <td>52.0</td>\n",
       "      <td>1966.0</td>\n",
       "      <td>347.0</td>\n",
       "      <td>793.0</td>\n",
       "      <td>331.0</td>\n",
       "      <td>2.7750</td>\n",
       "      <td>152500.0</td>\n",
       "      <td>NEAR BAY</td>\n",
       "    </tr>\n",
       "    <tr>\n",
       "      <th>17</th>\n",
       "      <td>-122.27</td>\n",
       "      <td>37.85</td>\n",
       "      <td>52.0</td>\n",
       "      <td>1228.0</td>\n",
       "      <td>293.0</td>\n",
       "      <td>648.0</td>\n",
       "      <td>303.0</td>\n",
       "      <td>2.1202</td>\n",
       "      <td>155500.0</td>\n",
       "      <td>NEAR BAY</td>\n",
       "    </tr>\n",
       "    <tr>\n",
       "      <th>18</th>\n",
       "      <td>-122.26</td>\n",
       "      <td>37.84</td>\n",
       "      <td>50.0</td>\n",
       "      <td>2239.0</td>\n",
       "      <td>455.0</td>\n",
       "      <td>990.0</td>\n",
       "      <td>419.0</td>\n",
       "      <td>1.9911</td>\n",
       "      <td>158700.0</td>\n",
       "      <td>NEAR BAY</td>\n",
       "    </tr>\n",
       "    <tr>\n",
       "      <th>19</th>\n",
       "      <td>-122.27</td>\n",
       "      <td>37.84</td>\n",
       "      <td>52.0</td>\n",
       "      <td>1503.0</td>\n",
       "      <td>298.0</td>\n",
       "      <td>690.0</td>\n",
       "      <td>275.0</td>\n",
       "      <td>2.6033</td>\n",
       "      <td>162900.0</td>\n",
       "      <td>NEAR BAY</td>\n",
       "    </tr>\n",
       "  </tbody>\n",
       "</table>\n",
       "</div>"
      ],
      "text/plain": [
       "    longitude  latitude  housing_median_age  total_rooms  total_bedrooms  \\\n",
       "0     -122.23     37.88                41.0        880.0           129.0   \n",
       "1     -122.22     37.86                21.0       7099.0          1106.0   \n",
       "2     -122.24     37.85                52.0       1467.0           190.0   \n",
       "3     -122.25     37.85                52.0       1274.0           235.0   \n",
       "4     -122.25     37.85                52.0       1627.0           280.0   \n",
       "5     -122.25     37.85                52.0        919.0           213.0   \n",
       "6     -122.25     37.84                52.0       2535.0           489.0   \n",
       "7     -122.25     37.84                52.0       3104.0           687.0   \n",
       "8     -122.26     37.84                42.0       2555.0           665.0   \n",
       "9     -122.25     37.84                52.0       3549.0           707.0   \n",
       "10    -122.26     37.85                52.0       2202.0           434.0   \n",
       "11    -122.26     37.85                52.0       3503.0           752.0   \n",
       "12    -122.26     37.85                52.0       2491.0           474.0   \n",
       "13    -122.26     37.84                52.0        696.0           191.0   \n",
       "14    -122.26     37.85                52.0       2643.0           626.0   \n",
       "15    -122.26     37.85                50.0       1120.0           283.0   \n",
       "16    -122.27     37.85                52.0       1966.0           347.0   \n",
       "17    -122.27     37.85                52.0       1228.0           293.0   \n",
       "18    -122.26     37.84                50.0       2239.0           455.0   \n",
       "19    -122.27     37.84                52.0       1503.0           298.0   \n",
       "\n",
       "    population  households  median_income  median_house_value ocean_proximity  \n",
       "0        322.0       126.0         8.3252            452600.0        NEAR BAY  \n",
       "1       2401.0      1138.0         8.3014            358500.0        NEAR BAY  \n",
       "2        496.0       177.0         7.2574            352100.0        NEAR BAY  \n",
       "3        558.0       219.0         5.6431            341300.0        NEAR BAY  \n",
       "4        565.0       259.0         3.8462            342200.0        NEAR BAY  \n",
       "5        413.0       193.0         4.0368            269700.0        NEAR BAY  \n",
       "6       1094.0       514.0         3.6591            299200.0        NEAR BAY  \n",
       "7       1157.0       647.0         3.1200            241400.0        NEAR BAY  \n",
       "8       1206.0       595.0         2.0804            226700.0        NEAR BAY  \n",
       "9       1551.0       714.0         3.6912            261100.0        NEAR BAY  \n",
       "10       910.0       402.0         3.2031            281500.0        NEAR BAY  \n",
       "11      1504.0       734.0         3.2705            241800.0        NEAR BAY  \n",
       "12      1098.0       468.0         3.0750            213500.0        NEAR BAY  \n",
       "13       345.0       174.0         2.6736            191300.0        NEAR BAY  \n",
       "14      1212.0       620.0         1.9167            159200.0        NEAR BAY  \n",
       "15       697.0       264.0         2.1250            140000.0        NEAR BAY  \n",
       "16       793.0       331.0         2.7750            152500.0        NEAR BAY  \n",
       "17       648.0       303.0         2.1202            155500.0        NEAR BAY  \n",
       "18       990.0       419.0         1.9911            158700.0        NEAR BAY  \n",
       "19       690.0       275.0         2.6033            162900.0        NEAR BAY  "
      ]
     },
     "execution_count": 3,
     "metadata": {},
     "output_type": "execute_result"
    }
   ],
   "source": [
    "df.head(20)"
   ]
  },
  {
   "cell_type": "code",
   "execution_count": 4,
   "id": "2b940cec",
   "metadata": {
    "id": "2b940cec",
    "outputId": "341ca998-6a58-4172-f885-e9c0fa40a54d"
   },
   "outputs": [
    {
     "data": {
      "text/html": [
       "<div>\n",
       "<style scoped>\n",
       "    .dataframe tbody tr th:only-of-type {\n",
       "        vertical-align: middle;\n",
       "    }\n",
       "\n",
       "    .dataframe tbody tr th {\n",
       "        vertical-align: top;\n",
       "    }\n",
       "\n",
       "    .dataframe thead th {\n",
       "        text-align: right;\n",
       "    }\n",
       "</style>\n",
       "<table border=\"1\" class=\"dataframe\">\n",
       "  <thead>\n",
       "    <tr style=\"text-align: right;\">\n",
       "      <th></th>\n",
       "      <th>longitude</th>\n",
       "      <th>latitude</th>\n",
       "      <th>housing_median_age</th>\n",
       "      <th>total_rooms</th>\n",
       "      <th>total_bedrooms</th>\n",
       "      <th>population</th>\n",
       "      <th>households</th>\n",
       "      <th>median_income</th>\n",
       "      <th>median_house_value</th>\n",
       "    </tr>\n",
       "  </thead>\n",
       "  <tbody>\n",
       "    <tr>\n",
       "      <th>count</th>\n",
       "      <td>20640.000000</td>\n",
       "      <td>20640.000000</td>\n",
       "      <td>20640.000000</td>\n",
       "      <td>20640.000000</td>\n",
       "      <td>20433.000000</td>\n",
       "      <td>20640.000000</td>\n",
       "      <td>20640.000000</td>\n",
       "      <td>20640.000000</td>\n",
       "      <td>20640.000000</td>\n",
       "    </tr>\n",
       "    <tr>\n",
       "      <th>mean</th>\n",
       "      <td>-119.569704</td>\n",
       "      <td>35.631861</td>\n",
       "      <td>28.639486</td>\n",
       "      <td>2635.763081</td>\n",
       "      <td>537.870553</td>\n",
       "      <td>1425.476744</td>\n",
       "      <td>499.539680</td>\n",
       "      <td>3.870671</td>\n",
       "      <td>206855.816909</td>\n",
       "    </tr>\n",
       "    <tr>\n",
       "      <th>std</th>\n",
       "      <td>2.003532</td>\n",
       "      <td>2.135952</td>\n",
       "      <td>12.585558</td>\n",
       "      <td>2181.615252</td>\n",
       "      <td>421.385070</td>\n",
       "      <td>1132.462122</td>\n",
       "      <td>382.329753</td>\n",
       "      <td>1.899822</td>\n",
       "      <td>115395.615874</td>\n",
       "    </tr>\n",
       "    <tr>\n",
       "      <th>min</th>\n",
       "      <td>-124.350000</td>\n",
       "      <td>32.540000</td>\n",
       "      <td>1.000000</td>\n",
       "      <td>2.000000</td>\n",
       "      <td>1.000000</td>\n",
       "      <td>3.000000</td>\n",
       "      <td>1.000000</td>\n",
       "      <td>0.499900</td>\n",
       "      <td>14999.000000</td>\n",
       "    </tr>\n",
       "    <tr>\n",
       "      <th>25%</th>\n",
       "      <td>-121.800000</td>\n",
       "      <td>33.930000</td>\n",
       "      <td>18.000000</td>\n",
       "      <td>1447.750000</td>\n",
       "      <td>296.000000</td>\n",
       "      <td>787.000000</td>\n",
       "      <td>280.000000</td>\n",
       "      <td>2.563400</td>\n",
       "      <td>119600.000000</td>\n",
       "    </tr>\n",
       "    <tr>\n",
       "      <th>50%</th>\n",
       "      <td>-118.490000</td>\n",
       "      <td>34.260000</td>\n",
       "      <td>29.000000</td>\n",
       "      <td>2127.000000</td>\n",
       "      <td>435.000000</td>\n",
       "      <td>1166.000000</td>\n",
       "      <td>409.000000</td>\n",
       "      <td>3.534800</td>\n",
       "      <td>179700.000000</td>\n",
       "    </tr>\n",
       "    <tr>\n",
       "      <th>75%</th>\n",
       "      <td>-118.010000</td>\n",
       "      <td>37.710000</td>\n",
       "      <td>37.000000</td>\n",
       "      <td>3148.000000</td>\n",
       "      <td>647.000000</td>\n",
       "      <td>1725.000000</td>\n",
       "      <td>605.000000</td>\n",
       "      <td>4.743250</td>\n",
       "      <td>264725.000000</td>\n",
       "    </tr>\n",
       "    <tr>\n",
       "      <th>max</th>\n",
       "      <td>-114.310000</td>\n",
       "      <td>41.950000</td>\n",
       "      <td>52.000000</td>\n",
       "      <td>39320.000000</td>\n",
       "      <td>6445.000000</td>\n",
       "      <td>35682.000000</td>\n",
       "      <td>6082.000000</td>\n",
       "      <td>15.000100</td>\n",
       "      <td>500001.000000</td>\n",
       "    </tr>\n",
       "  </tbody>\n",
       "</table>\n",
       "</div>"
      ],
      "text/plain": [
       "          longitude      latitude  housing_median_age   total_rooms  \\\n",
       "count  20640.000000  20640.000000        20640.000000  20640.000000   \n",
       "mean    -119.569704     35.631861           28.639486   2635.763081   \n",
       "std        2.003532      2.135952           12.585558   2181.615252   \n",
       "min     -124.350000     32.540000            1.000000      2.000000   \n",
       "25%     -121.800000     33.930000           18.000000   1447.750000   \n",
       "50%     -118.490000     34.260000           29.000000   2127.000000   \n",
       "75%     -118.010000     37.710000           37.000000   3148.000000   \n",
       "max     -114.310000     41.950000           52.000000  39320.000000   \n",
       "\n",
       "       total_bedrooms    population    households  median_income  \\\n",
       "count    20433.000000  20640.000000  20640.000000   20640.000000   \n",
       "mean       537.870553   1425.476744    499.539680       3.870671   \n",
       "std        421.385070   1132.462122    382.329753       1.899822   \n",
       "min          1.000000      3.000000      1.000000       0.499900   \n",
       "25%        296.000000    787.000000    280.000000       2.563400   \n",
       "50%        435.000000   1166.000000    409.000000       3.534800   \n",
       "75%        647.000000   1725.000000    605.000000       4.743250   \n",
       "max       6445.000000  35682.000000   6082.000000      15.000100   \n",
       "\n",
       "       median_house_value  \n",
       "count        20640.000000  \n",
       "mean        206855.816909  \n",
       "std         115395.615874  \n",
       "min          14999.000000  \n",
       "25%         119600.000000  \n",
       "50%         179700.000000  \n",
       "75%         264725.000000  \n",
       "max         500001.000000  "
      ]
     },
     "execution_count": 4,
     "metadata": {},
     "output_type": "execute_result"
    }
   ],
   "source": [
    "df.describe() # To see the nummerical attributes (continuous)"
   ]
  },
  {
   "cell_type": "code",
   "execution_count": 5,
   "id": "b5e99e28",
   "metadata": {},
   "outputs": [
    {
     "data": {
      "text/plain": [
       "(20640, 10)"
      ]
     },
     "execution_count": 5,
     "metadata": {},
     "output_type": "execute_result"
    }
   ],
   "source": [
    "df.shape"
   ]
  },
  {
   "cell_type": "code",
   "execution_count": 6,
   "id": "1e9f349b",
   "metadata": {
    "id": "1e9f349b",
    "outputId": "11f7b7a6-bd78-41a4-8443-681752d7f7e4"
   },
   "outputs": [
    {
     "data": {
      "text/plain": [
       "<bound method IndexOpsMixin.value_counts of 0        NEAR BAY\n",
       "1        NEAR BAY\n",
       "2        NEAR BAY\n",
       "3        NEAR BAY\n",
       "4        NEAR BAY\n",
       "           ...   \n",
       "20635      INLAND\n",
       "20636      INLAND\n",
       "20637      INLAND\n",
       "20638      INLAND\n",
       "20639      INLAND\n",
       "Name: ocean_proximity, Length: 20640, dtype: object>"
      ]
     },
     "execution_count": 6,
     "metadata": {},
     "output_type": "execute_result"
    }
   ],
   "source": [
    "df[\"ocean_proximity\"].value_counts # To see the categorical attributes(categorical)"
   ]
  },
  {
   "cell_type": "code",
   "execution_count": 7,
   "id": "f0f40129",
   "metadata": {
    "id": "f0f40129"
   },
   "outputs": [],
   "source": [
    "# Python ≥3.5 is required\n",
    "import sys\n",
    "assert sys.version_info >= (3, 5)\n"
   ]
  },
  {
   "cell_type": "code",
   "execution_count": 8,
   "id": "e372f8d4",
   "metadata": {
    "id": "e372f8d4"
   },
   "outputs": [],
   "source": [
    "# Scikit-Learn ≥0.20 is required\n",
    "import sklearn\n",
    "assert sklearn.__version__ >= \"0.20\"\n"
   ]
  },
  {
   "cell_type": "code",
   "execution_count": 9,
   "id": "abb5e6f7",
   "metadata": {
    "id": "abb5e6f7"
   },
   "outputs": [],
   "source": [
    "# Common imports\n",
    "import numpy as np\n",
    "import os"
   ]
  },
  {
   "cell_type": "code",
   "execution_count": 10,
   "id": "3412a5db",
   "metadata": {
    "id": "3412a5db"
   },
   "outputs": [],
   "source": [
    "# To plot pretty figures\n",
    "%matplotlib inline\n",
    "import matplotlib as mpl\n",
    "import matplotlib.pyplot as plt\n",
    "#mpl.rc('axes', labelsize=14)\n",
    "#mpl.rc('xtick', labelsize=12)\n",
    "#mpl.rc('ytick', labelsize=12)\n"
   ]
  },
  {
   "cell_type": "code",
   "execution_count": 11,
   "id": "e3074b39",
   "metadata": {
    "id": "e3074b39"
   },
   "outputs": [],
   "source": [
    "# Where to save the figures\n",
    "PROJECT_ROOT_DIR = \".\"\n",
    "CHAPTER_ID = \"end_to_end_project\"\n",
    "IMAGES_PATH = os.path.join(PROJECT_ROOT_DIR, \"images\", CHAPTER_ID)\n",
    "os.makedirs(IMAGES_PATH, exist_ok=True)"
   ]
  },
  {
   "cell_type": "code",
   "execution_count": 12,
   "id": "dbd88bb1",
   "metadata": {
    "id": "dbd88bb1"
   },
   "outputs": [],
   "source": [
    "def save_fig(fig_id, tight_layout=True, fig_extension=\"png\", resolution=300):\n",
    "    path = os.path.join(IMAGES_PATH, fig_id + \".\" + fig_extension)\n",
    "    print(\"Saving figure\", fig_id)\n",
    "    if tight_layout:\n",
    "        plt.tight_layout()\n",
    "    plt.savefig(path, format=fig_extension, dpi=resolution)"
   ]
  },
  {
   "cell_type": "code",
   "execution_count": 13,
   "id": "3f708628",
   "metadata": {
    "id": "3f708628",
    "outputId": "d64f0b07-7c41-413b-e074-f3f293e64cd2"
   },
   "outputs": [
    {
     "data": {
      "text/plain": [
       "<1H OCEAN     9136\n",
       "INLAND        6551\n",
       "NEAR OCEAN    2658\n",
       "NEAR BAY      2290\n",
       "ISLAND           5\n",
       "Name: ocean_proximity, dtype: int64"
      ]
     },
     "execution_count": 13,
     "metadata": {},
     "output_type": "execute_result"
    }
   ],
   "source": [
    "df[\"ocean_proximity\"].value_counts()"
   ]
  },
  {
   "cell_type": "code",
   "execution_count": 14,
   "id": "8e27454b",
   "metadata": {
    "id": "8e27454b",
    "outputId": "60bf3bf1-2aa5-452b-8674-dadfe7c457bd"
   },
   "outputs": [
    {
     "data": {
      "text/html": [
       "<div>\n",
       "<style scoped>\n",
       "    .dataframe tbody tr th:only-of-type {\n",
       "        vertical-align: middle;\n",
       "    }\n",
       "\n",
       "    .dataframe tbody tr th {\n",
       "        vertical-align: top;\n",
       "    }\n",
       "\n",
       "    .dataframe thead th {\n",
       "        text-align: right;\n",
       "    }\n",
       "</style>\n",
       "<table border=\"1\" class=\"dataframe\">\n",
       "  <thead>\n",
       "    <tr style=\"text-align: right;\">\n",
       "      <th></th>\n",
       "      <th>longitude</th>\n",
       "      <th>latitude</th>\n",
       "      <th>housing_median_age</th>\n",
       "      <th>total_rooms</th>\n",
       "      <th>total_bedrooms</th>\n",
       "      <th>population</th>\n",
       "      <th>households</th>\n",
       "      <th>median_income</th>\n",
       "      <th>median_house_value</th>\n",
       "    </tr>\n",
       "  </thead>\n",
       "  <tbody>\n",
       "    <tr>\n",
       "      <th>count</th>\n",
       "      <td>20640.000000</td>\n",
       "      <td>20640.000000</td>\n",
       "      <td>20640.000000</td>\n",
       "      <td>20640.000000</td>\n",
       "      <td>20433.000000</td>\n",
       "      <td>20640.000000</td>\n",
       "      <td>20640.000000</td>\n",
       "      <td>20640.000000</td>\n",
       "      <td>20640.000000</td>\n",
       "    </tr>\n",
       "    <tr>\n",
       "      <th>mean</th>\n",
       "      <td>-119.569704</td>\n",
       "      <td>35.631861</td>\n",
       "      <td>28.639486</td>\n",
       "      <td>2635.763081</td>\n",
       "      <td>537.870553</td>\n",
       "      <td>1425.476744</td>\n",
       "      <td>499.539680</td>\n",
       "      <td>3.870671</td>\n",
       "      <td>206855.816909</td>\n",
       "    </tr>\n",
       "    <tr>\n",
       "      <th>std</th>\n",
       "      <td>2.003532</td>\n",
       "      <td>2.135952</td>\n",
       "      <td>12.585558</td>\n",
       "      <td>2181.615252</td>\n",
       "      <td>421.385070</td>\n",
       "      <td>1132.462122</td>\n",
       "      <td>382.329753</td>\n",
       "      <td>1.899822</td>\n",
       "      <td>115395.615874</td>\n",
       "    </tr>\n",
       "    <tr>\n",
       "      <th>min</th>\n",
       "      <td>-124.350000</td>\n",
       "      <td>32.540000</td>\n",
       "      <td>1.000000</td>\n",
       "      <td>2.000000</td>\n",
       "      <td>1.000000</td>\n",
       "      <td>3.000000</td>\n",
       "      <td>1.000000</td>\n",
       "      <td>0.499900</td>\n",
       "      <td>14999.000000</td>\n",
       "    </tr>\n",
       "    <tr>\n",
       "      <th>25%</th>\n",
       "      <td>-121.800000</td>\n",
       "      <td>33.930000</td>\n",
       "      <td>18.000000</td>\n",
       "      <td>1447.750000</td>\n",
       "      <td>296.000000</td>\n",
       "      <td>787.000000</td>\n",
       "      <td>280.000000</td>\n",
       "      <td>2.563400</td>\n",
       "      <td>119600.000000</td>\n",
       "    </tr>\n",
       "    <tr>\n",
       "      <th>50%</th>\n",
       "      <td>-118.490000</td>\n",
       "      <td>34.260000</td>\n",
       "      <td>29.000000</td>\n",
       "      <td>2127.000000</td>\n",
       "      <td>435.000000</td>\n",
       "      <td>1166.000000</td>\n",
       "      <td>409.000000</td>\n",
       "      <td>3.534800</td>\n",
       "      <td>179700.000000</td>\n",
       "    </tr>\n",
       "    <tr>\n",
       "      <th>75%</th>\n",
       "      <td>-118.010000</td>\n",
       "      <td>37.710000</td>\n",
       "      <td>37.000000</td>\n",
       "      <td>3148.000000</td>\n",
       "      <td>647.000000</td>\n",
       "      <td>1725.000000</td>\n",
       "      <td>605.000000</td>\n",
       "      <td>4.743250</td>\n",
       "      <td>264725.000000</td>\n",
       "    </tr>\n",
       "    <tr>\n",
       "      <th>max</th>\n",
       "      <td>-114.310000</td>\n",
       "      <td>41.950000</td>\n",
       "      <td>52.000000</td>\n",
       "      <td>39320.000000</td>\n",
       "      <td>6445.000000</td>\n",
       "      <td>35682.000000</td>\n",
       "      <td>6082.000000</td>\n",
       "      <td>15.000100</td>\n",
       "      <td>500001.000000</td>\n",
       "    </tr>\n",
       "  </tbody>\n",
       "</table>\n",
       "</div>"
      ],
      "text/plain": [
       "          longitude      latitude  housing_median_age   total_rooms  \\\n",
       "count  20640.000000  20640.000000        20640.000000  20640.000000   \n",
       "mean    -119.569704     35.631861           28.639486   2635.763081   \n",
       "std        2.003532      2.135952           12.585558   2181.615252   \n",
       "min     -124.350000     32.540000            1.000000      2.000000   \n",
       "25%     -121.800000     33.930000           18.000000   1447.750000   \n",
       "50%     -118.490000     34.260000           29.000000   2127.000000   \n",
       "75%     -118.010000     37.710000           37.000000   3148.000000   \n",
       "max     -114.310000     41.950000           52.000000  39320.000000   \n",
       "\n",
       "       total_bedrooms    population    households  median_income  \\\n",
       "count    20433.000000  20640.000000  20640.000000   20640.000000   \n",
       "mean       537.870553   1425.476744    499.539680       3.870671   \n",
       "std        421.385070   1132.462122    382.329753       1.899822   \n",
       "min          1.000000      3.000000      1.000000       0.499900   \n",
       "25%        296.000000    787.000000    280.000000       2.563400   \n",
       "50%        435.000000   1166.000000    409.000000       3.534800   \n",
       "75%        647.000000   1725.000000    605.000000       4.743250   \n",
       "max       6445.000000  35682.000000   6082.000000      15.000100   \n",
       "\n",
       "       median_house_value  \n",
       "count        20640.000000  \n",
       "mean        206855.816909  \n",
       "std         115395.615874  \n",
       "min          14999.000000  \n",
       "25%         119600.000000  \n",
       "50%         179700.000000  \n",
       "75%         264725.000000  \n",
       "max         500001.000000  "
      ]
     },
     "execution_count": 14,
     "metadata": {},
     "output_type": "execute_result"
    }
   ],
   "source": [
    "df.describe()"
   ]
  },
  {
   "cell_type": "code",
   "execution_count": 15,
   "id": "b466a6d4",
   "metadata": {
    "id": "b466a6d4",
    "outputId": "03755e88-c993-471a-e718-517b0dfe9dd6"
   },
   "outputs": [
    {
     "name": "stdout",
     "output_type": "stream",
     "text": [
      "Saving figure attribute_histogram_plots\n"
     ]
    },
    {
     "data": {
      "image/png": "[encoded data removed]",
      "text/plain": [
       "<Figure size 1440x1080 with 9 Axes>"
      ]
     },
     "metadata": {
      "needs_background": "light"
     },
     "output_type": "display_data"
    }
   ],
   "source": [
    "%matplotlib inline\n",
    "import matplotlib.pyplot as plt\n",
    "df.hist(bins=50, figsize=(20,15))\n",
    "save_fig(\"attribute_histogram_plots\")\n",
    "plt.show()"
   ]
  },
  {
   "cell_type": "markdown",
   "id": "fe44c676",
   "metadata": {
    "id": "fe44c676"
   },
   "source": [
    "Tail Heavy histograms\n"
   ]
  },
  {
   "cell_type": "markdown",
   "id": "0a2bad77",
   "metadata": {
    "id": "0a2bad77"
   },
   "source": [
    "# Create Test Set"
   ]
  },
  {
   "cell_type": "markdown",
   "id": "9ebeb88b",
   "metadata": {
    "id": "9ebeb88b"
   },
   "source": [
    "split test set \n",
    "leave aside validation set for reducing generalization error. \n"
   ]
  },
  {
   "cell_type": "code",
   "execution_count": 16,
   "id": "d5820411",
   "metadata": {
    "id": "d5820411"
   },
   "outputs": [],
   "source": [
    "#create the function Split_train_test for splitting training & test dataset.\n",
    "import numpy as np\n",
    "def split_train_test(data, test_ratio):\n",
    "    shuffled_indices= np.random.permutation(len(data)) \n",
    "    test_set_size = int(len(data) * test_ratio)\n",
    "    test_indices = shuffled_indices[:test_set_size]\n",
    "    train_indices = shuffled_indices[test_set_size:]\n",
    "    return data.iloc[train_indices], data.iloc[test_indices]\n",
    "    "
   ]
  },
  {
   "cell_type": "code",
   "execution_count": 17,
   "id": "b4574c3e",
   "metadata": {
    "id": "b4574c3e",
    "outputId": "10bdae59-8c6d-49f8-e539-3e6b547c00c1",
    "scrolled": true
   },
   "outputs": [
    {
     "name": "stdout",
     "output_type": "stream",
     "text": [
      "       longitude  latitude  housing_median_age  total_rooms  total_bedrooms  \\\n",
      "19539    -120.96     37.65                34.0       1700.0           325.0   \n",
      "11405    -117.96     33.71                19.0       4328.0           849.0   \n",
      "14678    -117.11     32.82                16.0       4241.0           892.0   \n",
      "18986    -121.94     38.37                17.0       7973.0          1591.0   \n",
      "11551    -117.98     33.75                37.0       1264.0           274.0   \n",
      "...          ...       ...                 ...          ...             ...   \n",
      "18084    -122.06     37.32                30.0       3033.0           540.0   \n",
      "11836    -120.98     39.08                20.0       4570.0           906.0   \n",
      "16265    -121.27     37.96                41.0        461.0           101.0   \n",
      "9058     -118.14     34.69                35.0       2118.0           374.0   \n",
      "9618     -120.46     37.29                30.0       2972.0           635.0   \n",
      "\n",
      "       population  households  median_income  median_house_value  \\\n",
      "19539       972.0       326.0         2.4485             95500.0   \n",
      "11405      2243.0       808.0         5.5702            342600.0   \n",
      "14678      1771.0       864.0         4.3750            166500.0   \n",
      "18986      2899.0      1502.0         2.8357            120100.0   \n",
      "11551       783.0       273.0         3.3438            199600.0   \n",
      "...           ...         ...            ...                 ...   \n",
      "18084      1440.0       507.0         6.2182            380800.0   \n",
      "11836      2125.0       815.0         3.0403            148000.0   \n",
      "16265       382.0        79.0         1.2750             54000.0   \n",
      "9058       1108.0       360.0         3.4327            100300.0   \n",
      "9618       1940.0       590.0         2.3594             72300.0   \n",
      "\n",
      "      ocean_proximity  \n",
      "19539          INLAND  \n",
      "11405       <1H OCEAN  \n",
      "14678      NEAR OCEAN  \n",
      "18986          INLAND  \n",
      "11551       <1H OCEAN  \n",
      "...               ...  \n",
      "18084       <1H OCEAN  \n",
      "11836          INLAND  \n",
      "16265          INLAND  \n",
      "9058           INLAND  \n",
      "9618           INLAND  \n",
      "\n",
      "[16512 rows x 10 columns]\n",
      "       longitude  latitude  housing_median_age  total_rooms  total_bedrooms  \\\n",
      "20112    -119.93     37.85                18.0        473.0           115.0   \n",
      "16752    -122.46     37.70                42.0        876.0           216.0   \n",
      "11846    -120.57     39.78                15.0       1291.0           283.0   \n",
      "13745    -117.17     34.08                 5.0       1473.0           228.0   \n",
      "12877    -121.37     38.66                17.0       4866.0          1056.0   \n",
      "...          ...       ...                 ...          ...             ...   \n",
      "18917    -122.15     38.04                14.0       2804.0           587.0   \n",
      "13618    -117.27     34.13                36.0       3337.0           687.0   \n",
      "3769     -118.43     34.16                34.0       2459.0           489.0   \n",
      "16470    -121.26     38.12                27.0       1818.0           459.0   \n",
      "370      -122.15     37.75                44.0       1938.0           399.0   \n",
      "\n",
      "       population  households  median_income  median_house_value  \\\n",
      "20112        88.0        41.0         4.0833            137500.0   \n",
      "16752       713.0       203.0         3.8400            235900.0   \n",
      "11846       582.0       242.0         2.1216            102000.0   \n",
      "13745       842.0       257.0         4.8750            138100.0   \n",
      "12877      2371.0      1030.0         2.4574            103300.0   \n",
      "...           ...         ...            ...                 ...   \n",
      "18917      1083.0       573.0         2.6466            168500.0   \n",
      "13618      2388.0       589.0         2.9628             87800.0   \n",
      "3769       1139.0       463.0         4.0347            353600.0   \n",
      "16470      1182.0       428.0         1.8575             73800.0   \n",
      "370         946.0       331.0         3.2250            135800.0   \n",
      "\n",
      "      ocean_proximity  \n",
      "20112          INLAND  \n",
      "16752      NEAR OCEAN  \n",
      "11846          INLAND  \n",
      "13745          INLAND  \n",
      "12877          INLAND  \n",
      "...               ...  \n",
      "18917        NEAR BAY  \n",
      "13618          INLAND  \n",
      "3769        <1H OCEAN  \n",
      "16470          INLAND  \n",
      "370          NEAR BAY  \n",
      "\n",
      "[4128 rows x 10 columns]\n"
     ]
    }
   ],
   "source": [
    "#Call Split_train_test function to create train & test sets with 20% of the housing dataset being test set\n",
    "train_set, test_set = split_train_test(df, 0.2)\n",
    "len(train_set)\n",
    "print(train_set)\n",
    "len(test_set)\n",
    "print(test_set)"
   ]
  },
  {
   "cell_type": "markdown",
   "id": "19d12bfe",
   "metadata": {},
   "source": [
    "Well..above 20% test_set creation was pretty straightforward, but concern is..next time you call this function, it will generate different test set. you do not want that. Over time, your ML algo will go through whole set, which you do not want."
   ]
  },
  {
   "cell_type": "markdown",
   "id": "be0858bc",
   "metadata": {},
   "source": [
    "Solution 1: Save the test set on the first run & load it in subsequent runs & that cycle continues\n",
    "Solution 2: Set random number generator seed (np.random.seed(100))before you call np.random.permutation()\n",
    "So that it always generates  the same shuffled indices."
   ]
  },
  {
   "cell_type": "markdown",
   "id": "4352d45d",
   "metadata": {},
   "source": [
    "Both Solution 1 & 2 will not work if an updated dataset arrives. How do I make sure I have a stable train/test split even after the incoming dataset is new?\n",
    "you want to use each instance's unique & immutable identifier. "
   ]
  },
  {
   "cell_type": "markdown",
   "id": "05f7b36c",
   "metadata": {},
   "source": [
    "How ? Example \n",
    "compute a hash of each instance's identifier & put that instance in the test set If the hash is <=20% of the maximum hash value, then the test set will remain consistent across all parallel runs, even if you refresh your dataset regularly.\n",
    "The test set will contain 20% of the new instances, but it will not pick any of the instances that were previously existing in the training set.  \n",
    "Assumption: Instances Identifiers are unique & immutable. "
   ]
  },
  {
   "cell_type": "code",
   "execution_count": 18,
   "id": "d549c780",
   "metadata": {
    "id": "d549c780"
   },
   "outputs": [],
   "source": [
    "#Below is the function checking the instance hash value threshold\n",
    "from zlib import crc32\n",
    "def test_set_check(identifier, test_ratio):\n",
    "    return crc32(np.int64(identifier)) & 0xffffffff < test_ratio * 2**32\n",
    "\n",
    "#Below is the function for calling above function & creating housing test set with ID(Hash value based)\n",
    "def split_train_test_by_id(data, test_ratio, id_column):\n",
    "    ids = data[id_column]\n",
    "    in_test_set = ids.apply(lambda id_: test_set_check(id_, test_ratio))\n",
    "    return data.loc[~in_test_set], data.loc[in_test_set]"
   ]
  },
  {
   "cell_type": "markdown",
   "id": "256c6e1b",
   "metadata": {},
   "source": [
    "The dataset here has no ID column as such, so we will pass  row index as id for housing dataset using df.reset_index().\n",
    "In next step I would have a mechanism to create 20% guaranteed No-repeat test set & remaining 80% of instance ready as training data set."
   ]
  },
  {
   "cell_type": "code",
   "execution_count": 19,
   "id": "be0fd091",
   "metadata": {
    "id": "be0fd091",
    "outputId": "3d65e67f-a723-4656-d119-a964c932208e"
   },
   "outputs": [
    {
     "name": "stdout",
     "output_type": "stream",
     "text": [
      "       index  longitude  latitude  housing_median_age  total_rooms  \\\n",
      "0          0    -122.23     37.88                41.0        880.0   \n",
      "1          1    -122.22     37.86                21.0       7099.0   \n",
      "3          3    -122.25     37.85                52.0       1274.0   \n",
      "4          4    -122.25     37.85                52.0       1627.0   \n",
      "6          6    -122.25     37.84                52.0       2535.0   \n",
      "...      ...        ...       ...                 ...          ...   \n",
      "20635  20635    -121.09     39.48                25.0       1665.0   \n",
      "20636  20636    -121.21     39.49                18.0        697.0   \n",
      "20637  20637    -121.22     39.43                17.0       2254.0   \n",
      "20638  20638    -121.32     39.43                18.0       1860.0   \n",
      "20639  20639    -121.24     39.37                16.0       2785.0   \n",
      "\n",
      "       total_bedrooms  population  households  median_income  \\\n",
      "0               129.0       322.0       126.0         8.3252   \n",
      "1              1106.0      2401.0      1138.0         8.3014   \n",
      "3               235.0       558.0       219.0         5.6431   \n",
      "4               280.0       565.0       259.0         3.8462   \n",
      "6               489.0      1094.0       514.0         3.6591   \n",
      "...               ...         ...         ...            ...   \n",
      "20635           374.0       845.0       330.0         1.5603   \n",
      "20636           150.0       356.0       114.0         2.5568   \n",
      "20637           485.0      1007.0       433.0         1.7000   \n",
      "20638           409.0       741.0       349.0         1.8672   \n",
      "20639           616.0      1387.0       530.0         2.3886   \n",
      "\n",
      "       median_house_value ocean_proximity  \n",
      "0                452600.0        NEAR BAY  \n",
      "1                358500.0        NEAR BAY  \n",
      "3                341300.0        NEAR BAY  \n",
      "4                342200.0        NEAR BAY  \n",
      "6                299200.0        NEAR BAY  \n",
      "...                   ...             ...  \n",
      "20635             78100.0          INLAND  \n",
      "20636             77100.0          INLAND  \n",
      "20637             92300.0          INLAND  \n",
      "20638             84700.0          INLAND  \n",
      "20639             89400.0          INLAND  \n",
      "\n",
      "[16512 rows x 11 columns]\n",
      "       index  longitude  latitude  housing_median_age  total_rooms  \\\n",
      "2          2    -122.24     37.85                52.0       1467.0   \n",
      "5          5    -122.25     37.85                52.0        919.0   \n",
      "12        12    -122.26     37.85                52.0       2491.0   \n",
      "16        16    -122.27     37.85                52.0       1966.0   \n",
      "23        23    -122.27     37.84                52.0       1688.0   \n",
      "...      ...        ...       ...                 ...          ...   \n",
      "20615  20615    -121.54     39.08                23.0       1076.0   \n",
      "20617  20617    -121.53     39.06                20.0        561.0   \n",
      "20622  20622    -121.44     39.00                20.0        755.0   \n",
      "20626  20626    -121.43     39.18                36.0       1124.0   \n",
      "20629  20629    -121.39     39.12                28.0      10035.0   \n",
      "\n",
      "       total_bedrooms  population  households  median_income  \\\n",
      "2               190.0       496.0       177.0         7.2574   \n",
      "5               213.0       413.0       193.0         4.0368   \n",
      "12              474.0      1098.0       468.0         3.0750   \n",
      "16              347.0       793.0       331.0         2.7750   \n",
      "23              337.0       853.0       325.0         2.1806   \n",
      "...               ...         ...         ...            ...   \n",
      "20615           216.0       724.0       197.0         2.3598   \n",
      "20617           109.0       308.0       114.0         3.3021   \n",
      "20622           147.0       457.0       157.0         2.4167   \n",
      "20626           184.0       504.0       171.0         2.1667   \n",
      "20629          1856.0      6912.0      1818.0         2.0943   \n",
      "\n",
      "       median_house_value ocean_proximity  \n",
      "2                352100.0        NEAR BAY  \n",
      "5                269700.0        NEAR BAY  \n",
      "12               213500.0        NEAR BAY  \n",
      "16               152500.0        NEAR BAY  \n",
      "23                99700.0        NEAR BAY  \n",
      "...                   ...             ...  \n",
      "20615             57500.0          INLAND  \n",
      "20617             70800.0          INLAND  \n",
      "20622             67000.0          INLAND  \n",
      "20626             93800.0          INLAND  \n",
      "20629            108300.0          INLAND  \n",
      "\n",
      "[4128 rows x 11 columns]\n"
     ]
    }
   ],
   "source": [
    "df_with_id = df.reset_index()\n",
    "train_set, test_set = split_train_test_by_id(df_with_id, 0.2, \"index\")\n",
    "print(train_set)\n",
    "print (test_set)"
   ]
  },
  {
   "cell_type": "markdown",
   "id": "af074ea9",
   "metadata": {
    "id": "550060ae"
   },
   "source": [
    "Assumption : Make sure all the new or fresh dataset gets appended to the last feed & No row ever gets deleted.\n",
    "If its unrealistic, then use most stable feature to build the unique & immutable ID for computing the hash values out of. \n",
    "For example ( in this case Lattitude & Longitude ) - won't change in next eternity( unless world needs recalibrating after a huge shrink in earth's size  !!!!) \n",
    "Let's try this option too. "
   ]
  },
  {
   "cell_type": "code",
   "execution_count": 20,
   "id": "2db20f73",
   "metadata": {},
   "outputs": [],
   "source": [
    "df_with_id[\"id\"]=df[\"longitude\"] * 1000 + df[\"latitude\"]\n",
    "train_set, test_set = split_train_test_by_id(df_with_id, 0.2, \"id\")"
   ]
  },
  {
   "cell_type": "markdown",
   "id": "f8858cc1",
   "metadata": {},
   "source": [
    "Let's discuss quickly on how sklearn enables train test split\n",
    "sklearn provides 2 functions ( Don't go confused)\n",
    "1. train_test_split() - \n",
    "-----------------------------\n",
    "#This one has random_state parameter for random seed genration ( we will use this one) + we can pass multiple datasets with an identical number of rows  that can be split on same indices ( Good for cases where each label/class  of dataset gets fresh dataset to learn from. \n",
    "2. split_train_test()  - \n",
    "--------------------------------\n",
    "#This one only splits dataset to train  & test set"
   ]
  },
  {
   "cell_type": "code",
   "execution_count": 21,
   "id": "e0f061a6",
   "metadata": {},
   "outputs": [],
   "source": [
    "from sklearn.model_selection import train_test_split\n",
    "train_set, test_set, = train_test_split(df, test_size=0.2, random_state=42)"
   ]
  },
  {
   "cell_type": "markdown",
   "id": "2430a8f3",
   "metadata": {},
   "source": [
    "So far we have considered purely random sampling methods.\n",
    "Principle to use Random Sampling, is if your Dataframe is of size RxC ( Row x Column) & R is not too bigger than C ( Not too long dataset, rather smaller dataset) \n",
    "In case you do not follow above principle, it would introduce Sampling Bias. \n",
    "\n",
    "Its better to do Stratified Sampling, ( X% from class A, y% from class B etc.)\n",
    "\n",
    "The data population is divided into well balanced  homogenous subgroups ( Strata) ensuring test set is representative of overall population, so we do not want skewed test set. "
   ]
  },
  {
   "cell_type": "markdown",
   "id": "d7965b47",
   "metadata": {},
   "source": [
    "Let's discuss income as an important feature for housing prices.\n",
    "income is a continuous attribute & average of income is not a very effectively engineered feature, if there are lot of outliers reside in the dataset.\n"
   ]
  },
  {
   "cell_type": "markdown",
   "id": "f7a49f57",
   "metadata": {},
   "source": [
    "Median is a better option in such cases, even for contonuous variables ( Not just for categorical variables) "
   ]
  },
  {
   "cell_type": "code",
   "execution_count": null,
   "id": "067719a4",
   "metadata": {},
   "outputs": [],
   "source": []
  },
  {
   "cell_type": "code",
   "execution_count": null,
   "id": "a44874fc",
   "metadata": {},
   "outputs": [],
   "source": []
  }
 ],
 "metadata": {
  "colab": {
   "name": "Test_ML_project_houseing_price.ipynb",
   "provenance": []
  },
  "kernelspec": {
   "display_name": "Python 3 (ipykernel)",
   "language": "python",
   "name": "python3"
  },
  "language_info": {
   "codemirror_mode": {
    "name": "ipython",
    "version": 3
   },
   "file_extension": ".py",
   "mimetype": "text/x-python",
   "name": "python",
   "nbconvert_exporter": "python",
   "pygments_lexer": "ipython3",
   "version": "3.9.7"
  }
 },
 "nbformat": 4,
 "nbformat_minor": 5
}
