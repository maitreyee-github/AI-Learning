{
 "cells": [
  {
   "cell_type": "markdown",
   "id": "a808129d",
   "metadata": {},
   "source": [
    "Basic steps for any ML Project  ( even if no ML Ops) \n",
    "   Identify the problem statement \n",
    "   Collect the data \n",
    "   Gain insight\n",
    "   Prepare the data for ML alogorithm\n",
    "   select a model , train it \n",
    "   fine tune model\n",
    "   \n",
    "   "
   ]
  },
  {
   "cell_type": "code",
   "execution_count": 1,
   "id": "80d369e5",
   "metadata": {},
   "outputs": [
    {
     "ename": "SyntaxError",
     "evalue": "invalid syntax (<ipython-input-1-5d557f1039ef>, line 1)",
     "output_type": "error",
     "traceback": [
      "\u001b[1;36m  File \u001b[1;32m\"<ipython-input-1-5d557f1039ef>\"\u001b[1;36m, line \u001b[1;32m1\u001b[0m\n\u001b[1;33m    export ML_PATH=\"$HOME/ml\"\u001b[0m\n\u001b[1;37m           ^\u001b[0m\n\u001b[1;31mSyntaxError\u001b[0m\u001b[1;31m:\u001b[0m invalid syntax\n"
     ]
    }
   ],
   "source": [
    "export ML_PATH=\"$HOME/ml\""
   ]
  },
  {
   "cell_type": "code",
   "execution_count": null,
   "id": "dcee92ff",
   "metadata": {},
   "outputs": [],
   "source": []
  }
 ],
 "metadata": {
  "kernelspec": {
   "display_name": "Python 3",
   "language": "python",
   "name": "python3"
  },
  "language_info": {
   "codemirror_mode": {
    "name": "ipython",
    "version": 3
   },
   "file_extension": ".py",
   "mimetype": "text/x-python",
   "name": "python",
   "nbconvert_exporter": "python",
   "pygments_lexer": "ipython3",
   "version": "3.8.8"
  }
 },
 "nbformat": 4,
 "nbformat_minor": 5
}
