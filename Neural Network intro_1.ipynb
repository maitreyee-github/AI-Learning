{
 "cells": [
  {
   "cell_type": "markdown",
   "id": "5ecc05db-ae46-4952-88ce-cfb80eef1981",
   "metadata": {},
   "source": [
    "Single Perceptron architecture using Iris dataset"
   ]
  },
  {
   "cell_type": "code",
   "execution_count": 5,
   "id": "a722b82a-0f34-45be-a36e-ea8c84ea6100",
   "metadata": {},
   "outputs": [
    {
     "name": "stdout",
     "output_type": "stream",
     "text": [
      "Predicted class: [0]\n"
     ]
    }
   ],
   "source": [
    "import numpy as np\n",
    "from sklearn.datasets import load_iris\n",
    "from sklearn.linear_model import Perceptron\n",
    "\n",
    "# Load Iris dataset\n",
    "iris = load_iris()\n",
    "X = iris.data[:, (2, 3)]  # Features: petal_length, petal_width\n",
    "y = (iris.target == 0).astype(int)  # Binary target: 1 if setosa, 0 otherwise\n",
    "\n",
    "# Initialize and train the Perceptron\n",
    "per_clf = Perceptron()\n",
    "per_clf.fit(X, y)\n",
    "\n",
    "# Predict for a new sample\n",
    "y_pred = per_clf.predict([[2, 0.5]])\n",
    "print(\"Predicted class:\", y_pred)\n"
   ]
  },
  {
   "cell_type": "code",
   "execution_count": null,
   "id": "d387105d-197d-4271-bb96-89e849341a6b",
   "metadata": {},
   "outputs": [],
   "source": []
  }
 ],
 "metadata": {
  "kernelspec": {
   "display_name": "Python 3 (ipykernel)",
   "language": "python",
   "name": "python3"
  },
  "language_info": {
   "codemirror_mode": {
    "name": "ipython",
    "version": 3
   },
   "file_extension": ".py",
   "mimetype": "text/x-python",
   "name": "python",
   "nbconvert_exporter": "python",
   "pygments_lexer": "ipython3",
   "version": "3.12.7"
  }
 },
 "nbformat": 4,
 "nbformat_minor": 5
}
