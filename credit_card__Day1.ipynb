{
  "cells": [
    {
      "cell_type": "markdown",
      "metadata": {
        "id": "view-in-github",
        "colab_type": "text"
      },
      "source": [
        "<a href=\"https://colab.research.google.com/github/maitreyee-github/AI-Learning/blob/main/credit_card__Day1.ipynb\" target=\"_parent\"><img src=\"https://colab.research.google.com/assets/colab-badge.svg\" alt=\"Open In Colab\"/></a>"
      ]
    },
    {
      "cell_type": "markdown",
      "metadata": {
        "id": "fv-Oen0tQ_j3"
      },
      "source": []
    },
    {
      "cell_type": "code",
      "execution_count": null,
      "metadata": {
        "colab": {
          "base_uri": "https://localhost:8080/"
        },
        "id": "3xREh-_CVS3N",
        "outputId": "fc7fb37f-38a8-476e-d34c-d9bf34aa91af"
      },
      "outputs": [
        {
          "name": "stdout",
          "output_type": "stream",
          "text": [
            "Numpy: 1.26.4\n",
            "Pandas: 2.2.2\n",
            "matplotlib: 3.9.2\n",
            "seaborn: 0.13.2\n",
            "Scikit-Learn 1.5.1\n",
            "Requirement already satisfied: mlflow in c:\\users\\sinhacho\\appdata\\local\\anaconda3\\lib\\site-packages (2.17.2)\n",
            "Requirement already satisfied: mlflow-skinny==2.17.2 in c:\\users\\sinhacho\\appdata\\local\\anaconda3\\lib\\site-packages (from mlflow) (2.17.2)\n",
            "Requirement already satisfied: Flask<4 in c:\\users\\sinhacho\\appdata\\local\\anaconda3\\lib\\site-packages (from mlflow) (3.0.3)\n",
            "Requirement already satisfied: alembic!=1.10.0,<2 in c:\\users\\sinhacho\\appdata\\local\\anaconda3\\lib\\site-packages (from mlflow) (1.14.0)\n",
            "Requirement already satisfied: docker<8,>=4.0.0 in c:\\users\\sinhacho\\appdata\\local\\anaconda3\\lib\\site-packages (from mlflow) (7.1.0)\n",
            "Requirement already satisfied: graphene<4 in c:\\users\\sinhacho\\appdata\\local\\anaconda3\\lib\\site-packages (from mlflow) (3.4.3)\n",
            "Requirement already satisfied: markdown<4,>=3.3 in c:\\users\\sinhacho\\appdata\\local\\anaconda3\\lib\\site-packages (from mlflow) (3.4.1)\n",
            "Requirement already satisfied: matplotlib<4 in c:\\users\\sinhacho\\appdata\\local\\anaconda3\\lib\\site-packages (from mlflow) (3.9.2)\n",
            "Requirement already satisfied: numpy<3 in c:\\users\\sinhacho\\appdata\\local\\anaconda3\\lib\\site-packages (from mlflow) (1.26.4)\n",
            "Requirement already satisfied: pandas<3 in c:\\users\\sinhacho\\appdata\\local\\anaconda3\\lib\\site-packages (from mlflow) (2.2.2)\n",
            "Requirement already satisfied: pyarrow<18,>=4.0.0 in c:\\users\\sinhacho\\appdata\\local\\anaconda3\\lib\\site-packages (from mlflow) (16.1.0)\n",
            "Requirement already satisfied: scikit-learn<2 in c:\\users\\sinhacho\\appdata\\local\\anaconda3\\lib\\site-packages (from mlflow) (1.5.1)\n",
            "Requirement already satisfied: scipy<2 in c:\\users\\sinhacho\\appdata\\local\\anaconda3\\lib\\site-packages (from mlflow) (1.13.1)\n",
            "Requirement already satisfied: sqlalchemy<3,>=1.4.0 in c:\\users\\sinhacho\\appdata\\local\\anaconda3\\lib\\site-packages (from mlflow) (2.0.34)\n",
            "Requirement already satisfied: Jinja2<4,>=3.0 in c:\\users\\sinhacho\\appdata\\local\\anaconda3\\lib\\site-packages (from mlflow) (3.1.4)\n",
            "Requirement already satisfied: waitress<4 in c:\\users\\sinhacho\\appdata\\local\\anaconda3\\lib\\site-packages (from mlflow) (3.0.2)\n",
            "Requirement already satisfied: cachetools<6,>=5.0.0 in c:\\users\\sinhacho\\appdata\\local\\anaconda3\\lib\\site-packages (from mlflow-skinny==2.17.2->mlflow) (5.3.3)\n",
            "Requirement already satisfied: click<9,>=7.0 in c:\\users\\sinhacho\\appdata\\local\\anaconda3\\lib\\site-packages (from mlflow-skinny==2.17.2->mlflow) (8.1.7)\n",
            "Requirement already satisfied: cloudpickle<4 in c:\\users\\sinhacho\\appdata\\local\\anaconda3\\lib\\site-packages (from mlflow-skinny==2.17.2->mlflow) (3.0.0)\n",
            "Requirement already satisfied: databricks-sdk<1,>=0.20.0 in c:\\users\\sinhacho\\appdata\\local\\anaconda3\\lib\\site-packages (from mlflow-skinny==2.17.2->mlflow) (0.37.0)\n",
            "Requirement already satisfied: gitpython<4,>=3.1.9 in c:\\users\\sinhacho\\appdata\\local\\anaconda3\\lib\\site-packages (from mlflow-skinny==2.17.2->mlflow) (3.1.43)\n",
            "Requirement already satisfied: importlib-metadata!=4.7.0,<9,>=3.7.0 in c:\\users\\sinhacho\\appdata\\local\\anaconda3\\lib\\site-packages (from mlflow-skinny==2.17.2->mlflow) (7.0.1)\n",
            "Requirement already satisfied: opentelemetry-api<3,>=1.9.0 in c:\\users\\sinhacho\\appdata\\local\\anaconda3\\lib\\site-packages (from mlflow-skinny==2.17.2->mlflow) (1.28.1)\n",
            "Requirement already satisfied: opentelemetry-sdk<3,>=1.9.0 in c:\\users\\sinhacho\\appdata\\local\\anaconda3\\lib\\site-packages (from mlflow-skinny==2.17.2->mlflow) (1.28.1)\n",
            "Requirement already satisfied: packaging<25 in c:\\users\\sinhacho\\appdata\\local\\anaconda3\\lib\\site-packages (from mlflow-skinny==2.17.2->mlflow) (24.1)\n",
            "Requirement already satisfied: protobuf<6,>=3.12.0 in c:\\users\\sinhacho\\appdata\\local\\anaconda3\\lib\\site-packages (from mlflow-skinny==2.17.2->mlflow) (4.25.3)\n",
            "Requirement already satisfied: pyyaml<7,>=5.1 in c:\\users\\sinhacho\\appdata\\local\\anaconda3\\lib\\site-packages (from mlflow-skinny==2.17.2->mlflow) (6.0.1)\n",
            "Requirement already satisfied: requests<3,>=2.17.3 in c:\\users\\sinhacho\\appdata\\local\\anaconda3\\lib\\site-packages (from mlflow-skinny==2.17.2->mlflow) (2.32.3)\n",
            "Requirement already satisfied: sqlparse<1,>=0.4.0 in c:\\users\\sinhacho\\appdata\\local\\anaconda3\\lib\\site-packages (from mlflow-skinny==2.17.2->mlflow) (0.5.2)\n",
            "Requirement already satisfied: Mako in c:\\users\\sinhacho\\appdata\\local\\anaconda3\\lib\\site-packages (from alembic!=1.10.0,<2->mlflow) (1.3.6)\n",
            "Requirement already satisfied: typing-extensions>=4 in c:\\users\\sinhacho\\appdata\\local\\anaconda3\\lib\\site-packages (from alembic!=1.10.0,<2->mlflow) (4.11.0)\n",
            "Requirement already satisfied: pywin32>=304 in c:\\users\\sinhacho\\appdata\\local\\anaconda3\\lib\\site-packages (from docker<8,>=4.0.0->mlflow) (305.1)\n",
            "Requirement already satisfied: urllib3>=1.26.0 in c:\\users\\sinhacho\\appdata\\local\\anaconda3\\lib\\site-packages (from docker<8,>=4.0.0->mlflow) (2.2.3)\n",
            "Requirement already satisfied: Werkzeug>=3.0.0 in c:\\users\\sinhacho\\appdata\\local\\anaconda3\\lib\\site-packages (from Flask<4->mlflow) (3.0.3)\n",
            "Requirement already satisfied: itsdangerous>=2.1.2 in c:\\users\\sinhacho\\appdata\\local\\anaconda3\\lib\\site-packages (from Flask<4->mlflow) (2.2.0)\n",
            "Requirement already satisfied: blinker>=1.6.2 in c:\\users\\sinhacho\\appdata\\local\\anaconda3\\lib\\site-packages (from Flask<4->mlflow) (1.6.2)\n",
            "Requirement already satisfied: graphql-core<3.3,>=3.1 in c:\\users\\sinhacho\\appdata\\local\\anaconda3\\lib\\site-packages (from graphene<4->mlflow) (3.2.5)\n",
            "Requirement already satisfied: graphql-relay<3.3,>=3.1 in c:\\users\\sinhacho\\appdata\\local\\anaconda3\\lib\\site-packages (from graphene<4->mlflow) (3.2.0)\n",
            "Requirement already satisfied: python-dateutil<3,>=2.7.0 in c:\\users\\sinhacho\\appdata\\local\\anaconda3\\lib\\site-packages (from graphene<4->mlflow) (2.9.0.post0)\n",
            "Requirement already satisfied: MarkupSafe>=2.0 in c:\\users\\sinhacho\\appdata\\local\\anaconda3\\lib\\site-packages (from Jinja2<4,>=3.0->mlflow) (2.1.3)\n",
            "Requirement already satisfied: contourpy>=1.0.1 in c:\\users\\sinhacho\\appdata\\local\\anaconda3\\lib\\site-packages (from matplotlib<4->mlflow) (1.2.0)\n",
            "Requirement already satisfied: cycler>=0.10 in c:\\users\\sinhacho\\appdata\\local\\anaconda3\\lib\\site-packages (from matplotlib<4->mlflow) (0.11.0)\n",
            "Requirement already satisfied: fonttools>=4.22.0 in c:\\users\\sinhacho\\appdata\\local\\anaconda3\\lib\\site-packages (from matplotlib<4->mlflow) (4.51.0)\n",
            "Requirement already satisfied: kiwisolver>=1.3.1 in c:\\users\\sinhacho\\appdata\\local\\anaconda3\\lib\\site-packages (from matplotlib<4->mlflow) (1.4.4)\n",
            "Requirement already satisfied: pillow>=8 in c:\\users\\sinhacho\\appdata\\local\\anaconda3\\lib\\site-packages (from matplotlib<4->mlflow) (10.4.0)\n",
            "Requirement already satisfied: pyparsing>=2.3.1 in c:\\users\\sinhacho\\appdata\\local\\anaconda3\\lib\\site-packages (from matplotlib<4->mlflow) (3.1.2)\n",
            "Requirement already satisfied: pytz>=2020.1 in c:\\users\\sinhacho\\appdata\\local\\anaconda3\\lib\\site-packages (from pandas<3->mlflow) (2024.1)\n",
            "Requirement already satisfied: tzdata>=2022.7 in c:\\users\\sinhacho\\appdata\\local\\anaconda3\\lib\\site-packages (from pandas<3->mlflow) (2023.3)\n",
            "Requirement already satisfied: joblib>=1.2.0 in c:\\users\\sinhacho\\appdata\\local\\anaconda3\\lib\\site-packages (from scikit-learn<2->mlflow) (1.4.2)\n",
            "Requirement already satisfied: threadpoolctl>=3.1.0 in c:\\users\\sinhacho\\appdata\\local\\anaconda3\\lib\\site-packages (from scikit-learn<2->mlflow) (3.5.0)\n",
            "Requirement already satisfied: greenlet!=0.4.17 in c:\\users\\sinhacho\\appdata\\local\\anaconda3\\lib\\site-packages (from sqlalchemy<3,>=1.4.0->mlflow) (3.0.1)\n",
            "Requirement already satisfied: colorama in c:\\users\\sinhacho\\appdata\\local\\anaconda3\\lib\\site-packages (from click<9,>=7.0->mlflow-skinny==2.17.2->mlflow) (0.4.6)\n",
            "Requirement already satisfied: google-auth~=2.0 in c:\\users\\sinhacho\\appdata\\local\\anaconda3\\lib\\site-packages (from databricks-sdk<1,>=0.20.0->mlflow-skinny==2.17.2->mlflow) (2.36.0)\n",
            "Requirement already satisfied: gitdb<5,>=4.0.1 in c:\\users\\sinhacho\\appdata\\local\\anaconda3\\lib\\site-packages (from gitpython<4,>=3.1.9->mlflow-skinny==2.17.2->mlflow) (4.0.7)\n",
            "Requirement already satisfied: zipp>=0.5 in c:\\users\\sinhacho\\appdata\\local\\anaconda3\\lib\\site-packages (from importlib-metadata!=4.7.0,<9,>=3.7.0->mlflow-skinny==2.17.2->mlflow) (3.17.0)\n",
            "Requirement already satisfied: deprecated>=1.2.6 in c:\\users\\sinhacho\\appdata\\local\\anaconda3\\lib\\site-packages (from opentelemetry-api<3,>=1.9.0->mlflow-skinny==2.17.2->mlflow) (1.2.15)\n",
            "Requirement already satisfied: opentelemetry-semantic-conventions==0.49b1 in c:\\users\\sinhacho\\appdata\\local\\anaconda3\\lib\\site-packages (from opentelemetry-sdk<3,>=1.9.0->mlflow-skinny==2.17.2->mlflow) (0.49b1)\n",
            "Requirement already satisfied: six>=1.5 in c:\\users\\sinhacho\\appdata\\local\\anaconda3\\lib\\site-packages (from python-dateutil<3,>=2.7.0->graphene<4->mlflow) (1.16.0)\n",
            "Requirement already satisfied: charset-normalizer<4,>=2 in c:\\users\\sinhacho\\appdata\\local\\anaconda3\\lib\\site-packages (from requests<3,>=2.17.3->mlflow-skinny==2.17.2->mlflow) (3.3.2)\n",
            "Requirement already satisfied: idna<4,>=2.5 in c:\\users\\sinhacho\\appdata\\local\\anaconda3\\lib\\site-packages (from requests<3,>=2.17.3->mlflow-skinny==2.17.2->mlflow) (3.7)\n",
            "Requirement already satisfied: certifi>=2017.4.17 in c:\\users\\sinhacho\\appdata\\local\\anaconda3\\lib\\site-packages (from requests<3,>=2.17.3->mlflow-skinny==2.17.2->mlflow) (2024.8.30)\n",
            "Requirement already satisfied: wrapt<2,>=1.10 in c:\\users\\sinhacho\\appdata\\local\\anaconda3\\lib\\site-packages (from deprecated>=1.2.6->opentelemetry-api<3,>=1.9.0->mlflow-skinny==2.17.2->mlflow) (1.14.1)\n",
            "Requirement already satisfied: smmap<5,>=3.0.1 in c:\\users\\sinhacho\\appdata\\local\\anaconda3\\lib\\site-packages (from gitdb<5,>=4.0.1->gitpython<4,>=3.1.9->mlflow-skinny==2.17.2->mlflow) (4.0.0)\n",
            "Requirement already satisfied: pyasn1-modules>=0.2.1 in c:\\users\\sinhacho\\appdata\\local\\anaconda3\\lib\\site-packages (from google-auth~=2.0->databricks-sdk<1,>=0.20.0->mlflow-skinny==2.17.2->mlflow) (0.2.8)\n",
            "Requirement already satisfied: rsa<5,>=3.1.4 in c:\\users\\sinhacho\\appdata\\local\\anaconda3\\lib\\site-packages (from google-auth~=2.0->databricks-sdk<1,>=0.20.0->mlflow-skinny==2.17.2->mlflow) (4.9)\n",
            "Requirement already satisfied: pyasn1<0.5.0,>=0.4.6 in c:\\users\\sinhacho\\appdata\\local\\anaconda3\\lib\\site-packages (from pyasn1-modules>=0.2.1->google-auth~=2.0->databricks-sdk<1,>=0.20.0->mlflow-skinny==2.17.2->mlflow) (0.4.8)\n"
          ]
        },
        {
          "ename": "NameError",
          "evalue": "name 'sk_model' is not defined",
          "output_type": "error",
          "traceback": [
            "\u001b[1;31m---------------------------------------------------------------------------\u001b[0m",
            "\u001b[1;31mNameError\u001b[0m                                 Traceback (most recent call last)",
            "Cell \u001b[1;32mIn[12], line 35\u001b[0m\n\u001b[0;32m     22\u001b[0m \u001b[38;5;28;01mfrom\u001b[39;00m \u001b[38;5;21;01mmlflow\u001b[39;00m\u001b[38;5;21;01m.\u001b[39;00m\u001b[38;5;21;01mmodels\u001b[39;00m\u001b[38;5;21;01m.\u001b[39;00m\u001b[38;5;21;01msignature\u001b[39;00m \u001b[38;5;28;01mimport\u001b[39;00m infer_signature\n\u001b[0;32m     24\u001b[0m \u001b[38;5;66;03m# Train your model (example)\u001b[39;00m\n\u001b[0;32m     25\u001b[0m \u001b[38;5;66;03m# sk_model.fit(x_train, y_train)\u001b[39;00m\n\u001b[0;32m     26\u001b[0m \n\u001b[1;32m   (...)\u001b[0m\n\u001b[0;32m     32\u001b[0m \n\u001b[0;32m     33\u001b[0m \u001b[38;5;66;03m# Log the model with input example and signature\u001b[39;00m\n\u001b[0;32m     34\u001b[0m mlflow\u001b[38;5;241m.\u001b[39msklearn\u001b[38;5;241m.\u001b[39mlog_model(\n\u001b[1;32m---> 35\u001b[0m     sk_model,\n\u001b[0;32m     36\u001b[0m     \u001b[38;5;124m\"\u001b[39m\u001b[38;5;124mlog_reg_model\u001b[39m\u001b[38;5;124m\"\u001b[39m,\n\u001b[0;32m     37\u001b[0m     input_example\u001b[38;5;241m=\u001b[39minput_example,\n\u001b[0;32m     38\u001b[0m     signature\u001b[38;5;241m=\u001b[39msignature\n\u001b[0;32m     39\u001b[0m )\n\u001b[0;32m     41\u001b[0m \u001b[38;5;28mprint\u001b[39m(\u001b[38;5;124m\"\u001b[39m\u001b[38;5;124mMLFlow: \u001b[39m\u001b[38;5;132;01m{}\u001b[39;00m\u001b[38;5;124m\"\u001b[39m\u001b[38;5;241m.\u001b[39mformat(mlflow\u001b[38;5;241m.\u001b[39m__version__))\n\u001b[0;32m     42\u001b[0m \u001b[38;5;28;01mimport\u001b[39;00m \u001b[38;5;21;01mos\u001b[39;00m\n",
            "\u001b[1;31mNameError\u001b[0m: name 'sk_model' is not defined"
          ]
        }
      ],
      "source": [
        "import numpy as np\n",
        "print(\"Numpy: {}\".format(np.__version__))\n",
        "import pandas as pd\n",
        "print(\"Pandas: {}\".format(pd.__version__))\n",
        "import matplotlib #\n",
        "import matplotlib.pyplot as plt\n",
        "print(\"matplotlib: {}\".format(matplotlib.__version__))\n",
        "import seaborn as sns\n",
        "print(\"seaborn: {}\".format(sns.__version__))\n",
        "import sklearn #\n",
        "from sklearn.linear_model import LogisticRegression\n",
        "from sklearn.model_selection import train_test_split\n",
        "from sklearn.preprocessing import StandardScaler\n",
        "from sklearn.metrics import roc_auc_score\n",
        "from sklearn.metrics import RocCurveDisplay\n",
        "from sklearn.metrics import confusion_matrix\n",
        "from sklearn.model_selection import KFold\n",
        "print(\"Scikit-Learn {}\".format(sklearn.__version__))\n",
        "!pip install mlflow\n",
        "import mlflow\n",
        "import mlflow.sklearn\n",
        "from mlflow.models.signature import infer_signature\n",
        "\n",
        "# Train your model (example)\n",
        "# sk_model.fit(x_train, y_train)\n",
        "\n",
        "# Example input (e.g., a sample row from your training data)\n",
        "#input_example = x_train[:1]  # Take one row of input as an example\n",
        "\n",
        "# Infer signature from the input example and the model's prediction\n",
        "#signature = infer_signature(x_train, sk_model.predict(x_train))\n",
        "\n",
        "# Log the model with input example and signature\n",
        "mlflow.sklearn.log_model(\n",
        "    sk_model,\n",
        "    \"log_reg_model\",\n",
        "    input_example=input_example,\n",
        "    signature=signature\n",
        ")\n",
        "\n",
        "print(\"MLFlow: {}\".format(mlflow.__version__))\n",
        "import os\n",
        "import tarfile\n",
        "import urllib\n"
      ]
    },
    {
      "cell_type": "code",
      "execution_count": null,
      "metadata": {
        "colab": {
          "base_uri": "https://localhost:8080/"
        },
        "id": "_L9Ff879dxPC",
        "outputId": "37cbb1f7-1f38-4a68-eb79-d468e7bca2d9"
      },
      "outputs": [
        {
          "name": "stdout",
          "output_type": "stream",
          "text": [
            "creditcard.csv\n"
          ]
        },
        {
          "data": {
            "text/html": [
              "<div>\n",
              "<style scoped>\n",
              "    .dataframe tbody tr th:only-of-type {\n",
              "        vertical-align: middle;\n",
              "    }\n",
              "\n",
              "    .dataframe tbody tr th {\n",
              "        vertical-align: top;\n",
              "    }\n",
              "\n",
              "    .dataframe thead th {\n",
              "        text-align: right;\n",
              "    }\n",
              "</style>\n",
              "<table border=\"1\" class=\"dataframe\">\n",
              "  <thead>\n",
              "    <tr style=\"text-align: right;\">\n",
              "      <th></th>\n",
              "      <th>V1</th>\n",
              "      <th>V2</th>\n",
              "      <th>V3</th>\n",
              "      <th>V4</th>\n",
              "      <th>V5</th>\n",
              "      <th>V6</th>\n",
              "      <th>V7</th>\n",
              "      <th>V8</th>\n",
              "      <th>V9</th>\n",
              "      <th>V10</th>\n",
              "      <th>...</th>\n",
              "      <th>V21</th>\n",
              "      <th>V22</th>\n",
              "      <th>V23</th>\n",
              "      <th>V24</th>\n",
              "      <th>V25</th>\n",
              "      <th>V26</th>\n",
              "      <th>V27</th>\n",
              "      <th>V28</th>\n",
              "      <th>Amount</th>\n",
              "      <th>Class</th>\n",
              "    </tr>\n",
              "  </thead>\n",
              "  <tbody>\n",
              "    <tr>\n",
              "      <th>0</th>\n",
              "      <td>-1.359807</td>\n",
              "      <td>-0.072781</td>\n",
              "      <td>2.536347</td>\n",
              "      <td>1.378155</td>\n",
              "      <td>-0.338321</td>\n",
              "      <td>0.462388</td>\n",
              "      <td>0.239599</td>\n",
              "      <td>0.098698</td>\n",
              "      <td>0.363787</td>\n",
              "      <td>0.090794</td>\n",
              "      <td>...</td>\n",
              "      <td>-0.018307</td>\n",
              "      <td>0.277838</td>\n",
              "      <td>-0.110474</td>\n",
              "      <td>0.066928</td>\n",
              "      <td>0.128539</td>\n",
              "      <td>-0.189115</td>\n",
              "      <td>0.133558</td>\n",
              "      <td>-0.021053</td>\n",
              "      <td>149.62</td>\n",
              "      <td>0</td>\n",
              "    </tr>\n",
              "    <tr>\n",
              "      <th>1</th>\n",
              "      <td>1.191857</td>\n",
              "      <td>0.266151</td>\n",
              "      <td>0.166480</td>\n",
              "      <td>0.448154</td>\n",
              "      <td>0.060018</td>\n",
              "      <td>-0.082361</td>\n",
              "      <td>-0.078803</td>\n",
              "      <td>0.085102</td>\n",
              "      <td>-0.255425</td>\n",
              "      <td>-0.166974</td>\n",
              "      <td>...</td>\n",
              "      <td>-0.225775</td>\n",
              "      <td>-0.638672</td>\n",
              "      <td>0.101288</td>\n",
              "      <td>-0.339846</td>\n",
              "      <td>0.167170</td>\n",
              "      <td>0.125895</td>\n",
              "      <td>-0.008983</td>\n",
              "      <td>0.014724</td>\n",
              "      <td>2.69</td>\n",
              "      <td>0</td>\n",
              "    </tr>\n",
              "    <tr>\n",
              "      <th>2</th>\n",
              "      <td>-1.358354</td>\n",
              "      <td>-1.340163</td>\n",
              "      <td>1.773209</td>\n",
              "      <td>0.379780</td>\n",
              "      <td>-0.503198</td>\n",
              "      <td>1.800499</td>\n",
              "      <td>0.791461</td>\n",
              "      <td>0.247676</td>\n",
              "      <td>-1.514654</td>\n",
              "      <td>0.207643</td>\n",
              "      <td>...</td>\n",
              "      <td>0.247998</td>\n",
              "      <td>0.771679</td>\n",
              "      <td>0.909412</td>\n",
              "      <td>-0.689281</td>\n",
              "      <td>-0.327642</td>\n",
              "      <td>-0.139097</td>\n",
              "      <td>-0.055353</td>\n",
              "      <td>-0.059752</td>\n",
              "      <td>378.66</td>\n",
              "      <td>0</td>\n",
              "    </tr>\n",
              "    <tr>\n",
              "      <th>3</th>\n",
              "      <td>-0.966272</td>\n",
              "      <td>-0.185226</td>\n",
              "      <td>1.792993</td>\n",
              "      <td>-0.863291</td>\n",
              "      <td>-0.010309</td>\n",
              "      <td>1.247203</td>\n",
              "      <td>0.237609</td>\n",
              "      <td>0.377436</td>\n",
              "      <td>-1.387024</td>\n",
              "      <td>-0.054952</td>\n",
              "      <td>...</td>\n",
              "      <td>-0.108300</td>\n",
              "      <td>0.005274</td>\n",
              "      <td>-0.190321</td>\n",
              "      <td>-1.175575</td>\n",
              "      <td>0.647376</td>\n",
              "      <td>-0.221929</td>\n",
              "      <td>0.062723</td>\n",
              "      <td>0.061458</td>\n",
              "      <td>123.50</td>\n",
              "      <td>0</td>\n",
              "    </tr>\n",
              "    <tr>\n",
              "      <th>4</th>\n",
              "      <td>-1.158233</td>\n",
              "      <td>0.877737</td>\n",
              "      <td>1.548718</td>\n",
              "      <td>0.403034</td>\n",
              "      <td>-0.407193</td>\n",
              "      <td>0.095921</td>\n",
              "      <td>0.592941</td>\n",
              "      <td>-0.270533</td>\n",
              "      <td>0.817739</td>\n",
              "      <td>0.753074</td>\n",
              "      <td>...</td>\n",
              "      <td>-0.009431</td>\n",
              "      <td>0.798278</td>\n",
              "      <td>-0.137458</td>\n",
              "      <td>0.141267</td>\n",
              "      <td>-0.206010</td>\n",
              "      <td>0.502292</td>\n",
              "      <td>0.219422</td>\n",
              "      <td>0.215153</td>\n",
              "      <td>69.99</td>\n",
              "      <td>0</td>\n",
              "    </tr>\n",
              "  </tbody>\n",
              "</table>\n",
              "<p>5 rows × 30 columns</p>\n",
              "</div>"
            ],
            "text/plain": [
              "         V1        V2        V3        V4        V5        V6        V7  \\\n",
              "0 -1.359807 -0.072781  2.536347  1.378155 -0.338321  0.462388  0.239599   \n",
              "1  1.191857  0.266151  0.166480  0.448154  0.060018 -0.082361 -0.078803   \n",
              "2 -1.358354 -1.340163  1.773209  0.379780 -0.503198  1.800499  0.791461   \n",
              "3 -0.966272 -0.185226  1.792993 -0.863291 -0.010309  1.247203  0.237609   \n",
              "4 -1.158233  0.877737  1.548718  0.403034 -0.407193  0.095921  0.592941   \n",
              "\n",
              "         V8        V9       V10  ...       V21       V22       V23       V24  \\\n",
              "0  0.098698  0.363787  0.090794  ... -0.018307  0.277838 -0.110474  0.066928   \n",
              "1  0.085102 -0.255425 -0.166974  ... -0.225775 -0.638672  0.101288 -0.339846   \n",
              "2  0.247676 -1.514654  0.207643  ...  0.247998  0.771679  0.909412 -0.689281   \n",
              "3  0.377436 -1.387024 -0.054952  ... -0.108300  0.005274 -0.190321 -1.175575   \n",
              "4 -0.270533  0.817739  0.753074  ... -0.009431  0.798278 -0.137458  0.141267   \n",
              "\n",
              "        V25       V26       V27       V28  Amount  Class  \n",
              "0  0.128539 -0.189115  0.133558 -0.021053  149.62      0  \n",
              "1  0.167170  0.125895 -0.008983  0.014724    2.69      0  \n",
              "2 -0.327642 -0.139097 -0.055353 -0.059752  378.66      0  \n",
              "3  0.647376 -0.221929  0.062723  0.061458  123.50      0  \n",
              "4 -0.206010  0.502292  0.219422  0.215153   69.99      0  \n",
              "\n",
              "[5 rows x 30 columns]"
            ]
          },
          "execution_count": 14,
          "metadata": {},
          "output_type": "execute_result"
        }
      ],
      "source": [
        "data_path = \"creditcard.csv\"\n",
        "print(data_path)\n",
        "df = pd.read_csv(data_path)\n",
        "df = df.drop(\"Time\", axis=1)\n",
        "df.head()\n",
        "\n"
      ]
    },
    {
      "cell_type": "code",
      "execution_count": null,
      "metadata": {
        "id": "wtVtXk-I3hyU",
        "outputId": "3f8163c9-6ca5-4eb1-822f-70223e00323b"
      },
      "outputs": [
        {
          "name": "stdout",
          "output_type": "stream",
          "text": [
            "Normal: (142158, 30)\n",
            "Anomaly: (492, 30)\n"
          ]
        }
      ],
      "source": [
        "normal = df[df.Class == 0].sample(frac=0.5, random_state=2020).reset_index(drop = True)\n",
        "print(f\"Normal: {normal.shape}\")\n",
        "anomaly = df[df.Class == 1]\n",
        "print(f\"Anomaly: {anomaly.shape}\")"
      ]
    },
    {
      "cell_type": "code",
      "execution_count": null,
      "metadata": {
        "id": "x0ZGtYls3hyV"
      },
      "outputs": [],
      "source": [
        "normal_train, normal_test = train_test_split(normal, test_size = 0.2, random_state = 2020)\n",
        "anomaly_train, anomaly_test = train_test_split(anomaly, test_size = 0.2, random_state = 2020)"
      ]
    },
    {
      "cell_type": "code",
      "execution_count": null,
      "metadata": {
        "id": "zU1zIoVT3hyV"
      },
      "outputs": [],
      "source": [
        "normal_train, normal_validate = train_test_split(normal_train, test_size = 0.25, random_state = 2020)\n",
        "anomaly_train, anomaly_validate = train_test_split(anomaly_train, test_size = 0.25, random_state = 2020)"
      ]
    },
    {
      "cell_type": "code",
      "execution_count": null,
      "metadata": {
        "id": "kp5Y0ykJ3hyV",
        "outputId": "22dc2510-4c0f-49e7-8cd8-8f2c9c7e08e4"
      },
      "outputs": [
        {
          "name": "stdout",
          "output_type": "stream",
          "text": [
            "Training Sets: \n",
            "x_train: (85588, 29) \n",
            "y_train: (85588,)\n",
            "\n",
            "Testing Sets: \n",
            "x_test: (28531, 29) \n",
            "y_test: (28531,)\n",
            "\n",
            "Validation Sets: \n",
            "x_validate: (28531, 29) \n",
            "y_validate: (28531,)\n"
          ]
        }
      ],
      "source": [
        "x_train = pd.concat((normal_train, anomaly_train))\n",
        "x_test = pd.concat((normal_test, anomaly_test))\n",
        "x_validate = pd.concat((normal_validate, anomaly_validate))\n",
        "\n",
        "y_train = np.array(x_train[\"Class\"])\n",
        "y_test = np.array(x_test[\"Class\"])\n",
        "y_validate = np.array(x_validate[\"Class\"])\n",
        "\n",
        "x_train = x_train.drop(\"Class\", axis=1)\n",
        "x_test = x_test.drop(\"Class\", axis=1)\n",
        "x_validate = x_validate.drop(\"Class\", axis=1)\n",
        "\n",
        "\n",
        "print(\"Training Sets: \\nx_train: {} \\ny_train: {}\".format(x_train.shape, y_train.shape))\n",
        "print(\"\\nTesting Sets: \\nx_test: {} \\ny_test: {}\".format(x_test.shape, y_test.shape))\n",
        "print(\"\\nValidation Sets: \\nx_validate: {} \\ny_validate: {}\".format(x_validate.shape, y_validate.shape))\n",
        "\n"
      ]
    },
    {
      "cell_type": "raw",
      "metadata": {
        "id": "DKx5C_-t3hyV"
      },
      "source": [
        "scaler = StandardScaler()\n",
        "scaler.fit(pd.concat((normal, anomaly)).drop(\"Class\", axis=1))\n",
        "\n",
        "x_train = scaler.transform(x_train)\n",
        "x_test = scaler.transform(x_test)\n",
        "x_validate = scaler.transform(x_validate)\n"
      ]
    },
    {
      "cell_type": "code",
      "execution_count": null,
      "metadata": {
        "id": "1I9yzORT3hyW"
      },
      "outputs": [],
      "source": [
        "def train(sk_model, x_train, y_train):\n",
        "    sk_model = sk_model.fit(x_train, y_train)\n",
        "    # Example input (e.g., a sample row from your training data)\n",
        "    input_example = x_train[:1]\n",
        "    print(input_example)\n",
        "\n",
        "    train_acc = sk_model.score(x_train, y_train)\n",
        "    mlflow.log_metric(\"train_acc\", train_acc)\n",
        "    print(f\"Train Accuracy: {train_acc:.3%}\")\n",
        "\n",
        ""
      ]
    },
    {
      "cell_type": "code",
      "execution_count": null,
      "metadata": {
        "id": "_tLzEmuR3hyW"
      },
      "outputs": [],
      "source": [
        "def evaluate(sk_model, x_train, y_train):\n",
        "    eval_acc = sk_model.score(x_test, y_test)\n",
        "    preds = sk_model.predict(x_test)\n",
        "    # Infer signature from the input example and the model's prediction\n",
        "    signature = infer_signature(x_train, sk_model.predict(x_train))\n",
        "    auc_score = roc_auc_score(y_test, preds)\n",
        "    mlflow.log_metric(\"eval_acc\", eval_acc)\n",
        "    mlflow.log_metric(\"auc_score\", auc_score)\n",
        "    print(f\"Auc Score: {auc_score:.3%}\")\n",
        "    roc_plot = RocCurveDisplay.from_estimator(sk_model, x_test, y_test, name='Scikit-Learn ROC Curve')\n",
        "    plt.savefig(\"sklearn_roc_plot.png\")\n",
        "    plt.show()\n",
        "    plt.clf()\n",
        "    conf_matrix = confusion_matrix(y_test, preds)\n",
        "    ax = sns.heatmap(conf_matrix, annot=True, fmt='g', cmap='coolwarm')\n",
        "    ax.invert_xaxis()\n",
        "    ax.invert_yaxis()\n",
        "    plt.ylabel('Actual')\n",
        "    plt.xlabel('Predicted')\n",
        "    plt.title(\"Confusion Matrix\")\n",
        "    plt.savefig(\"sklearn_conf_matrix.png\")\n",
        "    mlflow.log_artifact(\"sklearn_roc_plot.png\")\n",
        "    mlflow.log_artifact(\"sklearn_conf_matrix.png\")\n",
        "\n",
        ""
      ]
    },
    {
      "cell_type": "code",
      "execution_count": null,
      "metadata": {
        "id": "IV94zEK53hyW",
        "outputId": "41486db6-6025-45e0-9913-6a9071a0a4ee"
      },
      "outputs": [
        {
          "name": "stdout",
          "output_type": "stream",
          "text": [
            "             V1        V2        V3        V4        V5        V6        V7  \\\n",
            "73530  0.625714 -0.756745 -0.207026  1.573003 -0.430353 -0.324872  0.507153   \n",
            "\n",
            "             V8        V9       V10  ...       V20      V21       V22  \\\n",
            "73530 -0.071852  0.286757 -0.133331  ...  0.286965  0.15058 -0.127345   \n",
            "\n",
            "            V23       V24       V25       V26       V27       V28  Amount  \n",
            "73530 -0.355638  0.068798  0.597708 -0.256959 -0.041794  0.057961   298.4  \n",
            "\n",
            "[1 rows x 29 columns]\n",
            "Train Accuracy: 99.893%\n",
            "Auc Score: 85.341%\n"
          ]
        },
        {
          "data": {
            "image/png": "[encoded data removed]",
            "text/plain": [
              "<Figure size 640x480 with 1 Axes>"
            ]
          },
          "metadata": {},
          "output_type": "display_data"
        },
        {
          "name": "stderr",
          "output_type": "stream",
          "text": [
            "2024/11/20 09:04:46 WARNING mlflow.models.model: Model logged without a signature and input example. Please set `input_example` parameter when logging the model to auto infer the model signature.\n"
          ]
        },
        {
          "name": "stdout",
          "output_type": "stream",
          "text": [
            "Model Run:  78ddbbf9970d421498d1ee927bf848ae\n"
          ]
        },
        {
          "data": {
            "image/png": "[encoded data removed]",
            "text/plain": [
              "<Figure size 640x480 with 2 Axes>"
            ]
          },
          "metadata": {},
          "output_type": "display_data"
        }
      ],
      "source": [
        "sk_model = LogisticRegression(random_state=None, max_iter=400, solver='newton-cg')\n",
        "mlflow.set_experiment(\"Scikit_Learn_experiment\")\n",
        "with mlflow.start_run():\n",
        "    train(sk_model, x_train, y_train)\n",
        "    evaluate(sk_model, x_test, y_test)\n",
        "    # Log the model with input example and signature\n",
        "    #mlflow.sklearn.log_model(sk_model, \"log_reg_model\", input_example=input_example, signature=signature)\n",
        "    #mlflow.sklearn.log_model(sk_model, \"log_reg_model\", signature=signature)\n",
        "    mlflow.sklearn.log_model(sk_model, \"log_reg_model\")\n",
        "    print(\"Model Run: \", mlflow.active_run().info.run_uuid)\n",
        "mlflow.end_run()"
      ]
    },
    {
      "cell_type": "code",
      "execution_count": null,
      "metadata": {
        "id": "c9hlSOQj3hyX"
      },
      "outputs": [],
      "source": []
    }
  ],
  "metadata": {
    "colab": {
      "provenance": [],
      "include_colab_link": true
    },
    "kernelspec": {
      "display_name": "Python 3 (ipykernel)",
      "language": "python",
      "name": "python3"
    },
    "language_info": {
      "codemirror_mode": {
        "name": "ipython",
        "version": 3
      },
      "file_extension": ".py",
      "mimetype": "text/x-python",
      "name": "python",
      "nbconvert_exporter": "python",
      "pygments_lexer": "ipython3",
      "version": "3.12.7"
    }
  },
  "nbformat": 4,
  "nbformat_minor": 0
}