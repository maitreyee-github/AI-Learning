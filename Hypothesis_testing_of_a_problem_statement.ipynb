{
  "nbformat": 4,
  "nbformat_minor": 0,
  "metadata": {
    "colab": {
      "name": "Hypothesis testing of a problem statement.ipynb",
      "provenance": [],
      "authorship_tag": "ABX9TyOwvVjAK2d6NrkSS3cMzU8Z",
      "include_colab_link": true
    },
    "kernelspec": {
      "name": "python3",
      "display_name": "Python 3"
    },
    "language_info": {
      "name": "python"
    }
  },
  "cells": [
    {
      "cell_type": "markdown",
      "metadata": {
        "id": "view-in-github",
        "colab_type": "text"
      },
      "source": [
        "<a href=\"https://colab.research.google.com/github/maitreyee-github/AI-Learning/blob/main/Hypothesis_testing_of_a_problem_statement.ipynb\" target=\"_parent\"><img src=\"https://colab.research.google.com/assets/colab-badge.svg\" alt=\"Open In Colab\"/></a>"
      ]
    },
    {
      "cell_type": "markdown",
      "source": [
        "# **What is Hypothesis testing ?**\n",
        "\n",
        "In easy interpretation, \n"
      ],
      "metadata": {
        "id": "ytGl_Sb82AvQ"
      }
    }
  ]
}