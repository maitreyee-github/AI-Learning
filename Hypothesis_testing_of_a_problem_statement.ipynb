{
  "nbformat": 4,
  "nbformat_minor": 0,
  "metadata": {
    "colab": {
      "name": "Hypothesis testing of a problem statement.ipynb",
      "provenance": [],
      "collapsed_sections": [],
      "authorship_tag": "ABX9TyO+XsiHb17qG3RmVQGxcD7J",
      "include_colab_link": true
    },
    "kernelspec": {
      "name": "python3",
      "display_name": "Python 3"
    },
    "language_info": {
      "name": "python"
    }
  },
  "cells": [
    {
      "cell_type": "markdown",
      "metadata": {
        "id": "view-in-github",
        "colab_type": "text"
      },
      "source": [
        "<a href=\"https://colab.research.google.com/github/maitreyee-github/AI-Learning/blob/main/Hypothesis_testing_of_a_problem_statement.ipynb\" target=\"_parent\"><img src=\"https://colab.research.google.com/assets/colab-badge.svg\" alt=\"Open In Colab\"/></a>"
      ]
    },
    {
      "cell_type": "code",
      "source": [
        ""
      ],
      "metadata": {
        "id": "B2myozDDw37Q"
      },
      "execution_count": null,
      "outputs": []
    },
    {
      "cell_type": "markdown",
      "source": [
        "# **What is Hypothesis testing ?**\n",
        "\n",
        "In easy interpretation, \\\n",
        "1. This steps tells me if an assumption is even right. !\\\n",
        "( statistical significance to a decision making process or critical thinking process) \\\n",
        "2. This step describes the assumption that I am making. \\ \n",
        "3. This step tells me whether a decision I made based on the assumption , is that right or wrong. \\\n",
        "4. It also tells me whether a factor  is worth my time for further delving into. \n",
        "5. Basically is disproves a relationship between dependent variable / outcome ( Y) , & independent variables/ factors ( X)\n",
        "\n",
        "\n",
        "# **Why Do we use Hypothesis Test?**\n",
        "This helps me guide on \n",
        "1. what's not necessary element in grand scheme of things ( in the dataset).\\\n",
        "2. Whether a decision that I made based on an assumption is wrong ( based on which Hypothesis I accepted).\n",
        "\n",
        "# **How Do we use Hypothesis Test?**\n",
        "\n",
        "1. We use this to formulate hypothesis & bank on a specific assumption & statistically prove ( with data ofcourse !) if my assumption is worth banking on ! \\\n",
        "( wish people could do this with right life partner ! - well dataset becomes problem there) ☹\\\n",
        "\n",
        "# **A.  Formulating a Hypothesis**\n",
        "\n",
        "1. NULL Hypothesis ( H0) : This means status quo( state the status /problem statement clearly) this should be with \"=\"\\\n",
        "2. Alternate Hypothesis ( Ha) : This means status quo/ assumption is wrong\\\n",
        "\n",
        "Example : \\\n",
        "1. I am tring to compare a service performance against an SLA\\\n",
        "NULL Hypothesis(H0) : \"Mean of the TAT of service TAT is <= 10 days ( SLA) - Hence No SLA Breach\"\\\n",
        "Alternate H\n",
        "\n",
        "\n",
        "\n",
        "\n",
        "\n",
        "\n",
        "\n",
        "\n",
        "\n",
        "\n",
        "\n",
        "\n",
        "\n",
        "\n"
      ],
      "metadata": {
        "id": "ytGl_Sb82AvQ"
      }
    }
  ]
}