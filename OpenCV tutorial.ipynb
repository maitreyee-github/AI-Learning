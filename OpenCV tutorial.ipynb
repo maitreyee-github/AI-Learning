{
 "cells": [
  {
   "cell_type": "markdown",
   "id": "5f859bd7",
   "metadata": {},
   "source": [
    "Let's get started with image"
   ]
  },
  {
   "cell_type": "code",
   "execution_count": 2,
   "id": "fc9bdd3d",
   "metadata": {},
   "outputs": [
    {
     "name": "stdout",
     "output_type": "stream",
     "text": [
      "Requirement already satisfied: numpy in c:\\users\\maitreyee\\anaconda3\\envs\\demo\\lib\\site-packages (1.19.2)\n",
      "Requirement already satisfied: scipy in c:\\users\\maitreyee\\anaconda3\\envs\\demo\\lib\\site-packages (1.6.2)\n",
      "Note: you may need to restart the kernel to use updated packages.\n"
     ]
    }
   ],
   "source": [
    "pip install numpy scipy"
   ]
  },
  {
   "cell_type": "code",
   "execution_count": 3,
   "id": "ecfcff8d",
   "metadata": {},
   "outputs": [
    {
     "name": "stdout",
     "output_type": "stream",
     "text": [
      "Collecting opencv-contrib-python\n",
      "  Downloading opencv_contrib_python-4.7.0.72-cp37-abi3-win_amd64.whl (44.9 MB)\n",
      "Requirement already satisfied: numpy>=1.17.0 in c:\\users\\maitreyee\\anaconda3\\envs\\demo\\lib\\site-packages (from opencv-contrib-python) (1.19.2)\n",
      "Installing collected packages: opencv-contrib-python\n",
      "Successfully installed opencv-contrib-python-4.7.0.72\n",
      "Note: you may need to restart the kernel to use updated packages.\n"
     ]
    }
   ],
   "source": [
    "pip install opencv-contrib-python"
   ]
  },
  {
   "cell_type": "code",
   "execution_count": 1,
   "id": "0046c579",
   "metadata": {},
   "outputs": [],
   "source": [
    "import cv2 as cv\n",
    "import sys"
   ]
  },
  {
   "cell_type": "markdown",
   "id": "caa5edaf",
   "metadata": {},
   "source": [
    "Let's first grt started with Images \n",
    "Read an image from a file\n",
    "Display the image on Opencv window\n",
    "Write an image to a file"
   ]
  },
  {
   "cell_type": "code",
   "execution_count": null,
   "id": "d76e3448",
   "metadata": {},
   "outputs": [],
   "source": [
    "img = cv.imread(cv.samples.findFile(\".\\images\\starry-night-van-gogh.jpg\"))#read the file\n",
    "#if img is None:\n",
    "    #sys.exit(\"Could not read the image.\")\n",
    "    \n",
    "    \n",
    "cv.imshow(\"Display window\", img)\n",
    "k = cv.waitKey(1)\n",
    "#print k \n",
    "if k == ord(\"s\"):\n",
    "   cv.imwrite(\".\\images\\starry_night.png\", img)\n"
   ]
  },
  {
   "cell_type": "markdown",
   "id": "952d2931",
   "metadata": {},
   "source": [
    "Let's work with video now."
   ]
  },
  {
   "cell_type": "code",
   "execution_count": null,
   "id": "cd3bc748",
   "metadata": {},
   "outputs": [],
   "source": [
    "import numpy as np\n",
    "import cv2 as cv\n",
    "cap = cv.VideoCapture('.\\videos\\test_vid1.mp4')\n",
    "while cap.isOpened():\n",
    "    ret, frame = cap.read()\n",
    "    # if frame is read correctly ret is True\n",
    "    if not ret:\n",
    "        print(\"Can't receive frame (stream end?). Exiting ...\")\n",
    "        break\n",
    "    gray = cv.cvtColor(frame, cv.COLOR_BGR2GRAY)\n",
    "    \n",
    "    cv.imshow('frame', gray)\n",
    "    if cv.waitKey(1) == ord('q'):\n",
    "        break\n",
    "cap.release()\n",
    "#cv.destroyAllWindows()"
   ]
  },
  {
   "cell_type": "code",
   "execution_count": null,
   "id": "042b543f",
   "metadata": {},
   "outputs": [],
   "source": []
  }
 ],
 "metadata": {
  "kernelspec": {
   "display_name": "Python 3 (ipykernel)",
   "language": "python",
   "name": "python3"
  },
  "language_info": {
   "codemirror_mode": {
    "name": "ipython",
    "version": 3
   },
   "file_extension": ".py",
   "mimetype": "text/x-python",
   "name": "python",
   "nbconvert_exporter": "python",
   "pygments_lexer": "ipython3",
   "version": "3.8.2"
  }
 },
 "nbformat": 4,
 "nbformat_minor": 5
}
