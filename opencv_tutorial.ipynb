{
 "cells": [
  {
   "cell_type": "code",
   "execution_count": 8,
   "id": "639b9ab3",
   "metadata": {},
   "outputs": [
    {
     "name": "stdout",
     "output_type": "stream",
     "text": [
      "Collecting opencv-python\n",
      "  Downloading opencv_python-4.6.0.66-cp36-abi3-win_amd64.whl (35.6 MB)\n",
      "Requirement already satisfied: numpy>=1.17.3 in c:\\users\\maitreyee\\anaconda3\\lib\\site-packages (from opencv-python) (1.20.3)\n",
      "Installing collected packages: opencv-python\n",
      "Successfully installed opencv-python-4.6.0.66\n",
      "Note: you may need to restart the kernel to use updated packages.\n"
     ]
    }
   ],
   "source": [
    "pip install opencv-python"
   ]
  },
  {
   "cell_type": "code",
   "execution_count": 14,
   "id": "be1a01bf",
   "metadata": {},
   "outputs": [
    {
     "name": "stdout",
     "output_type": "stream",
     "text": [
      "URL:C:\\Users\\Maitreyee\\Downloads\\image\\cat.jpg\n"
     ]
    }
   ],
   "source": [
    "#import all necessary modules from keras & python packages\n",
    "#\n",
    "#import os\n",
    "#import keras\n",
    "#import tensorflow as tf\n",
    "#from tensorflow.keras.applications.resnet50 import preprocess_input, decode_predictions\n",
    "#from tensorflow.keras.preprocessing import image\n",
    "#import numpy as np\n",
    "#import matplotlib.pyplot as plt\n",
    "\n",
    "\n",
    "\n",
    "import os\n",
    "import numpy as numpy\n",
    "import cv2\n",
    "import matplotlib.pyplot as plt\n",
    "\n",
    "img_path = r\"C:\\Users\\Maitreyee\\Downloads\\image\"\n",
    "img_file = r\"cat.jpg\"\n",
    "img_url=os.path.join(img_path, img_file)\n",
    "print(\"URL:\" + str(img_url))\n",
    "\n",
    "\n",
    "img= cv2.imread(img_url, 0)\n",
    "cv2.imshow('Display Image',img)\n",
    "k = cv2.waitkey(0)\n",
    "if k = 27:\n",
    "    cv2.destroyAll\n",
    "\n"
   ]
  },
  {
   "cell_type": "code",
   "execution_count": null,
   "id": "be657758",
   "metadata": {},
   "outputs": [],
   "source": []
  }
 ],
 "metadata": {
  "kernelspec": {
   "display_name": "Python 3 (ipykernel)",
   "language": "python",
   "name": "python3"
  },
  "language_info": {
   "codemirror_mode": {
    "name": "ipython",
    "version": 3
   },
   "file_extension": ".py",
   "mimetype": "text/x-python",
   "name": "python",
   "nbconvert_exporter": "python",
   "pygments_lexer": "ipython3",
   "version": "3.9.7"
  }
 },
 "nbformat": 4,
 "nbformat_minor": 5
}
