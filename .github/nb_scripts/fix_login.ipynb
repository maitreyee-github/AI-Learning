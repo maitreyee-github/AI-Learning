{
  "cells": [
    {
      "cell_type": "code",
      "execution_count": null,
      "metadata": {
        "id": "xBtpclvl98dH"
      },
      "outputs": [],
      "source": [
        "import nbformat\n",
        "from pathlib import Path\n",
        "from nb_helpers.utils import find_nbs"
      ]
    },
    {
      "cell_type": "code",
      "execution_count": null,
      "metadata": {
        "id": "cm6s2wa498dK",
        "outputId": "dcf9473a-b0f8-48ad-da3e-2e99ab825985"
      },
      "outputs": [
        {
          "data": {
            "text/plain": [
              "152"
            ]
          },
          "execution_count": null,
          "metadata": {},
          "output_type": "execute_result"
        }
      ],
      "source": [
        "nbs_paths = find_nbs(\"../../\")\n",
        "len(nbs_paths)"
      ]
    },
    {
      "cell_type": "code",
      "execution_count": null,
      "metadata": {
        "id": "YYNdfN2s98dL",
        "outputId": "9d4315f1-6fec-4cc9-9b1c-5c4226c6184b"
      },
      "outputs": [
        {
          "data": {
            "text/plain": [
              "Path('/Users/tcapelle/work/examples/colabs/boosting/Credit_Scorecards_with_XGBoost_and_W&B.ipynb')"
            ]
          },
          "execution_count": null,
          "metadata": {},
          "output_type": "execute_result"
        }
      ],
      "source": [
        "nb_path = nbs_paths[3]\n",
        "nb_path\n"
      ]
    },
    {
      "cell_type": "code",
      "execution_count": null,
      "metadata": {
        "id": "C5mWPQbq98dM"
      },
      "outputs": [],
      "source": [
        "wandb.login()"
      ]
    },
    {
      "cell_type": "code",
      "execution_count": null,
      "metadata": {
        "id": "7yxETN4F98dM"
      },
      "outputs": [],
      "source": [
        "nb = nbformat.read(nb_path, 4)"
      ]
    },
    {
      "cell_type": "code",
      "execution_count": null,
      "metadata": {
        "id": "SYPyjrDi98dM",
        "outputId": "9d807d1d-4c65-42ef-8579-9cf08e2ea4f0"
      },
      "outputs": [
        {
          "data": {
            "text/plain": [
              "18"
            ]
          },
          "execution_count": null,
          "metadata": {},
          "output_type": "execute_result"
        }
      ],
      "source": [
        "login_idx = idx_login_cell(nb, delete_line=False)\n",
        "login_idx"
      ]
    },
    {
      "cell_type": "code",
      "execution_count": null,
      "metadata": {
        "id": "HzatyVDI98dN"
      },
      "outputs": [],
      "source": [
        "login_code = \"wandb.login()\"  # or !wandb login\n",
        "\n",
        "def insert_login_cell(nb, idx, code=login_code, replace=True):\n",
        "    n_cells = len(nb[\"cells\"])\n",
        "    login_cell = nbformat.v4.new_code_cell(source=code)\n",
        "    nb[\"cells\"].insert(idx+1, login_cell)\n",
        "    return nb"
      ]
    },
    {
      "cell_type": "code",
      "execution_count": null,
      "metadata": {
        "id": "lLc1SO_598dN"
      },
      "outputs": [],
      "source": [
        "nb = insert_login_cell(nb, login_idx)"
      ]
    },
    {
      "cell_type": "code",
      "execution_count": null,
      "metadata": {
        "id": "8Ke2zgci98dO",
        "outputId": "01ca48d7-72a2-4129-de45-c4d7018c9244"
      },
      "outputs": [
        {
          "data": {
            "text/plain": [
              "{'cell_type': 'code',\n",
              " 'execution_count': None,\n",
              " 'metadata': {},\n",
              " 'outputs': [],\n",
              " 'source': '!wandb login'}"
            ]
          },
          "execution_count": null,
          "metadata": {},
          "output_type": "execute_result"
        }
      ],
      "source": [
        "nb[\"cells\"][login_idx]"
      ]
    },
    {
      "cell_type": "code",
      "execution_count": null,
      "metadata": {
        "id": "ud6JMWKz98dO",
        "outputId": "a6d672f9-6304-4dcb-c4f5-70432f68c011"
      },
      "outputs": [
        {
          "data": {
            "text/plain": [
              "{'id': 'ff6708eb',\n",
              " 'cell_type': 'code',\n",
              " 'metadata': {},\n",
              " 'execution_count': None,\n",
              " 'source': '!wandb login',\n",
              " 'outputs': []}"
            ]
          },
          "execution_count": null,
          "metadata": {},
          "output_type": "execute_result"
        }
      ],
      "source": [
        "nb[\"cells\"][login_idx+1]"
      ]
    },
    {
      "cell_type": "code",
      "execution_count": null,
      "metadata": {
        "id": "MzsRpBVW98dP",
        "outputId": "f8ec3225-8aed-4389-8a69-2f05566b050b"
      },
      "outputs": [
        {
          "data": {
            "text/plain": [
              "{'attachments': {},\n",
              " 'cell_type': 'markdown',\n",
              " 'metadata': {},\n",
              " 'source': '## Vehicle Loan Dataset\\n\\nWe will be using a simplified version of the [Vehicle Loan Default Prediction dataset](https://www.kaggle.com/sneharshinde/ltfs-av-data) from L&T which has been stored in W&B Artifacts. '}"
            ]
          },
          "execution_count": null,
          "metadata": {},
          "output_type": "execute_result"
        }
      ],
      "source": [
        "nb[\"cells\"][login_idx+2]"
      ]
    },
    {
      "cell_type": "code",
      "execution_count": null,
      "metadata": {
        "id": "lncpSMR298dP"
      },
      "outputs": [],
      "source": [
        "def remove_properties(nb, props=[\"id\", \"idx_\", \"path_\"]):\n",
        "    for cell in nb[\"cells\"]:\n",
        "        for prop in props:\n",
        "            cell.pop(prop, None)\n",
        "    return nb\n",
        "\n",
        "def remove_empty_cells(nb):\n",
        "    nb[\"cells\"] = [cell for cell in nb[\"cells\"] if cell[\"source\"] != \"\"]\n",
        "    return nb"
      ]
    },
    {
      "cell_type": "code",
      "execution_count": null,
      "metadata": {
        "id": "c6iJg5pu98dP"
      },
      "outputs": [],
      "source": [
        "nb = remove_properties(nb)\n",
        "nb = remove_empty_cells(nb)"
      ]
    },
    {
      "cell_type": "code",
      "execution_count": null,
      "metadata": {
        "id": "7ahvL1tM98dP"
      },
      "outputs": [],
      "source": [
        "for nb_path in nbs_paths:\n",
        "    nb = nbformat.read(nb_path, 4)\n",
        "    login_idx = idx_login_cell(nb)\n",
        "    if login_idx is not None:\n",
        "        nb = insert_login_cell(nb, login_idx)\n",
        "        # delete path_ attribute\n",
        "    nb.pop(\"path_\", None)\n",
        "    nb = remove_properties(nb)\n",
        "    nb = remove_empty_cells(nb)\n",
        "    nbformat.validate(nb)\n",
        "    nbformat.write(nb, nb_path)"
      ]
    }
  ],
  "metadata": {
    "kernelspec": {
      "display_name": "nbdev2",
      "language": "python",
      "name": "python3"
    },
    "colab": {
      "provenance": []
    }
  },
  "nbformat": 4,
  "nbformat_minor": 0
}