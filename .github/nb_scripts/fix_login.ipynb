{
  "cells": [
    {
      "cell_type": "code",
      "execution_count": null,
      "metadata": {
        "id": "fJAcx-E6EYP_"
      },
      "outputs": [],
      "source": [
        "import nbformat\n",
        "from pathlib import Path\n",
        "from nb_helpers.utils import find_nbs"
      ]
    },
    {
      "cell_type": "code",
      "execution_count": null,
      "metadata": {
        "id": "h22hPwk9EYQB",
        "outputId": "a79ec61e-12e3-458c-9c9c-ef71aa5789be"
      },
      "outputs": [
        {
          "data": {
            "text/plain": [
              "152"
            ]
          },
          "execution_count": null,
          "metadata": {},
          "output_type": "execute_result"
        }
      ],
      "source": [
        "nbs_paths = find_nbs(\"../../\")\n",
        "len(nbs_paths)"
      ]
    },
    {
      "cell_type": "code",
      "execution_count": null,
      "metadata": {
        "id": "QVnkrD4OEYQC",
        "outputId": "b98df591-26e6-42a8-d189-3cb5f9e7a38c"
      },
      "outputs": [
        {
          "data": {
            "text/plain": [
              "Path('/Users/tcapelle/work/examples/colabs/boosting/Credit_Scorecards_with_XGBoost_and_W&B.ipynb')"
            ]
          },
          "execution_count": null,
          "metadata": {},
          "output_type": "execute_result"
        }
      ],
      "source": [
        "nb_path = nbs_paths[3]\n",
        "nb_path\n"
      ]
    },
    {
      "cell_type": "code",
      "execution_count": null,
      "metadata": {
        "id": "BR4ZRl14EYQD"
      },
      "outputs": [],
      "source": [
        "wandb.login()"
      ]
    },
    {
      "cell_type": "code",
      "execution_count": null,
      "metadata": {
        "id": "UOjH8qdIEYQD"
      },
      "outputs": [],
      "source": [
        "nb = nbformat.read(nb_path, 4)"
      ]
    },
    {
      "cell_type": "code",
      "execution_count": null,
      "metadata": {
        "id": "WOiekwZDEYQD",
        "outputId": "19aa8036-3c78-4f60-d7a0-6e94f772577c"
      },
      "outputs": [
        {
          "data": {
            "text/plain": [
              "18"
            ]
          },
          "execution_count": null,
          "metadata": {},
          "output_type": "execute_result"
        }
      ],
      "source": [
        "login_idx = idx_login_cell(nb, delete_line=False)\n",
        "login_idx"
      ]
    },
    {
      "cell_type": "code",
      "execution_count": null,
      "metadata": {
        "id": "XIPiA6Q3EYQE"
      },
      "outputs": [],
      "source": [
        "login_code = \"wandb.login()\"  # or !wandb login\n",
        "\n",
        "def insert_login_cell(nb, idx, code=login_code, replace=True):\n",
        "    n_cells = len(nb[\"cells\"])\n",
        "    login_cell = nbformat.v4.new_code_cell(source=code)\n",
        "    nb[\"cells\"].insert(idx+1, login_cell)\n",
        "    return nb"
      ]
    },
    {
      "cell_type": "code",
      "execution_count": null,
      "metadata": {
        "id": "z1D4lLBLEYQE"
      },
      "outputs": [],
      "source": [
        "nb = insert_login_cell(nb, login_idx)"
      ]
    },
    {
      "cell_type": "code",
      "execution_count": null,
      "metadata": {
        "id": "8Mpl-7uEEYQE",
        "outputId": "4056a065-07fa-43fe-cb8d-42626c0824fd"
      },
      "outputs": [
        {
          "data": {
            "text/plain": [
              "{'cell_type': 'code',\n",
              " 'execution_count': None,\n",
              " 'metadata': {},\n",
              " 'outputs': [],\n",
              " 'source': '!wandb login'}"
            ]
          },
          "execution_count": null,
          "metadata": {},
          "output_type": "execute_result"
        }
      ],
      "source": [
        "nb[\"cells\"][login_idx]"
      ]
    },
    {
      "cell_type": "code",
      "execution_count": null,
      "metadata": {
        "id": "zIEjB7VwEYQE",
        "outputId": "35c11a8d-4928-4cbe-e35c-3ed30583cb5d"
      },
      "outputs": [
        {
          "data": {
            "text/plain": [
              "{'id': 'ff6708eb',\n",
              " 'cell_type': 'code',\n",
              " 'metadata': {},\n",
              " 'execution_count': None,\n",
              " 'source': '!wandb login',\n",
              " 'outputs': []}"
            ]
          },
          "execution_count": null,
          "metadata": {},
          "output_type": "execute_result"
        }
      ],
      "source": [
        "nb[\"cells\"][login_idx+1]"
      ]
    },
    {
      "cell_type": "code",
      "execution_count": null,
      "metadata": {
        "id": "XqX_1hGFEYQF",
        "outputId": "71d345aa-d4d3-48a0-8596-fb9a891e8921"
      },
      "outputs": [
        {
          "data": {
            "text/plain": [
              "{'attachments': {},\n",
              " 'cell_type': 'markdown',\n",
              " 'metadata': {},\n",
              " 'source': '## Vehicle Loan Dataset\\n\\nWe will be using a simplified version of the [Vehicle Loan Default Prediction dataset](https://www.kaggle.com/sneharshinde/ltfs-av-data) from L&T which has been stored in W&B Artifacts. '}"
            ]
          },
          "execution_count": null,
          "metadata": {},
          "output_type": "execute_result"
        }
      ],
      "source": [
        "nb[\"cells\"][login_idx+2]"
      ]
    },
    {
      "cell_type": "code",
      "execution_count": null,
      "metadata": {
        "id": "2may-OyYEYQF"
      },
      "outputs": [],
      "source": [
        "def remove_properties(nb, props=[\"id\", \"idx_\", \"path_\"]):\n",
        "    for cell in nb[\"cells\"]:\n",
        "        for prop in props:\n",
        "            cell.pop(prop, None)\n",
        "    return nb\n",
        "\n",
        "def remove_empty_cells(nb):\n",
        "    nb[\"cells\"] = [cell for cell in nb[\"cells\"] if cell[\"source\"] != \"\"]\n",
        "    return nb"
      ]
    },
    {
      "cell_type": "code",
      "execution_count": null,
      "metadata": {
        "id": "-fhxHEsgEYQF"
      },
      "outputs": [],
      "source": [
        "nb = remove_properties(nb)\n",
        "nb = remove_empty_cells(nb)"
      ]
    },
    {
      "cell_type": "code",
      "execution_count": null,
      "metadata": {
        "id": "BFB04gQ1EYQF"
      },
      "outputs": [],
      "source": [
        "for nb_path in nbs_paths:\n",
        "    nb = nbformat.read(nb_path, 4)\n",
        "    login_idx = idx_login_cell(nb)\n",
        "    if login_idx is not None:\n",
        "        nb = insert_login_cell(nb, login_idx)\n",
        "        # delete path_ attribute\n",
        "    nb.pop(\"path_\", None)\n",
        "    nb = remove_properties(nb)\n",
        "    nb = remove_empty_cells(nb)\n",
        "    nbformat.validate(nb)\n",
        "    nbformat.write(nb, nb_path)"
      ]
    }
  ],
  "metadata": {
    "kernelspec": {
      "display_name": "nbdev2",
      "language": "python",
      "name": "python3"
    },
    "colab": {
      "provenance": []
    }
  },
  "nbformat": 4,
  "nbformat_minor": 0
}