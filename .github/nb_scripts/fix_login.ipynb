{
  "cells": [
    {
      "cell_type": "code",
      "execution_count": null,
      "metadata": {
        "id": "OVRxH0l91BA3"
      },
      "outputs": [],
      "source": [
        "import nbformat\n",
        "from pathlib import Path\n",
        "from nb_helpers.utils import find_nbs"
      ]
    },
    {
      "cell_type": "code",
      "execution_count": null,
      "metadata": {
        "id": "gtgLcjbF1BA9",
        "outputId": "518a8a9c-c4e5-4298-a4ae-be9ca33295de"
      },
      "outputs": [
        {
          "data": {
            "text/plain": [
              "152"
            ]
          },
          "execution_count": null,
          "metadata": {},
          "output_type": "execute_result"
        }
      ],
      "source": [
        "nbs_paths = find_nbs(\"../../\")\n",
        "len(nbs_paths)"
      ]
    },
    {
      "cell_type": "code",
      "execution_count": null,
      "metadata": {
        "id": "HtHGVv-L1BA_",
        "outputId": "c59e0a89-5a2c-45d6-99bc-8721902fb336"
      },
      "outputs": [
        {
          "data": {
            "text/plain": [
              "Path('/Users/tcapelle/work/examples/colabs/boosting/Credit_Scorecards_with_XGBoost_and_W&B.ipynb')"
            ]
          },
          "execution_count": null,
          "metadata": {},
          "output_type": "execute_result"
        }
      ],
      "source": [
        "nb_path = nbs_paths[3]\n",
        "nb_path\n"
      ]
    },
    {
      "cell_type": "code",
      "execution_count": null,
      "metadata": {
        "id": "JGFl6r4g1BA_"
      },
      "outputs": [],
      "source": [
        "wandb.login()"
      ]
    },
    {
      "cell_type": "code",
      "execution_count": null,
      "metadata": {
        "id": "Npf9Uyhx1BBA"
      },
      "outputs": [],
      "source": [
        "nb = nbformat.read(nb_path, 4)"
      ]
    },
    {
      "cell_type": "code",
      "execution_count": null,
      "metadata": {
        "id": "1adt3JmZ1BBB",
        "outputId": "b8952eb1-ba77-4dc5-8395-39c6eaf79ed6"
      },
      "outputs": [
        {
          "data": {
            "text/plain": [
              "18"
            ]
          },
          "execution_count": null,
          "metadata": {},
          "output_type": "execute_result"
        }
      ],
      "source": [
        "login_idx = idx_login_cell(nb, delete_line=False)\n",
        "login_idx"
      ]
    },
    {
      "cell_type": "code",
      "execution_count": null,
      "metadata": {
        "id": "lwpz09bG1BBC"
      },
      "outputs": [],
      "source": [
        "login_code = \"wandb.login()\"  # or !wandb login\n",
        "\n",
        "def insert_login_cell(nb, idx, code=login_code, replace=True):\n",
        "    n_cells = len(nb[\"cells\"])\n",
        "    login_cell = nbformat.v4.new_code_cell(source=code)\n",
        "    nb[\"cells\"].insert(idx+1, login_cell)\n",
        "    return nb"
      ]
    },
    {
      "cell_type": "code",
      "execution_count": null,
      "metadata": {
        "id": "0e0oEH2Q1BBD"
      },
      "outputs": [],
      "source": [
        "nb = insert_login_cell(nb, login_idx)"
      ]
    },
    {
      "cell_type": "code",
      "execution_count": null,
      "metadata": {
        "id": "j8idMVjm1BBE",
        "outputId": "9c0df8d6-767c-466c-a2e2-cf8c553e1015"
      },
      "outputs": [
        {
          "data": {
            "text/plain": [
              "{'cell_type': 'code',\n",
              " 'execution_count': None,\n",
              " 'metadata': {},\n",
              " 'outputs': [],\n",
              " 'source': '!wandb login'}"
            ]
          },
          "execution_count": null,
          "metadata": {},
          "output_type": "execute_result"
        }
      ],
      "source": [
        "nb[\"cells\"][login_idx]"
      ]
    },
    {
      "cell_type": "code",
      "execution_count": null,
      "metadata": {
        "id": "aWUP7W_c1BBE",
        "outputId": "869631ff-d4de-40b1-bbc7-1fd75d7db626"
      },
      "outputs": [
        {
          "data": {
            "text/plain": [
              "{'id': 'ff6708eb',\n",
              " 'cell_type': 'code',\n",
              " 'metadata': {},\n",
              " 'execution_count': None,\n",
              " 'source': '!wandb login',\n",
              " 'outputs': []}"
            ]
          },
          "execution_count": null,
          "metadata": {},
          "output_type": "execute_result"
        }
      ],
      "source": [
        "nb[\"cells\"][login_idx+1]"
      ]
    },
    {
      "cell_type": "code",
      "execution_count": null,
      "metadata": {
        "id": "hoygMSH-1BBF",
        "outputId": "208bcd88-8129-4303-eeba-5c8959c01b2a"
      },
      "outputs": [
        {
          "data": {
            "text/plain": [
              "{'attachments': {},\n",
              " 'cell_type': 'markdown',\n",
              " 'metadata': {},\n",
              " 'source': '## Vehicle Loan Dataset\\n\\nWe will be using a simplified version of the [Vehicle Loan Default Prediction dataset](https://www.kaggle.com/sneharshinde/ltfs-av-data) from L&T which has been stored in W&B Artifacts. '}"
            ]
          },
          "execution_count": null,
          "metadata": {},
          "output_type": "execute_result"
        }
      ],
      "source": [
        "nb[\"cells\"][login_idx+2]"
      ]
    },
    {
      "cell_type": "code",
      "execution_count": null,
      "metadata": {
        "id": "QWZ0XeYR1BBF"
      },
      "outputs": [],
      "source": [
        "def remove_properties(nb, props=[\"id\", \"idx_\", \"path_\"]):\n",
        "    for cell in nb[\"cells\"]:\n",
        "        for prop in props:\n",
        "            cell.pop(prop, None)\n",
        "    return nb\n",
        "\n",
        "def remove_empty_cells(nb):\n",
        "    nb[\"cells\"] = [cell for cell in nb[\"cells\"] if cell[\"source\"] != \"\"]\n",
        "    return nb"
      ]
    },
    {
      "cell_type": "code",
      "execution_count": null,
      "metadata": {
        "id": "PBn1Pe4T1BBG"
      },
      "outputs": [],
      "source": [
        "nb = remove_properties(nb)\n",
        "nb = remove_empty_cells(nb)"
      ]
    },
    {
      "cell_type": "code",
      "execution_count": null,
      "metadata": {
        "id": "2-vlBw-X1BBG"
      },
      "outputs": [],
      "source": [
        "for nb_path in nbs_paths:\n",
        "    nb = nbformat.read(nb_path, 4)\n",
        "    login_idx = idx_login_cell(nb)\n",
        "    if login_idx is not None:\n",
        "        nb = insert_login_cell(nb, login_idx)\n",
        "        # delete path_ attribute\n",
        "    nb.pop(\"path_\", None)\n",
        "    nb = remove_properties(nb)\n",
        "    nb = remove_empty_cells(nb)\n",
        "    nbformat.validate(nb)\n",
        "    nbformat.write(nb, nb_path)"
      ]
    }
  ],
  "metadata": {
    "kernelspec": {
      "display_name": "nbdev2",
      "language": "python",
      "name": "python3"
    },
    "colab": {
      "provenance": []
    }
  },
  "nbformat": 4,
  "nbformat_minor": 0
}