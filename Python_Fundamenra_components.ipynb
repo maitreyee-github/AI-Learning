{
  "cells": [
    {
      "cell_type": "markdown",
      "metadata": {
        "id": "view-in-github",
        "colab_type": "text"
      },
      "source": [
        "<a href=\"https://colab.research.google.com/github/maitreyee-github/AI-Learning/blob/main/Python_Fundamenra_components.ipynb\" target=\"_parent\"><img src=\"https://colab.research.google.com/assets/colab-badge.svg\" alt=\"Open In Colab\"/></a>"
      ]
    },
    {
      "cell_type": "markdown",
      "id": "26df0668",
      "metadata": {
        "id": "26df0668"
      },
      "source": [
        "# Ch01  : Fundamental components of Python"
      ]
    },
    {
      "cell_type": "markdown",
      "id": "b814a0e6",
      "metadata": {
        "id": "b814a0e6"
      },
      "source": [
        "Let's understand basic Python objects first  : \n",
        "Number\n",
        "string\n",
        "List\n",
        "Dictionary\n",
        "Tuple\n",
        "File"
      ]
    },
    {
      "cell_type": "code",
      "execution_count": null,
      "id": "3ed8233a",
      "metadata": {
        "id": "3ed8233a"
      },
      "outputs": [],
      "source": [
        ""
      ]
    }
  ],
  "metadata": {
    "kernelspec": {
      "display_name": "Python 3",
      "language": "python",
      "name": "python3"
    },
    "language_info": {
      "codemirror_mode": {
        "name": "ipython",
        "version": 3
      },
      "file_extension": ".py",
      "mimetype": "text/x-python",
      "name": "python",
      "nbconvert_exporter": "python",
      "pygments_lexer": "ipython3",
      "version": "3.8.8"
    },
    "colab": {
      "name": "Python_Fundamenra_components.ipynb",
      "provenance": [],
      "include_colab_link": true
    }
  },
  "nbformat": 4,
  "nbformat_minor": 5
}