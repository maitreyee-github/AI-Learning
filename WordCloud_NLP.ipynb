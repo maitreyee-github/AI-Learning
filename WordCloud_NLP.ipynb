{
  "cells": [
    {
      "cell_type": "code",
      "execution_count": null,
      "id": "a729d97a",
      "metadata": {
        "id": "a729d97a",
        "outputId": "916e46d0-f192-4d11-d9e3-3d70686405e1"
      },
      "outputs": [
        {
          "name": "stdout",
          "output_type": "stream",
          "text": [
            "Collecting wordcloud\n",
            "  Downloading wordcloud-1.8.2.2-cp38-cp38-win_amd64.whl (152 kB)\n",
            "Requirement already satisfied: matplotlib in c:\\users\\sinhacho\\anaconda3\\lib\\site-packages (from wordcloud) (3.3.4)\n",
            "Requirement already satisfied: numpy>=1.6.1 in c:\\users\\sinhacho\\anaconda3\\lib\\site-packages (from wordcloud) (1.20.1)\n",
            "Requirement already satisfied: pillow in c:\\users\\sinhacho\\anaconda3\\lib\\site-packages (from wordcloud) (8.2.0)\n",
            "Requirement already satisfied: python-dateutil>=2.1 in c:\\users\\sinhacho\\anaconda3\\lib\\site-packages (from matplotlib->wordcloud) (2.8.1)\n",
            "Requirement already satisfied: kiwisolver>=1.0.1 in c:\\users\\sinhacho\\anaconda3\\lib\\site-packages (from matplotlib->wordcloud) (1.3.1)\n",
            "Requirement already satisfied: cycler>=0.10 in c:\\users\\sinhacho\\anaconda3\\lib\\site-packages (from matplotlib->wordcloud) (0.10.0)\n",
            "Requirement already satisfied: pyparsing!=2.0.4,!=2.1.2,!=2.1.6,>=2.0.3 in c:\\users\\sinhacho\\anaconda3\\lib\\site-packages (from matplotlib->wordcloud) (2.4.7)\n",
            "Requirement already satisfied: six in c:\\users\\sinhacho\\anaconda3\\lib\\site-packages (from cycler>=0.10->matplotlib->wordcloud) (1.15.0)\n",
            "Installing collected packages: wordcloud\n",
            "Successfully installed wordcloud-1.8.2.2\n"
          ]
        }
      ],
      "source": [
        "!pip install wordcloud"
      ]
    },
    {
      "cell_type": "code",
      "execution_count": null,
      "id": "c9e07be2",
      "metadata": {
        "id": "c9e07be2",
        "outputId": "ad134773-cf68-4eef-f675-bcf6e1826cf9"
      },
      "outputs": [
        {
          "name": "stdout",
          "output_type": "stream",
          "text": [
            "Requirement already satisfied: nltk in c:\\users\\sinhacho\\anaconda3\\lib\\site-packages (3.6.1)\n",
            "Requirement already satisfied: tqdm in c:\\users\\sinhacho\\anaconda3\\lib\\site-packages (from nltk) (4.59.0)\n",
            "Requirement already satisfied: click in c:\\users\\sinhacho\\anaconda3\\lib\\site-packages (from nltk) (7.1.2)\n",
            "Requirement already satisfied: regex in c:\\users\\sinhacho\\anaconda3\\lib\\site-packages (from nltk) (2021.4.4)\n",
            "Requirement already satisfied: joblib in c:\\users\\sinhacho\\anaconda3\\lib\\site-packages (from nltk) (1.0.1)\n"
          ]
        }
      ],
      "source": [
        "!pip install nltk"
      ]
    },
    {
      "cell_type": "code",
      "execution_count": null,
      "id": "e4958e86",
      "metadata": {
        "id": "e4958e86"
      },
      "outputs": [],
      "source": [
        "!pip install nltk.downloader"
      ]
    },
    {
      "cell_type": "code",
      "execution_count": null,
      "id": "07310f5e",
      "metadata": {
        "id": "07310f5e"
      },
      "outputs": [],
      "source": [
        "import pandas as pd\n",
        "import numpy as np\n",
        "import matplotlib.pyplot as plt\n",
        "from wordcloud import WordCloud\n",
        "import nltk\n",
        "nltk.download()\n",
        "stopwords = nltk.corpus.stopwords.words('english')\n",
        "nltk.download('stopwords')\n",
        "from nltk.corpus import stopwords\n",
        "from PIL import Image"
      ]
    },
    {
      "cell_type": "markdown",
      "id": "90170fb1",
      "metadata": {
        "id": "90170fb1"
      },
      "source": [
        "Import all the packages necessary for code the code to run"
      ]
    },
    {
      "cell_type": "code",
      "execution_count": null,
      "id": "3cd05321",
      "metadata": {
        "id": "3cd05321"
      },
      "outputs": [],
      "source": [
        "stop_words = set(STOPWORDS)"
      ]
    },
    {
      "cell_type": "code",
      "execution_count": null,
      "id": "3a98f214",
      "metadata": {
        "id": "3a98f214"
      },
      "outputs": [],
      "source": [
        "input_file= pd.ExcelFile('C:\\Users\\sinhacho\\Downloads\\IPYNB\\Matrix\\input_data\\word_cloud_data_set.xlsx')\n",
        "text = text_exl.parse(\"IncidentTracker\")\n",
        "text.head(10)"
      ]
    },
    {
      "cell_type": "code",
      "execution_count": null,
      "id": "870e3f1a",
      "metadata": {
        "id": "870e3f1a"
      },
      "outputs": [],
      "source": [
        "info = str(text['comments_and_work_notes'])"
      ]
    },
    {
      "cell_type": "code",
      "execution_count": null,
      "id": "599d1740",
      "metadata": {
        "id": "599d1740"
      },
      "outputs": [],
      "source": [
        "cloud = WordCloud(max_words=1000, stopwords=stopwords.words('english')).generate(str(text['comments_and_work_notes']))\n",
        "plt.figure(figsize=(20,10))\n",
        "plt.imshow(cloud)"
      ]
    },
    {
      "cell_type": "code",
      "execution_count": null,
      "id": "24cea638",
      "metadata": {
        "id": "24cea638"
      },
      "outputs": [],
      "source": [
        ""
      ]
    },
    {
      "cell_type": "code",
      "execution_count": null,
      "id": "c97dc5cd",
      "metadata": {
        "id": "c97dc5cd"
      },
      "outputs": [],
      "source": [
        ""
      ]
    }
  ],
  "metadata": {
    "kernelspec": {
      "display_name": "Python 3",
      "language": "python",
      "name": "python3"
    },
    "language_info": {
      "codemirror_mode": {
        "name": "ipython",
        "version": 3
      },
      "file_extension": ".py",
      "mimetype": "text/x-python",
      "name": "python",
      "nbconvert_exporter": "python",
      "pygments_lexer": "ipython3",
      "version": "3.8.8"
    },
    "colab": {
      "name": "WordCloud_NLP.ipynb",
      "provenance": []
    }
  },
  "nbformat": 4,
  "nbformat_minor": 5
}