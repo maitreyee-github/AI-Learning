{
 "cells": [
  {
   "cell_type": "code",
   "execution_count": 1,
   "id": "cd5dbfa6",
   "metadata": {},
   "outputs": [],
   "source": [
    "#Imports\n",
    "import pandas as pd\n",
    "import numpy as np\n",
    "import matplotlib.pyplot as plt\n",
    "from sklearn.cluster import KMeans\n",
    "from sklearn.preprocessing import MinMaxScaler\n",
    "%matplotlib inline"
   ]
  },
  {
   "cell_type": "code",
   "execution_count": 2,
   "id": "4b7a9bd4",
   "metadata": {},
   "outputs": [
    {
     "data": {
      "text/html": [
       "<div>\n",
       "<style scoped>\n",
       "    .dataframe tbody tr th:only-of-type {\n",
       "        vertical-align: middle;\n",
       "    }\n",
       "\n",
       "    .dataframe tbody tr th {\n",
       "        vertical-align: top;\n",
       "    }\n",
       "\n",
       "    .dataframe thead th {\n",
       "        text-align: right;\n",
       "    }\n",
       "</style>\n",
       "<table border=\"1\" class=\"dataframe\">\n",
       "  <thead>\n",
       "    <tr style=\"text-align: right;\">\n",
       "      <th></th>\n",
       "      <th>number</th>\n",
       "      <th>actions_taken</th>\n",
       "      <th>active</th>\n",
       "      <th>activity_due</th>\n",
       "      <th>additional_assignee_list</th>\n",
       "      <th>approval</th>\n",
       "      <th>approval_history</th>\n",
       "      <th>approval_set</th>\n",
       "      <th>assigned_to</th>\n",
       "      <th>assignment_group</th>\n",
       "      <th>...</th>\n",
       "      <th>watch_list</th>\n",
       "      <th>work_notes</th>\n",
       "      <th>work_notes_list</th>\n",
       "      <th>u_date_time</th>\n",
       "      <th>u_request_item</th>\n",
       "      <th>u_response_sla</th>\n",
       "      <th>u_sio_count</th>\n",
       "      <th>u_app_name</th>\n",
       "      <th>u_application_owner</th>\n",
       "      <th>u_support_group</th>\n",
       "    </tr>\n",
       "  </thead>\n",
       "  <tbody>\n",
       "    <tr>\n",
       "      <th>0</th>\n",
       "      <td>INC0093707</td>\n",
       "      <td>NaN</td>\n",
       "      <td>False</td>\n",
       "      <td>UNKNOWN</td>\n",
       "      <td>NaN</td>\n",
       "      <td>Not Yet Requested</td>\n",
       "      <td>NaN</td>\n",
       "      <td>NaN</td>\n",
       "      <td>swarajya.kalapatapu@hpe.com</td>\n",
       "      <td>GIT-AppOps-FIN-FICO</td>\n",
       "      <td>...</td>\n",
       "      <td>NaN</td>\n",
       "      <td>NaN</td>\n",
       "      <td>NaN</td>\n",
       "      <td>NaN</td>\n",
       "      <td>NaN</td>\n",
       "      <td>True</td>\n",
       "      <td>NaN</td>\n",
       "      <td>NaN</td>\n",
       "      <td>NaN</td>\n",
       "      <td>NaN</td>\n",
       "    </tr>\n",
       "    <tr>\n",
       "      <th>1</th>\n",
       "      <td>INC0098336</td>\n",
       "      <td>NaN</td>\n",
       "      <td>False</td>\n",
       "      <td>UNKNOWN</td>\n",
       "      <td>NaN</td>\n",
       "      <td>Not Yet Requested</td>\n",
       "      <td>NaN</td>\n",
       "      <td>NaN</td>\n",
       "      <td>purnendu.mohanty@hpe.com</td>\n",
       "      <td>DEL-APPOPS-S4_SALESOPS</td>\n",
       "      <td>...</td>\n",
       "      <td>NaN</td>\n",
       "      <td>2021-03-15 23:28:53 - Madhur Agrawal (Work not...</td>\n",
       "      <td>NaN</td>\n",
       "      <td>NaN</td>\n",
       "      <td>NaN</td>\n",
       "      <td>True</td>\n",
       "      <td>NaN</td>\n",
       "      <td>NaN</td>\n",
       "      <td>NaN</td>\n",
       "      <td>Deals</td>\n",
       "    </tr>\n",
       "    <tr>\n",
       "      <th>2</th>\n",
       "      <td>INC0098383</td>\n",
       "      <td>NaN</td>\n",
       "      <td>False</td>\n",
       "      <td>UNKNOWN</td>\n",
       "      <td>NaN</td>\n",
       "      <td>Not Yet Requested</td>\n",
       "      <td>NaN</td>\n",
       "      <td>NaN</td>\n",
       "      <td>swarajya.kalapatapu@hpe.com</td>\n",
       "      <td>GIT-AppOps-FIN-FICO</td>\n",
       "      <td>...</td>\n",
       "      <td>NaN</td>\n",
       "      <td>NaN</td>\n",
       "      <td>NaN</td>\n",
       "      <td>NaN</td>\n",
       "      <td>NaN</td>\n",
       "      <td>True</td>\n",
       "      <td>NaN</td>\n",
       "      <td>NaN</td>\n",
       "      <td>NaN</td>\n",
       "      <td>NaN</td>\n",
       "    </tr>\n",
       "    <tr>\n",
       "      <th>3</th>\n",
       "      <td>INC0099773</td>\n",
       "      <td>NaN</td>\n",
       "      <td>False</td>\n",
       "      <td>UNKNOWN</td>\n",
       "      <td>NaN</td>\n",
       "      <td>Not Yet Requested</td>\n",
       "      <td>NaN</td>\n",
       "      <td>NaN</td>\n",
       "      <td>vaibhav.jaggi@hpe.com</td>\n",
       "      <td>GIT-InfraOps-Chef</td>\n",
       "      <td>...</td>\n",
       "      <td>NaN</td>\n",
       "      <td>2021-03-19 08:32:00 - Vaibhav Jaggi (Work note...</td>\n",
       "      <td>NaN</td>\n",
       "      <td>NaN</td>\n",
       "      <td>NaN</td>\n",
       "      <td>True</td>\n",
       "      <td>NaN</td>\n",
       "      <td>NaN</td>\n",
       "      <td>NaN</td>\n",
       "      <td>NaN</td>\n",
       "    </tr>\n",
       "    <tr>\n",
       "      <th>4</th>\n",
       "      <td>INC0099827</td>\n",
       "      <td>NaN</td>\n",
       "      <td>False</td>\n",
       "      <td>UNKNOWN</td>\n",
       "      <td>NaN</td>\n",
       "      <td>Not Yet Requested</td>\n",
       "      <td>NaN</td>\n",
       "      <td>NaN</td>\n",
       "      <td>swarajya.kalapatapu@hpe.com</td>\n",
       "      <td>GIT-AppOps-FIN-FICO</td>\n",
       "      <td>...</td>\n",
       "      <td>NaN</td>\n",
       "      <td>2020-06-08 15:03:56 - Swarajya Kalapatapu (Wor...</td>\n",
       "      <td>NaN</td>\n",
       "      <td>NaN</td>\n",
       "      <td>NaN</td>\n",
       "      <td>True</td>\n",
       "      <td>NaN</td>\n",
       "      <td>NaN</td>\n",
       "      <td>NaN</td>\n",
       "      <td>NaN</td>\n",
       "    </tr>\n",
       "  </tbody>\n",
       "</table>\n",
       "<p>5 rows × 156 columns</p>\n",
       "</div>"
      ],
      "text/plain": [
       "       number  actions_taken  active activity_due  additional_assignee_list  \\\n",
       "0  INC0093707            NaN   False      UNKNOWN                       NaN   \n",
       "1  INC0098336            NaN   False      UNKNOWN                       NaN   \n",
       "2  INC0098383            NaN   False      UNKNOWN                       NaN   \n",
       "3  INC0099773            NaN   False      UNKNOWN                       NaN   \n",
       "4  INC0099827            NaN   False      UNKNOWN                       NaN   \n",
       "\n",
       "            approval  approval_history  approval_set  \\\n",
       "0  Not Yet Requested               NaN           NaN   \n",
       "1  Not Yet Requested               NaN           NaN   \n",
       "2  Not Yet Requested               NaN           NaN   \n",
       "3  Not Yet Requested               NaN           NaN   \n",
       "4  Not Yet Requested               NaN           NaN   \n",
       "\n",
       "                   assigned_to        assignment_group  ...  watch_list  \\\n",
       "0  swarajya.kalapatapu@hpe.com     GIT-AppOps-FIN-FICO  ...         NaN   \n",
       "1     purnendu.mohanty@hpe.com  DEL-APPOPS-S4_SALESOPS  ...         NaN   \n",
       "2  swarajya.kalapatapu@hpe.com     GIT-AppOps-FIN-FICO  ...         NaN   \n",
       "3        vaibhav.jaggi@hpe.com       GIT-InfraOps-Chef  ...         NaN   \n",
       "4  swarajya.kalapatapu@hpe.com     GIT-AppOps-FIN-FICO  ...         NaN   \n",
       "\n",
       "                                          work_notes work_notes_list  \\\n",
       "0                                                NaN             NaN   \n",
       "1  2021-03-15 23:28:53 - Madhur Agrawal (Work not...             NaN   \n",
       "2                                                NaN             NaN   \n",
       "3  2021-03-19 08:32:00 - Vaibhav Jaggi (Work note...             NaN   \n",
       "4  2020-06-08 15:03:56 - Swarajya Kalapatapu (Wor...             NaN   \n",
       "\n",
       "  u_date_time u_request_item  u_response_sla  u_sio_count  u_app_name  \\\n",
       "0         NaN            NaN            True          NaN         NaN   \n",
       "1         NaN            NaN            True          NaN         NaN   \n",
       "2         NaN            NaN            True          NaN         NaN   \n",
       "3         NaN            NaN            True          NaN         NaN   \n",
       "4         NaN            NaN            True          NaN         NaN   \n",
       "\n",
       "  u_application_owner  u_support_group  \n",
       "0                 NaN              NaN  \n",
       "1                 NaN            Deals  \n",
       "2                 NaN              NaN  \n",
       "3                 NaN              NaN  \n",
       "4                 NaN              NaN  \n",
       "\n",
       "[5 rows x 156 columns]"
      ]
     },
     "execution_count": 2,
     "metadata": {},
     "output_type": "execute_result"
    }
   ],
   "source": [
    "#Reading ths dataset\n",
    "df = pd.read_csv(\"C:/Users/bohras/Desktop/INC- Cluster/incident_test.csv\", encoding= \"unicode_escape\")\n",
    "df.head()"
   ]
  },
  {
   "cell_type": "code",
   "execution_count": 3,
   "id": "3709ff86",
   "metadata": {},
   "outputs": [
    {
     "name": "stdout",
     "output_type": "stream",
     "text": [
      "priority: 97\n",
      "urgency: 142\n",
      "calendar_duration: 49\n"
     ]
    }
   ],
   "source": [
    "#finding out the indices of required columns \n",
    "index_priority = df.columns.get_loc(\"priority\")\n",
    "print(\"priority: {}\".format(index_priority))\n",
    "index_urgency = df.columns.get_loc(\"urgency\")\n",
    "print(\"urgency: {}\".format(index_urgency))\n",
    "index_calendar_duration = df.columns.get_loc(\"calendar_duration\")\n",
    "print(\"calendar_duration: {}\".format(index_calendar_duration))"
   ]
  },
  {
   "cell_type": "code",
   "execution_count": 4,
   "id": "0332f575",
   "metadata": {},
   "outputs": [],
   "source": [
    "#Converting non-numeric values into numerical values\n",
    "df['priority'] = df['priority'].replace(['1 - Critical',  '2 - High', '3 - Moderate', '4 - Low'], [1, 2, 3, 4])\n",
    "df['urgency'] = df['urgency'].replace(['1 - Immediate', '2 - Today', '3 - Within 3 Days', '4 - Within a week'],\n",
    "                                          [1,2,3,4])"
   ]
  },
  {
   "cell_type": "code",
   "execution_count": 5,
   "id": "d96ed3f5",
   "metadata": {},
   "outputs": [
    {
     "data": {
      "text/plain": [
       "<matplotlib.collections.PathCollection at 0x197dee134f0>"
      ]
     },
     "execution_count": 5,
     "metadata": {},
     "output_type": "execute_result"
    },
    {
     "data": {
      "image/png": "[encoded data removed]",
      "text/plain": [
       "<Figure size 432x288 with 1 Axes>"
      ]
     },
     "metadata": {
      "needs_background": "light"
     },
     "output_type": "display_data"
    }
   ],
   "source": [
    "#Scatterplot of priority v/s urgency\n",
    "plt.scatter(df['priority'],df['urgency'])"
   ]
  },
  {
   "cell_type": "markdown",
   "id": "b23127b4",
   "metadata": {},
   "source": [
    "# In above plot 1, 2, 3 and 4 represents 1 - Critical, 2 - High, 3 - Moderate and 4 - Low... \"priority\" column values respectively"
   ]
  },
  {
   "cell_type": "code",
   "execution_count": 6,
   "id": "ec73426e",
   "metadata": {
    "scrolled": true
   },
   "outputs": [
    {
     "data": {
      "text/plain": [
       "<AxesSubplot:xlabel='urgency', ylabel='calendar_duration'>"
      ]
     },
     "execution_count": 6,
     "metadata": {},
     "output_type": "execute_result"
    },
    {
     "data": {
      "image/png": "[encoded data removed]",
      "text/plain": [
       "<Figure size 432x288 with 1 Axes>"
      ]
     },
     "metadata": {
      "needs_background": "light"
     },
     "output_type": "display_data"
    }
   ],
   "source": [
    "df.plot(kind='scatter', x='urgency', y='calendar_duration', alpha=0.8)"
   ]
  },
  {
   "cell_type": "markdown",
   "id": "1b573429",
   "metadata": {},
   "source": [
    "# In above plot 1, 2, 3 and 4 represents 1 - Immediate, 2 - Today, 3 - Within 3 Days and 4 - Within a week... \"urgency\" values respectively"
   ]
  },
  {
   "cell_type": "code",
   "execution_count": 7,
   "id": "6ed5d97f",
   "metadata": {},
   "outputs": [],
   "source": [
    "#Creating required dataframe out of the given dataframe\n",
    "df = pd.DataFrame(df, columns = ['priority', 'urgency', 'calendar_duration'])"
   ]
  },
  {
   "cell_type": "code",
   "execution_count": 8,
   "id": "fefbd976",
   "metadata": {},
   "outputs": [
    {
     "data": {
      "text/html": [
       "<div>\n",
       "<style scoped>\n",
       "    .dataframe tbody tr th:only-of-type {\n",
       "        vertical-align: middle;\n",
       "    }\n",
       "\n",
       "    .dataframe tbody tr th {\n",
       "        vertical-align: top;\n",
       "    }\n",
       "\n",
       "    .dataframe thead th {\n",
       "        text-align: right;\n",
       "    }\n",
       "</style>\n",
       "<table border=\"1\" class=\"dataframe\">\n",
       "  <thead>\n",
       "    <tr style=\"text-align: right;\">\n",
       "      <th></th>\n",
       "      <th>priority</th>\n",
       "      <th>urgency</th>\n",
       "      <th>calendar_duration</th>\n",
       "    </tr>\n",
       "  </thead>\n",
       "  <tbody>\n",
       "    <tr>\n",
       "      <th>0</th>\n",
       "      <td>2</td>\n",
       "      <td>2</td>\n",
       "      <td>24974128</td>\n",
       "    </tr>\n",
       "    <tr>\n",
       "      <th>1</th>\n",
       "      <td>4</td>\n",
       "      <td>2</td>\n",
       "      <td>25924033</td>\n",
       "    </tr>\n",
       "    <tr>\n",
       "      <th>2</th>\n",
       "      <td>3</td>\n",
       "      <td>3</td>\n",
       "      <td>25288520</td>\n",
       "    </tr>\n",
       "    <tr>\n",
       "      <th>3</th>\n",
       "      <td>4</td>\n",
       "      <td>2</td>\n",
       "      <td>24529822</td>\n",
       "    </tr>\n",
       "    <tr>\n",
       "      <th>4</th>\n",
       "      <td>4</td>\n",
       "      <td>2</td>\n",
       "      <td>23150507</td>\n",
       "    </tr>\n",
       "  </tbody>\n",
       "</table>\n",
       "</div>"
      ],
      "text/plain": [
       "   priority  urgency  calendar_duration\n",
       "0         2        2           24974128\n",
       "1         4        2           25924033\n",
       "2         3        3           25288520\n",
       "3         4        2           24529822\n",
       "4         4        2           23150507"
      ]
     },
     "execution_count": 8,
     "metadata": {},
     "output_type": "execute_result"
    }
   ],
   "source": [
    "df.head()"
   ]
  },
  {
   "cell_type": "code",
   "execution_count": 9,
   "id": "c312fabb",
   "metadata": {},
   "outputs": [],
   "source": [
    "scaler = MinMaxScaler()\n",
    "model=scaler.fit(df)\n",
    "scaled_data=model.transform(df)"
   ]
  },
  {
   "cell_type": "code",
   "execution_count": 10,
   "id": "a6aca35e",
   "metadata": {},
   "outputs": [
    {
     "name": "stdout",
     "output_type": "stream",
     "text": [
      "\n",
      "Pandas DataFrame: \n"
     ]
    },
    {
     "data": {
      "text/html": [
       "<div>\n",
       "<style scoped>\n",
       "    .dataframe tbody tr th:only-of-type {\n",
       "        vertical-align: middle;\n",
       "    }\n",
       "\n",
       "    .dataframe tbody tr th {\n",
       "        vertical-align: top;\n",
       "    }\n",
       "\n",
       "    .dataframe thead th {\n",
       "        text-align: right;\n",
       "    }\n",
       "</style>\n",
       "<table border=\"1\" class=\"dataframe\">\n",
       "  <thead>\n",
       "    <tr style=\"text-align: right;\">\n",
       "      <th></th>\n",
       "      <th>priority</th>\n",
       "      <th>urgency</th>\n",
       "      <th>calendar_duration</th>\n",
       "    </tr>\n",
       "  </thead>\n",
       "  <tbody>\n",
       "    <tr>\n",
       "      <th>0</th>\n",
       "      <td>0.333333</td>\n",
       "      <td>0.333333</td>\n",
       "      <td>3.169070e-01</td>\n",
       "    </tr>\n",
       "    <tr>\n",
       "      <th>1</th>\n",
       "      <td>1.000000</td>\n",
       "      <td>0.333333</td>\n",
       "      <td>3.302413e-01</td>\n",
       "    </tr>\n",
       "    <tr>\n",
       "      <th>2</th>\n",
       "      <td>0.666667</td>\n",
       "      <td>0.666667</td>\n",
       "      <td>3.213203e-01</td>\n",
       "    </tr>\n",
       "    <tr>\n",
       "      <th>3</th>\n",
       "      <td>1.000000</td>\n",
       "      <td>0.333333</td>\n",
       "      <td>3.106700e-01</td>\n",
       "    </tr>\n",
       "    <tr>\n",
       "      <th>4</th>\n",
       "      <td>1.000000</td>\n",
       "      <td>0.333333</td>\n",
       "      <td>2.913078e-01</td>\n",
       "    </tr>\n",
       "    <tr>\n",
       "      <th>...</th>\n",
       "      <td>...</td>\n",
       "      <td>...</td>\n",
       "      <td>...</td>\n",
       "    </tr>\n",
       "    <tr>\n",
       "      <th>494</th>\n",
       "      <td>1.000000</td>\n",
       "      <td>0.333333</td>\n",
       "      <td>1.732457e-02</td>\n",
       "    </tr>\n",
       "    <tr>\n",
       "      <th>495</th>\n",
       "      <td>0.666667</td>\n",
       "      <td>0.000000</td>\n",
       "      <td>3.846207e-02</td>\n",
       "    </tr>\n",
       "    <tr>\n",
       "      <th>496</th>\n",
       "      <td>1.000000</td>\n",
       "      <td>0.666667</td>\n",
       "      <td>4.989891e-02</td>\n",
       "    </tr>\n",
       "    <tr>\n",
       "      <th>497</th>\n",
       "      <td>1.000000</td>\n",
       "      <td>0.666667</td>\n",
       "      <td>3.796820e-03</td>\n",
       "    </tr>\n",
       "    <tr>\n",
       "      <th>498</th>\n",
       "      <td>1.000000</td>\n",
       "      <td>0.666667</td>\n",
       "      <td>8.422530e-08</td>\n",
       "    </tr>\n",
       "  </tbody>\n",
       "</table>\n",
       "<p>499 rows × 3 columns</p>\n",
       "</div>"
      ],
      "text/plain": [
       "     priority   urgency  calendar_duration\n",
       "0    0.333333  0.333333       3.169070e-01\n",
       "1    1.000000  0.333333       3.302413e-01\n",
       "2    0.666667  0.666667       3.213203e-01\n",
       "3    1.000000  0.333333       3.106700e-01\n",
       "4    1.000000  0.333333       2.913078e-01\n",
       "..        ...       ...                ...\n",
       "494  1.000000  0.333333       1.732457e-02\n",
       "495  0.666667  0.000000       3.846207e-02\n",
       "496  1.000000  0.666667       4.989891e-02\n",
       "497  1.000000  0.666667       3.796820e-03\n",
       "498  1.000000  0.666667       8.422530e-08\n",
       "\n",
       "[499 rows x 3 columns]"
      ]
     },
     "execution_count": 10,
     "metadata": {},
     "output_type": "execute_result"
    }
   ],
   "source": [
    "df = pd.DataFrame(scaled_data, columns =['priority', 'urgency', 'calendar_duration'])\n",
    "print(\"\\nPandas DataFrame: \")\n",
    "df"
   ]
  },
  {
   "cell_type": "code",
   "execution_count": 11,
   "id": "cd5569de",
   "metadata": {},
   "outputs": [
    {
     "name": "stderr",
     "output_type": "stream",
     "text": [
      "C:\\Users\\bohras\\Anaconda3\\lib\\site-packages\\sklearn\\cluster\\_kmeans.py:881: UserWarning: KMeans is known to have a memory leak on Windows with MKL, when there are less chunks than available threads. You can avoid it by setting the environment variable OMP_NUM_THREADS=2.\n",
      "  warnings.warn(\n"
     ]
    }
   ],
   "source": [
    "k_rng = range(1,10)\n",
    "sse = []\n",
    "for k in k_rng:\n",
    "    km = KMeans(n_clusters=k)\n",
    "    km.fit(df[['priority', 'calendar_duration']])\n",
    "    sse.append(km.inertia_)"
   ]
  },
  {
   "cell_type": "code",
   "execution_count": 12,
   "id": "c52cc485",
   "metadata": {},
   "outputs": [
    {
     "data": {
      "text/plain": [
       "[<matplotlib.lines.Line2D at 0x197e06d6eb0>]"
      ]
     },
     "execution_count": 12,
     "metadata": {},
     "output_type": "execute_result"
    },
    {
     "data": {
      "image/png": "[encoded data removed]",
      "text/plain": [
       "<Figure size 432x288 with 1 Axes>"
      ]
     },
     "metadata": {
      "needs_background": "light"
     },
     "output_type": "display_data"
    }
   ],
   "source": [
    "plt.xlabel('K')\n",
    "plt.ylabel('Sum of squared error')\n",
    "plt.plot(k_rng,sse)"
   ]
  },
  {
   "cell_type": "code",
   "execution_count": 13,
   "id": "2be1a3d4",
   "metadata": {},
   "outputs": [
    {
     "data": {
      "text/plain": [
       "KMeans(n_clusters=4, random_state=0)"
      ]
     },
     "execution_count": 13,
     "metadata": {},
     "output_type": "execute_result"
    }
   ],
   "source": [
    "km = KMeans(n_clusters = 4, random_state = 0)\n",
    "km"
   ]
  },
  {
   "cell_type": "code",
   "execution_count": 14,
   "id": "72dab440",
   "metadata": {},
   "outputs": [
    {
     "data": {
      "text/plain": [
       "array([2, 3, 0, 3, 3, 3, 2, 3, 2, 3, 3, 3, 3, 3, 3, 3, 0, 3, 3, 3, 0, 3,\n",
       "       0, 2, 3, 3, 2, 2, 0, 3, 3, 3, 3, 3, 3, 2, 3, 2, 2, 2, 3, 3, 3, 3,\n",
       "       3, 0, 3, 0, 0, 3, 3, 0, 2, 3, 0, 0, 3, 3, 3, 3, 0, 0, 3, 0, 3, 3,\n",
       "       2, 0, 3, 3, 3, 3, 0, 2, 3, 3, 3, 0, 3, 0, 3, 3, 3, 0, 1, 3, 3, 3,\n",
       "       3, 3, 3, 3, 3, 3, 2, 2, 0, 3, 3, 2, 2, 0, 2, 3, 3, 0, 3, 1, 1, 0,\n",
       "       2, 1, 3, 3, 0, 0, 2, 1, 3, 3, 0, 1, 0, 3, 1, 0, 1, 1, 3, 0, 3, 1,\n",
       "       0, 0, 0, 0, 3, 1, 0, 1, 1, 3, 2, 0, 1, 1, 0, 0, 0, 1, 0, 2, 3, 2,\n",
       "       0, 1, 3, 2, 3, 0, 0, 1, 2, 0, 3, 1, 1, 0, 2, 0, 1, 3, 1, 1, 1, 0,\n",
       "       0, 3, 1, 0, 2, 0, 1, 1, 0, 1, 2, 0, 3, 1, 1, 1, 2, 0, 0, 1, 2, 0,\n",
       "       1, 0, 1, 1, 2, 0, 1, 1, 0, 1, 1, 2, 0, 0, 2, 0, 0, 0, 0, 1, 0, 3,\n",
       "       1, 2, 2, 2, 2, 1, 1, 0, 0, 3, 1, 1, 1, 3, 0, 1, 3, 0, 1, 2, 2, 3,\n",
       "       0, 0, 1, 1, 1, 1, 0, 3, 1, 1, 1, 1, 1, 1, 0, 1, 0, 0, 0, 1, 2, 0,\n",
       "       1, 1, 1, 0, 1, 2, 0, 1, 0, 1, 1, 3, 0, 2, 2, 2, 1, 2, 2, 0, 1, 0,\n",
       "       0, 2, 0, 2, 1, 1, 1, 0, 0, 1, 3, 0, 1, 0, 1, 1, 1, 1, 1, 1, 1, 1,\n",
       "       0, 0, 1, 1, 1, 1, 0, 3, 1, 0, 1, 0, 3, 1, 0, 2, 1, 0, 1, 2, 1, 0,\n",
       "       3, 1, 1, 3, 0, 1, 3, 2, 1, 0, 3, 1, 1, 2, 0, 0, 0, 0, 0, 1, 1, 1,\n",
       "       1, 1, 2, 0, 0, 0, 0, 0, 0, 1, 2, 2, 0, 0, 1, 1, 1, 1, 0, 1, 1, 1,\n",
       "       1, 2, 1, 1, 0, 1, 1, 2, 1, 3, 1, 1, 2, 0, 1, 1, 0, 1, 1, 1, 1, 1,\n",
       "       1, 2, 0, 1, 0, 1, 1, 1, 2, 1, 0, 1, 2, 1, 1, 1, 1, 1, 1, 0, 1, 1,\n",
       "       0, 0, 3, 0, 2, 1, 1, 1, 1, 0, 0, 1, 2, 1, 1, 1, 0, 1, 1, 1, 0, 1,\n",
       "       1, 0, 0, 2, 1, 0, 1, 0, 1, 2, 0, 2, 2, 2, 0, 0, 0, 2, 1, 0, 0, 2,\n",
       "       2, 0, 0, 1, 0, 2, 0, 1, 2, 0, 0, 1, 0, 1, 1, 1, 0, 1, 2, 0, 2, 1,\n",
       "       0, 0, 0, 2, 1, 3, 1, 1, 0, 0, 1, 0, 1, 1, 1])"
      ]
     },
     "execution_count": 14,
     "metadata": {},
     "output_type": "execute_result"
    }
   ],
   "source": [
    "y_predicted = km.fit_predict(df[['priority','calendar_duration']])\n",
    "y_predicted"
   ]
  },
  {
   "cell_type": "code",
   "execution_count": 15,
   "id": "20be0d28",
   "metadata": {},
   "outputs": [
    {
     "data": {
      "text/html": [
       "<div>\n",
       "<style scoped>\n",
       "    .dataframe tbody tr th:only-of-type {\n",
       "        vertical-align: middle;\n",
       "    }\n",
       "\n",
       "    .dataframe tbody tr th {\n",
       "        vertical-align: top;\n",
       "    }\n",
       "\n",
       "    .dataframe thead th {\n",
       "        text-align: right;\n",
       "    }\n",
       "</style>\n",
       "<table border=\"1\" class=\"dataframe\">\n",
       "  <thead>\n",
       "    <tr style=\"text-align: right;\">\n",
       "      <th></th>\n",
       "      <th>priority</th>\n",
       "      <th>urgency</th>\n",
       "      <th>calendar_duration</th>\n",
       "      <th>cluster</th>\n",
       "    </tr>\n",
       "  </thead>\n",
       "  <tbody>\n",
       "    <tr>\n",
       "      <th>0</th>\n",
       "      <td>0.333333</td>\n",
       "      <td>0.333333</td>\n",
       "      <td>0.316907</td>\n",
       "      <td>2</td>\n",
       "    </tr>\n",
       "    <tr>\n",
       "      <th>1</th>\n",
       "      <td>1.000000</td>\n",
       "      <td>0.333333</td>\n",
       "      <td>0.330241</td>\n",
       "      <td>3</td>\n",
       "    </tr>\n",
       "    <tr>\n",
       "      <th>2</th>\n",
       "      <td>0.666667</td>\n",
       "      <td>0.666667</td>\n",
       "      <td>0.321320</td>\n",
       "      <td>0</td>\n",
       "    </tr>\n",
       "    <tr>\n",
       "      <th>3</th>\n",
       "      <td>1.000000</td>\n",
       "      <td>0.333333</td>\n",
       "      <td>0.310670</td>\n",
       "      <td>3</td>\n",
       "    </tr>\n",
       "    <tr>\n",
       "      <th>4</th>\n",
       "      <td>1.000000</td>\n",
       "      <td>0.333333</td>\n",
       "      <td>0.291308</td>\n",
       "      <td>3</td>\n",
       "    </tr>\n",
       "  </tbody>\n",
       "</table>\n",
       "</div>"
      ],
      "text/plain": [
       "   priority   urgency  calendar_duration  cluster\n",
       "0  0.333333  0.333333           0.316907        2\n",
       "1  1.000000  0.333333           0.330241        3\n",
       "2  0.666667  0.666667           0.321320        0\n",
       "3  1.000000  0.333333           0.310670        3\n",
       "4  1.000000  0.333333           0.291308        3"
      ]
     },
     "execution_count": 15,
     "metadata": {},
     "output_type": "execute_result"
    }
   ],
   "source": [
    "df['cluster'] = y_predicted\n",
    "df.head()"
   ]
  },
  {
   "cell_type": "code",
   "execution_count": 16,
   "id": "3a31ee1f",
   "metadata": {},
   "outputs": [
    {
     "data": {
      "image/png": "[encoded data removed]",
      "text/plain": [
       "<Figure size 432x288 with 1 Axes>"
      ]
     },
     "metadata": {
      "needs_background": "light"
     },
     "output_type": "display_data"
    }
   ],
   "source": [
    "a = df[df.cluster==0]\n",
    "b = df[df.cluster==1]\n",
    "c = df[df.cluster==2]\n",
    "d = df[df.cluster==3]\n",
    "\n",
    "plt.scatter(a.priority,a['urgency'],color='green')\n",
    "plt.scatter(b.priority,b['urgency'],color='red')\n",
    "plt.scatter(c.priority,c['urgency'],color='yellow')\n",
    "plt.scatter(d.priority,d['urgency'],color='black')\n",
    "\n",
    "plt.xlabel('priority')\n",
    "plt.ylabel('urgency')\n",
    "plt.show()\n"
   ]
  },
  {
   "cell_type": "code",
   "execution_count": 17,
   "id": "1dffbf21",
   "metadata": {},
   "outputs": [
    {
     "data": {
      "image/png": "[encoded data removed]",
      "text/plain": [
       "<Figure size 432x288 with 1 Axes>"
      ]
     },
     "metadata": {
      "needs_background": "light"
     },
     "output_type": "display_data"
    }
   ],
   "source": [
    "e = df[df.cluster==0]\n",
    "f = df[df.cluster==1]\n",
    "g = df[df.cluster==2]\n",
    "h = df[df.cluster==3]\n",
    "\n",
    "plt.scatter(e.priority,a['calendar_duration'],color='green')\n",
    "plt.scatter(f.priority,b['calendar_duration'],color='red')\n",
    "plt.scatter(g.priority,c['calendar_duration'],color='yellow')\n",
    "plt.scatter(h.priority,d['calendar_duration'],color='black')\n",
    "\n",
    "plt.xlabel('priority')\n",
    "plt.ylabel('calendar_duration')\n",
    "plt.show()"
   ]
  },
  {
   "cell_type": "markdown",
   "id": "6bef79ff",
   "metadata": {},
   "source": [
    "## Important Conclusions:\n",
    "   Note: Here green represents cluster 0, red represents cluster 1 , yellow represents cluster 2 and black represents cluster 3\n",
    "1. A large number of records under cluster 2 have low to considerable calendar_duration.\n",
    "2. Few records from cluster 2 have exceptionally high calendar_duration.\n",
    "3. Data distribution behaviour of cluster 0 and cluster 2 is somewhat similar.\n",
    "4. Records under cluster 1 have considerably low calendar_duration \n",
    "5. Records under cluster 3 have considerable calendar_duration and as seen in the above clustering distribution \n",
    "   the relation can be written as:\n",
    "   calendar_duration (cluster 0) < calendar_duration (cluster 3) < calendar_duration (cluster 2)"
   ]
  },
  {
   "cell_type": "code",
   "execution_count": 18,
   "id": "03b4356c",
   "metadata": {},
   "outputs": [
    {
     "data": {
      "text/plain": [
       "priority             float64\n",
       "urgency              float64\n",
       "calendar_duration    float64\n",
       "cluster                int32\n",
       "dtype: object"
      ]
     },
     "execution_count": 18,
     "metadata": {},
     "output_type": "execute_result"
    }
   ],
   "source": [
    "df.dtypes"
   ]
  },
  {
   "cell_type": "markdown",
   "id": "d08fc654",
   "metadata": {},
   "source": [
    "## Supervised Approach (just an illustration): Regression architecture to predict calendar_duration"
   ]
  },
  {
   "cell_type": "code",
   "execution_count": 19,
   "id": "766dfd25",
   "metadata": {},
   "outputs": [
    {
     "data": {
      "text/html": [
       "<div>\n",
       "<style scoped>\n",
       "    .dataframe tbody tr th:only-of-type {\n",
       "        vertical-align: middle;\n",
       "    }\n",
       "\n",
       "    .dataframe tbody tr th {\n",
       "        vertical-align: top;\n",
       "    }\n",
       "\n",
       "    .dataframe thead th {\n",
       "        text-align: right;\n",
       "    }\n",
       "</style>\n",
       "<table border=\"1\" class=\"dataframe\">\n",
       "  <thead>\n",
       "    <tr style=\"text-align: right;\">\n",
       "      <th></th>\n",
       "      <th>priority</th>\n",
       "      <th>urgency</th>\n",
       "      <th>calendar_duration</th>\n",
       "      <th>cluster</th>\n",
       "    </tr>\n",
       "  </thead>\n",
       "  <tbody>\n",
       "    <tr>\n",
       "      <th>0</th>\n",
       "      <td>0.333333</td>\n",
       "      <td>0.333333</td>\n",
       "      <td>0.316907</td>\n",
       "      <td>2</td>\n",
       "    </tr>\n",
       "    <tr>\n",
       "      <th>1</th>\n",
       "      <td>1.000000</td>\n",
       "      <td>0.333333</td>\n",
       "      <td>0.330241</td>\n",
       "      <td>3</td>\n",
       "    </tr>\n",
       "    <tr>\n",
       "      <th>2</th>\n",
       "      <td>0.666667</td>\n",
       "      <td>0.666667</td>\n",
       "      <td>0.321320</td>\n",
       "      <td>0</td>\n",
       "    </tr>\n",
       "    <tr>\n",
       "      <th>3</th>\n",
       "      <td>1.000000</td>\n",
       "      <td>0.333333</td>\n",
       "      <td>0.310670</td>\n",
       "      <td>3</td>\n",
       "    </tr>\n",
       "    <tr>\n",
       "      <th>4</th>\n",
       "      <td>1.000000</td>\n",
       "      <td>0.333333</td>\n",
       "      <td>0.291308</td>\n",
       "      <td>3</td>\n",
       "    </tr>\n",
       "    <tr>\n",
       "      <th>5</th>\n",
       "      <td>1.000000</td>\n",
       "      <td>0.333333</td>\n",
       "      <td>0.292409</td>\n",
       "      <td>3</td>\n",
       "    </tr>\n",
       "    <tr>\n",
       "      <th>6</th>\n",
       "      <td>0.333333</td>\n",
       "      <td>0.000000</td>\n",
       "      <td>0.352870</td>\n",
       "      <td>2</td>\n",
       "    </tr>\n",
       "    <tr>\n",
       "      <th>7</th>\n",
       "      <td>1.000000</td>\n",
       "      <td>0.333333</td>\n",
       "      <td>0.289957</td>\n",
       "      <td>3</td>\n",
       "    </tr>\n",
       "    <tr>\n",
       "      <th>8</th>\n",
       "      <td>0.333333</td>\n",
       "      <td>0.333333</td>\n",
       "      <td>0.279150</td>\n",
       "      <td>2</td>\n",
       "    </tr>\n",
       "    <tr>\n",
       "      <th>9</th>\n",
       "      <td>1.000000</td>\n",
       "      <td>0.333333</td>\n",
       "      <td>0.314893</td>\n",
       "      <td>3</td>\n",
       "    </tr>\n",
       "  </tbody>\n",
       "</table>\n",
       "</div>"
      ],
      "text/plain": [
       "   priority   urgency  calendar_duration  cluster\n",
       "0  0.333333  0.333333           0.316907        2\n",
       "1  1.000000  0.333333           0.330241        3\n",
       "2  0.666667  0.666667           0.321320        0\n",
       "3  1.000000  0.333333           0.310670        3\n",
       "4  1.000000  0.333333           0.291308        3\n",
       "5  1.000000  0.333333           0.292409        3\n",
       "6  0.333333  0.000000           0.352870        2\n",
       "7  1.000000  0.333333           0.289957        3\n",
       "8  0.333333  0.333333           0.279150        2\n",
       "9  1.000000  0.333333           0.314893        3"
      ]
     },
     "execution_count": 19,
     "metadata": {},
     "output_type": "execute_result"
    }
   ],
   "source": [
    "df.head(10)"
   ]
  },
  {
   "cell_type": "markdown",
   "id": "f3ec02df",
   "metadata": {},
   "source": [
    "# To find the correlation between columns of the dataframe"
   ]
  },
  {
   "cell_type": "code",
   "execution_count": 20,
   "id": "7711f7d0",
   "metadata": {},
   "outputs": [],
   "source": [
    "corr_matrix = df.corr()"
   ]
  },
  {
   "cell_type": "code",
   "execution_count": 21,
   "id": "32116157",
   "metadata": {},
   "outputs": [
    {
     "data": {
      "text/plain": [
       "calendar_duration    1.000000\n",
       "cluster              0.427772\n",
       "priority            -0.012054\n",
       "urgency             -0.060775\n",
       "Name: calendar_duration, dtype: float64"
      ]
     },
     "execution_count": 21,
     "metadata": {},
     "output_type": "execute_result"
    }
   ],
   "source": [
    "corr_matrix['calendar_duration'].sort_values(ascending = False)"
   ]
  },
  {
   "cell_type": "code",
   "execution_count": 22,
   "id": "ce023ba0",
   "metadata": {},
   "outputs": [],
   "source": [
    "X = df.drop('calendar_duration',axis=1)"
   ]
  },
  {
   "cell_type": "code",
   "execution_count": 23,
   "id": "9fac1cae",
   "metadata": {},
   "outputs": [],
   "source": [
    "y = df['calendar_duration']"
   ]
  },
  {
   "cell_type": "code",
   "execution_count": 24,
   "id": "9d9b081b",
   "metadata": {},
   "outputs": [],
   "source": [
    "from sklearn.model_selection import train_test_split\n",
    "X_train, X_test, y_train, y_test = train_test_split(X, y, test_size=0.2, random_state=42)"
   ]
  },
  {
   "cell_type": "code",
   "execution_count": 25,
   "id": "58ba45ad",
   "metadata": {},
   "outputs": [
    {
     "data": {
      "text/plain": [
       "(399, 3)"
      ]
     },
     "execution_count": 25,
     "metadata": {},
     "output_type": "execute_result"
    }
   ],
   "source": [
    "X_train.shape"
   ]
  },
  {
   "cell_type": "code",
   "execution_count": 26,
   "id": "0fac3c51",
   "metadata": {},
   "outputs": [
    {
     "data": {
      "text/plain": [
       "(100, 3)"
      ]
     },
     "execution_count": 26,
     "metadata": {},
     "output_type": "execute_result"
    }
   ],
   "source": [
    "X_test.shape"
   ]
  },
  {
   "cell_type": "code",
   "execution_count": 27,
   "id": "547c1bfe",
   "metadata": {},
   "outputs": [
    {
     "data": {
      "text/plain": [
       "460    0.012359\n",
       "73     0.144835\n",
       "231    0.067820\n",
       "175    0.085008\n",
       "237    0.103927\n",
       "         ...   \n",
       "247    0.075107\n",
       "384    0.042999\n",
       "19     0.223642\n",
       "321    0.028093\n",
       "331    0.034693\n",
       "Name: calendar_duration, Length: 100, dtype: float64"
      ]
     },
     "execution_count": 27,
     "metadata": {},
     "output_type": "execute_result"
    }
   ],
   "source": [
    "y_test"
   ]
  },
  {
   "cell_type": "code",
   "execution_count": 28,
   "id": "1ccec645",
   "metadata": {},
   "outputs": [
    {
     "data": {
      "text/plain": [
       "RandomForestRegressor(random_state=42)"
      ]
     },
     "execution_count": 28,
     "metadata": {},
     "output_type": "execute_result"
    }
   ],
   "source": [
    "#from sklearn.linear_model import LinearRegression\n",
    "#from sklearn.tree import DecisionTreeRegressor\n",
    "from sklearn.ensemble import RandomForestRegressor\n",
    "\n",
    "\n",
    "#model=LinearRegression()\n",
    "#model = DecisionTreeRegressor()\n",
    "model = RandomForestRegressor(random_state=42)\n",
    "model.fit(X_train, y_train)"
   ]
  },
  {
   "cell_type": "code",
   "execution_count": 29,
   "id": "8960f359",
   "metadata": {},
   "outputs": [],
   "source": [
    "pred = model.predict(X_test)"
   ]
  },
  {
   "cell_type": "code",
   "execution_count": 30,
   "id": "aad2c78c",
   "metadata": {},
   "outputs": [
    {
     "data": {
      "text/plain": [
       "array([0.08131281, 0.09151032, 0.05471826, 0.10766106, 0.08131281,\n",
       "       0.05471826, 0.05471826, 0.08131281, 0.08131281, 0.19028432,\n",
       "       0.1734375 , 0.05415644, 0.05415644, 0.09151032, 0.08131281,\n",
       "       0.05471826, 0.08131281, 0.1734375 , 0.05415644, 0.1734375 ,\n",
       "       0.05471826, 0.09151032, 0.08131281, 0.10766106, 0.10766106,\n",
       "       0.1734375 , 0.10766106, 0.09151032, 0.08131281, 0.19028432,\n",
       "       0.08131281, 0.19028432, 0.05415644, 0.10568843, 0.05415644,\n",
       "       0.10766106, 0.09151032, 0.05471826, 0.08131281, 0.09151032,\n",
       "       0.05471826, 0.05471826, 0.19028432, 0.05471826, 0.12838739,\n",
       "       0.17734028, 0.19028432, 0.05415644, 0.05471826, 0.08131281,\n",
       "       0.05415644, 0.12838739, 0.08131281, 0.05415644, 0.19028432,\n",
       "       0.05471826, 0.09151032, 0.05471826, 0.05415644, 0.08131281,\n",
       "       0.1734375 , 0.09151032, 0.10766106, 0.08131281, 0.09151032,\n",
       "       0.09151032, 0.05471826, 0.19028432, 0.05415644, 0.08131281,\n",
       "       0.05894398, 0.08131281, 0.19028432, 0.19028432, 0.08131281,\n",
       "       0.05471826, 0.05471826, 0.1734375 , 0.19028432, 0.08131281,\n",
       "       0.19028432, 0.10766106, 0.05471826, 0.05471826, 0.05415644,\n",
       "       0.05415644, 0.05894398, 0.09151032, 0.05415644, 0.05415644,\n",
       "       0.08131281, 0.19028432, 0.19028432, 0.05415644, 0.1734375 ,\n",
       "       0.05471826, 0.05415644, 0.19028432, 0.05894398, 0.05415644])"
      ]
     },
     "execution_count": 30,
     "metadata": {},
     "output_type": "execute_result"
    }
   ],
   "source": [
    "pred"
   ]
  },
  {
   "cell_type": "code",
   "execution_count": 31,
   "id": "ec169894",
   "metadata": {},
   "outputs": [
    {
     "name": "stdout",
     "output_type": "stream",
     "text": [
      "R2 Score:  0.42062462332190154\n"
     ]
    }
   ],
   "source": [
    "from sklearn.metrics import r2_score\n",
    "print(\"R2 Score: \", r2_score(y_test,pred))"
   ]
  },
  {
   "cell_type": "code",
   "execution_count": 32,
   "id": "f7508557",
   "metadata": {},
   "outputs": [
    {
     "name": "stdout",
     "output_type": "stream",
     "text": [
      "RMSE score:  0.061763654550833255\n"
     ]
    }
   ],
   "source": [
    "from sklearn.metrics import mean_squared_error\n",
    "print(\"RMSE score: \", np.sqrt(mean_squared_error(y_test,pred)))"
   ]
  },
  {
   "cell_type": "code",
   "execution_count": null,
   "id": "b2171e41",
   "metadata": {},
   "outputs": [],
   "source": []
  }
 ],
 "metadata": {
  "kernelspec": {
   "display_name": "Python 3 (ipykernel)",
   "language": "python",
   "name": "python3"
  },
  "language_info": {
   "codemirror_mode": {
    "name": "ipython",
    "version": 3
   },
   "file_extension": ".py",
   "mimetype": "text/x-python",
   "name": "python",
   "nbconvert_exporter": "python",
   "pygments_lexer": "ipython3",
   "version": "3.9.7"
  }
 },
 "nbformat": 4,
 "nbformat_minor": 5
}
