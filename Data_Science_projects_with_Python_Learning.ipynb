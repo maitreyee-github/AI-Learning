{
  "nbformat": 4,
  "nbformat_minor": 0,
  "metadata": {
    "colab": {
      "provenance": [],
      "authorship_tag": "ABX9TyOyC1l0mjlVMOVG0aY3ofOr",
      "include_colab_link": true
    },
    "kernelspec": {
      "name": "python3",
      "display_name": "Python 3"
    },
    "language_info": {
      "name": "python"
    }
  },
  "cells": [
    {
      "cell_type": "markdown",
      "metadata": {
        "id": "view-in-github",
        "colab_type": "text"
      },
      "source": [
        "<a href=\"https://colab.research.google.com/github/maitreyee-github/AI-Learning/blob/main/Data_Science_projects_with_Python_Learning.ipynb\" target=\"_parent\"><img src=\"https://colab.research.google.com/assets/colab-badge.svg\" alt=\"Open In Colab\"/></a>"
      ]
    },
    {
      "cell_type": "markdown",
      "source": [
        "# **Problem Statement**"
      ],
      "metadata": {
        "id": "_kj3Udzi2nrl"
      }
    },
    {
      "cell_type": "markdown",
      "source": [
        "# **1. Get a sample dataset **\n",
        "https://github.com/PacktPublishing/Data-Science-Projects-with-Python-Second-Ed/blob/main/Data/default_of_credit_card_clients__courseware_version_1_21_19.xls\n",
        "\n"
      ],
      "metadata": {
        "id": "4G2hnlZ62ETT"
      }
    },
    {
      "cell_type": "code",
      "execution_count": null,
      "metadata": {
        "id": "OuK1Rq8sv7xa"
      },
      "outputs": [],
      "source": [
        "import os\n",
        "import tarfile\n",
        "import urllib\n",
        "import pandas as pd \n",
        "import numpy as np"
      ]
    }
  ]
}